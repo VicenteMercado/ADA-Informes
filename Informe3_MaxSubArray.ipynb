{
  "nbformat": 4,
  "nbformat_minor": 0,
  "metadata": {
    "colab": {
      "name": "Informe3_MaxSubArray.ipynb",
      "provenance": [],
      "collapsed_sections": [],
      "toc_visible": true,
      "authorship_tag": "ABX9TyMqn2CULD4ZhQxKRkkPzkxi",
      "include_colab_link": true
    },
    "kernelspec": {
      "name": "python3",
      "display_name": "Python 3"
    },
    "language_info": {
      "name": "python"
    }
  },
  "cells": [
    {
      "cell_type": "markdown",
      "metadata": {
        "id": "view-in-github",
        "colab_type": "text"
      },
      "source": [
        "<a href=\"https://colab.research.google.com/github/VicenteMercado/ADA-Informes/blob/main/Informe3_MaxSubArray.ipynb\" target=\"_parent\"><img src=\"https://colab.research.google.com/assets/colab-badge.svg\" alt=\"Open In Colab\"/></a>"
      ]
    },
    {
      "cell_type": "markdown",
      "source": [
        "#1. Problema del subarreglo máximo.\n",
        "\n",
        "**Entrada**: Arreglo de números $[a_1,a_n]$.\n",
        "\n",
        "**Salida**: Sub-arreglo $[a_i,..,a_j]$, tal que la suma de los elementos es mayor o igual a cualquier otro sub-arreglo, es decir, $\\sum\\limits_{k=i}^j a_k \\geq \\sum\\limits_{k=i'}^{j'} a_k$ , para cualquier par $(i',j')$, con $i' \\leq j'\\leq n$.\n",
        "\n",
        "\n",
        "Los problemas de optimización son bastante comunes, tanto en la vida cotidiana como en el cálculo matemático, y sirven para hallar la vía más rápida o \"mejor\" a una solución acorde a la situación impuesta.\n",
        "Un ejemplo de problema de optimización es cuando nos piden las dimensiones del **área máxima** de todos los triángulos cuyos catetos midan 10 centímetros.\n",
        "\n",
        "![image](https://www.funciones.xyz/wp-content/uploads/2021/07/problema-de-optimizacion-triangulo-300x272.png?ezimgfmt=ng:webp/ngcb1)\n",
        "\n",
        "Un problema de este tipo son los problemas del subarreglo máximo, la metodología que se utiliza para hallar el subarreglo contiguo a una matriz unidimensional de elementos, el cual posee la suma más grande posible frente a cualquier otro subarreglo. \n",
        "\n",
        "Si recordamos el informe anterior, habíamos visto que el paradigma \"*divide y vencerás*\" tiene la gran utilidad de \"simplificar\" un problema, dividiéndolo en subproblemas de menor tamaño para después solucionarlos individualmente y llegar a la respuesta del problema original. Esta técnica es buena alternativa para el problema del subarreglo máximo, al poder separar el arreglo en partes y analizar cada caso de manera más óptima. \n"
      ],
      "metadata": {
        "id": "ta-cUto6tvEA"
      }
    },
    {
      "cell_type": "markdown",
      "source": [
        "#2. MaxSubArray"
      ],
      "metadata": {
        "id": "kr8RcJ4XIFjK"
      }
    },
    {
      "cell_type": "markdown",
      "source": [
        "##2.1 Código\n",
        "\n",
        "El siguiente código muestra una implementación del algoritmo `MaxSubArray` a partir del paradigma **\"divide y vencerás\"**."
      ],
      "metadata": {
        "id": "JhBR1yMflLdc"
      }
    },
    {
      "cell_type": "code",
      "source": [
        "def maxSubArray(arr, low, high, verbose = False):\n",
        "\n",
        "  if low == high-1:\n",
        "    return low, high, arr[low]\n",
        "  \n",
        "  mid = (low + high) //2\n",
        "  if verbose == True: print(\"Se divide el arreglo: \", arr[:mid], arr[mid:])\n",
        "  left_low, left_high, left_max = maxSubArray(arr, low, mid, verbose)\n",
        "  if verbose == True:\n",
        "    print(arr[left_low:left_high])\n",
        "    print(\"Suma máxima arreglo izquierdo: \", left_max)\n",
        "  right_low, right_high, right_max = maxSubArray(arr, mid, high, verbose)\n",
        "  if verbose == True:\n",
        "    print(arr[right_low:right_high])\n",
        "    print(\"Suma máxima arreglo derecho: \", right_max)\n",
        "\n",
        "  if verbose == True: \n",
        "    print(\"\");\n",
        "    print(\"Se analiza el arreglo medio.\");\n",
        "  cross_low, cross_high, cross_max = maxSubArrayMid(arr, low, mid, high, verbose)\n",
        "\n",
        "  if(right_max > cross_max and right_max > left_max):\n",
        "    return right_low, right_high, right_max\n",
        "  elif(left_max > cross_max and left_max > right_max):\n",
        "    return left_low, left_high, left_max\n",
        "  else:\n",
        "    return cross_low, cross_high, cross_max\n",
        "\n",
        "def maxSubArrayMid(arr,start,mid,end, verbose = False):\n",
        "  suma_izq = float('-inf') #Número real infinitamente pequeño que permitirá comparar para hallar la suma máxima por ambos lados del arreglo.\n",
        "  suma_temp = 0 #Almacena temporalmente la suma total de las posiciones.\n",
        "  sub_inicio = mid \n",
        "  \n",
        "  if verbose == True: print(\"Analizando lado izquierdo del arreglo...\")\n",
        "  for i in range(mid-1, start-1, -1): #Se analiza el arreglo por la izquierda de mid.\n",
        "    suma_temp += arr[i]\n",
        "    if suma_temp > suma_izq: #Si la suma actual es mayor, se consigue un nuevo máximo izquierdo y se define la posición como inicio del sub-arreglo.\n",
        "      if verbose == True: print(\"Máximo izquierdo: \", suma_temp)\n",
        "      suma_izq = suma_temp\n",
        "      sub_inicio = i\n",
        "      if verbose == True: print(arr[sub_inicio:mid])\n",
        "  \n",
        "  suma_der = float('-inf') \n",
        "  suma_temp = 0\n",
        "  sub_fin = mid+1\n",
        "  \n",
        "  if verbose == True: print(\"Analizando lado derecho del arreglo...\")\n",
        "  for i in range(mid, end): #Se analiza el arreglo por la derecha de mid.\n",
        "        suma_temp = suma_temp + arr[i]\n",
        "        if suma_temp > suma_der: #Si la suma actual es mayor, la suma consigue un nuevo máximo derecho y se define la posición siguiente como final del sub-arreglo.\n",
        "            if verbose == True: print(\"Máximo derecho: \", suma_temp)\n",
        "            suma_der = suma_temp\n",
        "            sub_fin = i + 1\n",
        "            if verbose == True: print(arr[mid:sub_fin])\n",
        "  \n",
        "  suma_total = suma_izq + suma_der\n",
        "  if verbose == True: print(\"Suma máxima de arreglo medio: \", suma_total)\n",
        "\n",
        "  return sub_inicio, sub_fin, suma_total #Se retornan la posición inicial y final del sub-arreglo, junto con la suma máxima total.\n",
        "\n",
        "\n",
        "#Ejemplo\n",
        "\n",
        "arr = [3, 4, -1, -2, 3, 5,-2, 1]\n",
        "print(\"Input array: \", arr)\n",
        "init, fin, max = maxSubArray(arr, 0, len(arr))\n",
        "print(\"Max sum : \", max)\n",
        "print(\"initial and final positions: {}, {}\".format(init,fin-1))\n",
        "print(\"Max Subarray found: \", arr[init:fin])"
      ],
      "metadata": {
        "id": "f2jaySmQInPU",
        "colab": {
          "base_uri": "https://localhost:8080/"
        },
        "outputId": "40c558f8-91f4-4500-c2bb-d1de1cf54243"
      },
      "execution_count": null,
      "outputs": [
        {
          "output_type": "stream",
          "name": "stdout",
          "text": [
            "Input array:  [3, 4, -1, -2, 3, 5, -2, 1]\n",
            "Max sum :  12\n",
            "initial and final positions: 0, 5\n",
            "Max Subarray found:  [3, 4, -1, -2, 3, 5]\n"
          ]
        }
      ]
    },
    {
      "cell_type": "markdown",
      "source": [
        "##2.2 Descripción del algoritmo.\n",
        "\n",
        "El algoritmo recibe como entrada una lista (o arreglo)  arr  con la secuencia de  n  elementos de la cual se desea saber su subarreglo máximo.\n",
        "\n",
        "1. Para cada llamada recursiva, `maxSubArray` divide el arreglo de entrada por la mitad ($mid = (low+high) // 2$) en una partición izquierda ($[0,...,mid-1]$) y una derecha ($[mid,..., n-1]$), y luego se llama a sí misma con cada partición.\n",
        "\n",
        "2. Si la partición resultante está compuesta de una sóla posición, entonces técnicamente su única posición contiene la suma máxima y por ende se retorna. En caso contrario, se repite el **paso 1**.\n",
        "\n",
        "3. Se analiza la suma máxima de cada partición del arreglo, además de un tercer subarreglo que pasa por la mitad del arreglo con la función `maxSubArrayMid`.\n",
        "\n",
        "4. Finalmente, se retorna el subarreglo que contenga la suma máxima frente a los demás mencionados, junto a su correspondiente suma máxima.\n",
        "\n",
        "\n",
        "$n$ será el tamaño del problema en cuestión.\n",
        "\n",
        "Cuando la variable `verbose` es `True`, se muestra información por pantalla para ver lo que sucede paso a paso dentro de la función de una forma más explícita.\n",
        "\n"
      ],
      "metadata": {
        "id": "nBfx1mf868oD"
      }
    },
    {
      "cell_type": "markdown",
      "source": [
        "##2.3 Ejemplo \n",
        "\n",
        "Tengamos en cuenta el siguiente arreglo:\n",
        "\n",
        "* $x = [4, -2, 3, 4, 1, 4, -5]$\n",
        "\n",
        "En primer lugar, se divide el arreglo por su mitad y se generan dos subarreglos.\n",
        "\n",
        "* $x_a = [4, -2, 3] ; x_b = [4, 1, 4, -5]$\n",
        "\n",
        "Se vuelven a dividir los arreglos hasta que todos los elementos queden dentro de un arreglo de largo 1.\n",
        "\n",
        "* $x_a = [4, -2] ; x_b = [3] ; x_c = [4, 1] ; x_d = [4, -5]$\n",
        "\n",
        "* $x_a = [4] ; x_b = [-2] ; x_c = [3] ; x_d = [4] ; x_e = [1] ; x_f = [4] ; $\n",
        " \n",
        " $x_g = [-5]$\n",
        "\n",
        "Luego, se analiza la suma máxima de cada partición generada y se vuelven a unir, así consecutivamente hasta volver al arreglo original.\n",
        "\n",
        "* $x_a = [4, -2] ; x_b = [3] ; x_c = [4, 1] ; x_d = [4, -5]$\n",
        "\n",
        "$max. izq = 4  ; max. der = 5$\n",
        "\n",
        "\n",
        "* $x_a = [4, -2, 3] ; x_b = [4, 1, 4, -5]$\n",
        "\n",
        "$max. izq = 4  ; max. der = 9$\n",
        "\n",
        "\n",
        "\n",
        "* $x = [4, -2, 3, 4, 1, 4, -5]$\n",
        "\n",
        "$max. izq. = 4 ; max. der. = 9$\n",
        "\n",
        "Se analiza el arreglo y se genera un subarreglo que pasa por su posición media.\n",
        "\n",
        "* $x_c = [4, -2, 3, 4, 1, 4]$ \n",
        "\n",
        "$max. medio = 14$\n",
        "\n",
        "Finalmente y como el subarreglo medio ($x_c$) posee el mayor máximo de los tres existentes, se dice que es el subarreglo máximo posible.\n",
        "\n"
      ],
      "metadata": {
        "id": "55nfG-poe-gc"
      }
    },
    {
      "cell_type": "markdown",
      "source": [
        "##2.4 Ejecución del programa paso a paso.\n",
        "\n",
        "Usando la opción `verbose = True`, se puede apreciar qué ocurre durante el proceso del algoritmo y sus llamadas recursivas. Con propósito de probar distintos casos, se utilizará un arreglo de tamaño $n = 5$, con elementos generados al azar en un rango del -100 al 100 cada uno.\n"
      ],
      "metadata": {
        "id": "HcSzRwGOlVeK"
      }
    },
    {
      "cell_type": "code",
      "source": [
        "import random\n",
        "a = random.sample(range(-100, 100), 5)\n",
        "print(\"Input array: \", a)\n",
        "print(\"\")\n",
        "init, end, max = maxSubArray(a,0,len(a), verbose=True)\n",
        "print(\"\\nMax sum : \", max)\n",
        "print(\"initial and final positions: {}, {}\".format(init,end-1))\n",
        "print(\"Max Subarray found: \", a[init:end])"
      ],
      "metadata": {
        "id": "QWtgJA9UM9D1",
        "colab": {
          "base_uri": "https://localhost:8080/"
        },
        "outputId": "02941178-8d85-43c4-c7a4-7c10281c9f33"
      },
      "execution_count": null,
      "outputs": [
        {
          "output_type": "stream",
          "name": "stdout",
          "text": [
            "Input array:  [-50, 11, -35, -73, -66]\n",
            "\n",
            "Se divide el arreglo:  [-50, 11] [-35, -73, -66]\n",
            "Se divide el arreglo:  [-50] [11, -35, -73, -66]\n",
            "[-50]\n",
            "Suma máxima arreglo izquierdo:  -50\n",
            "[11]\n",
            "Suma máxima arreglo derecho:  11\n",
            "\n",
            "Se analiza el arreglo medio.\n",
            "Analizando lado izquierdo del arreglo...\n",
            "Máximo izquierdo:  -50\n",
            "[-50]\n",
            "Analizando lado derecho del arreglo...\n",
            "Máximo derecho:  11\n",
            "[11]\n",
            "Suma máxima de arreglo medio:  -39\n",
            "[11]\n",
            "Suma máxima arreglo izquierdo:  11\n",
            "Se divide el arreglo:  [-50, 11, -35] [-73, -66]\n",
            "[-35]\n",
            "Suma máxima arreglo izquierdo:  -35\n",
            "Se divide el arreglo:  [-50, 11, -35, -73] [-66]\n",
            "[-73]\n",
            "Suma máxima arreglo izquierdo:  -73\n",
            "[-66]\n",
            "Suma máxima arreglo derecho:  -66\n",
            "\n",
            "Se analiza el arreglo medio.\n",
            "Analizando lado izquierdo del arreglo...\n",
            "Máximo izquierdo:  -73\n",
            "[-73]\n",
            "Analizando lado derecho del arreglo...\n",
            "Máximo derecho:  -66\n",
            "[-66]\n",
            "Suma máxima de arreglo medio:  -139\n",
            "[-66]\n",
            "Suma máxima arreglo derecho:  -66\n",
            "\n",
            "Se analiza el arreglo medio.\n",
            "Analizando lado izquierdo del arreglo...\n",
            "Máximo izquierdo:  -35\n",
            "[-35]\n",
            "Analizando lado derecho del arreglo...\n",
            "Máximo derecho:  -73\n",
            "[-73]\n",
            "Suma máxima de arreglo medio:  -108\n",
            "[-35]\n",
            "Suma máxima arreglo derecho:  -35\n",
            "\n",
            "Se analiza el arreglo medio.\n",
            "Analizando lado izquierdo del arreglo...\n",
            "Máximo izquierdo:  11\n",
            "[11]\n",
            "Analizando lado derecho del arreglo...\n",
            "Máximo derecho:  -35\n",
            "[-35]\n",
            "Suma máxima de arreglo medio:  -24\n",
            "\n",
            "Max sum :  11\n",
            "initial and final positions: 1, 1\n",
            "Max Subarray found:  [11]\n"
          ]
        }
      ]
    },
    {
      "cell_type": "markdown",
      "source": [
        "#3. Tiempo de ejecución"
      ],
      "metadata": {
        "id": "F_at_ydfWpiH"
      }
    },
    {
      "cell_type": "markdown",
      "source": [
        "##3.1 Teorema\n",
        "\n",
        "El algoritmo `MaxSubArray` tiene un tiempo de ejecución de $O(n log(n))$ **en el peor y mejor caso**.\n"
      ],
      "metadata": {
        "id": "8t-2fmOnWuWR"
      }
    },
    {
      "cell_type": "markdown",
      "source": [
        "##3.2 Prueba de Teorema (Árbol de recursión)\n",
        "\n",
        "Si observamos detenidamente el código de `MaxSubArray`, podemos inferir que su complejidad es $O(nlog(n))$ debido a que la áltura del árbol recursivo formado al dividir consecutivamente el arreglo en subarreglos es $log(n)$, y en cada nivel es necesario iterar sobre todos los elementos para poder sumarlos y hallar la posible suma máxima en cada subarreglo, lo cual tiene complejidad $O(n)$.\n",
        "\n",
        "![image](https://cdn.kastatic.org/ka-perseus-images/5fcbebf66560d8fc490de2a0d8a0e5b1d65c5c54.png)"
      ],
      "metadata": {
        "id": "ydY_VgKJu8iJ"
      }
    },
    {
      "cell_type": "markdown",
      "source": [
        "#4. Correctitud\n",
        "\n"
      ],
      "metadata": {
        "id": "euZtYtRVxYZl"
      }
    },
    {
      "cell_type": "markdown",
      "source": [
        "##4.1 Teorema 1 (Correctitud del algoritmo MaxSubArrayMid)\n",
        "\n",
        "El algoritmo `maxSubArrayMid` retorna la suma máxima de los valores contiguos de un arreglo de un subarreglo $[i,...,j]$ que pasa por la posición media y contiene los elementos de un arreglo $[a_1,a_2,a_3...,a_n]$."
      ],
      "metadata": {
        "id": "kvxNd1gdxc4g"
      }
    },
    {
      "cell_type": "markdown",
      "source": [
        "###Prueba del teorema 1\n",
        "\n",
        "Para probar la correctitud de este algoritmo, vamos a emplear la siguiente **propiedad de bucle invariante**:\n",
        "\n",
        "> *Al comienzo de la i-ésima iteración en cada ciclo for, las sumatorias `suma_izq` y `suma_der` contendrán la suma máxima contenida entre los subarreglos $arr[i,...,mid]$ y $arr[mid+1,...,j]$, con $mid$ la mitad del arreglo $arr$, donde $low \\leq i \\leq mid$ y $mid +1 \\leq j \\leq high$*.\n",
        "\n",
        "**Inicialización**\n",
        "\n",
        "Antes de la primera iteración ($i=1$) para ambos bucles, decimos que los elementos $A[mid]$ y $A[mid+1]$ son la suma máxima en aquella instancia. En este sentido `suma_izq = suma_der = 0`, por tanto y trivialmente la suma máxima en el arreglo equivale a este número.\n",
        "\n",
        "**Mantención**\n",
        "\n",
        "Durante la i-ésima iteración para el primer ciclo, se analizará si la suma total del subarreglo $[mid-i,...,mid]$ entrega un valor mayor al registrado en la suma de la iteración anterior. Si se cumple, el valor previo se reemplaza con la suma máxima actual. Esto mismo ocurre con el segundo ciclo al momento de analizar la suma del subarreglo $[mid+ 1,...,mid+1+i]$ por cada i-ésima iteración.\n",
        "\n",
        "Juntando los subarreglos máximos hallados y sumando los valores consecutivos entre los dos ciclos, el resultado concordará con lo presentado por el teorema y nos entregará la suma máxima de la subsecuencia que contiene elementos del arreglo base.\n",
        "\n",
        "**Correctitud**\n",
        "\n",
        "Tras verificar que la propiedad empleada se cumple tanto antes como durante la ejecución de ambos ciclos, se puede afirmar que **MaxSubArrayMid es correcto**.\n"
      ],
      "metadata": {
        "id": "y0qGNen-WkBb"
      }
    },
    {
      "cell_type": "markdown",
      "source": [
        "##4.2 Teorema 2 (Correctitud del algoritmo MaxSubArray)\n",
        "\n",
        "*Para todo $n$ potencia de 2, `MaxSubArray` encuentra la subsecuencia con la mayor suma dentro de un arreglo de largo $n$*.\n"
      ],
      "metadata": {
        "id": "9X47O9srYcOA"
      }
    },
    {
      "cell_type": "markdown",
      "source": [
        "###Prueba del teorema 2\n",
        "\n",
        "\n",
        "Para probar la correctitud de `MaxSubArray`, vamos a emplear la siguiente hipótesis $P(n)$:\n",
        "\n",
        "> `MaxSubArray` retorna los índices y la suma máxima del subarreglo $[i,...,j]$ compuesto por elementos del arreglo original, cuya suma máxima sea la mayor de cualquier otro subarreglo generado.\n",
        "\n",
        "**Caso base $(n = 1)$**\n",
        "\n",
        "Para este caso, al ver que nuestro arreglo contiene solamente un elemento, técnicamente su único elemento es la suma máxima posible y por ende el algoritmo retorna sus datos, lo cual es trivialmente cierto.\n",
        "\n",
        "![Nuevo proyecto.png](data:image/png;base64,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)\n",
        "\n",
        "**Caso inductivo $(m < n)$**\n",
        "\n",
        "Para un arreglo de $n$ elementos, nuestro algoritmo lo divide en dos subarreglos de izquierda y derecha, de tamaño $m = n/2$ y $m = n/2$ respectivamente. Ya que el tamaño de estos subarreglos es menor a $n$, a través de la inducción matemática se puede decir que cada partición contiene una posible suma máxima para el arreglo original.\n",
        "\n",
        "![Nuevo proyecto (1).png](data:image/png;base64,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)\n",
        "\n",
        "Después, se analiza el subarreglo que contiene a la posición media del arreglo dentro de la función `MaxSubArrayMid`. Como en el teorema 1 se comprobó que es correcta, esta siempre retornará los datos del subarreglo medio para luego comparar con las particiones laterales y retornar el subarreglo máximo, comprobando así que **MaxSubArray es correcto**.\n",
        "\n",
        "![image.png](data:image/png;base64,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)\n",
        "\n"
      ],
      "metadata": {
        "id": "j0BCI8oFYkAL"
      }
    },
    {
      "cell_type": "markdown",
      "source": [
        "#5. Experimentos"
      ],
      "metadata": {
        "id": "nIt3voa9Yg03"
      }
    },
    {
      "cell_type": "markdown",
      "source": [
        "##5.1 Tiempo de ejecución (*Divide y vencerás vs Kadane*)\n",
        "\n",
        "El siguiente gráfico mostrará la comparación de tiempos de ejecución del algoritmo `maxSubArray` implementado con el paradigma \"Divide y vencerás\" frente a la implementación del Algoritmo de Kadane, en función del tamaño del problema para arreglos generados aleatoriamente de tamaños entre 5 y 500."
      ],
      "metadata": {
        "id": "0cGuQ7mKd_Qj"
      }
    },
    {
      "cell_type": "code",
      "source": [
        "import matplotlib.pyplot as plt\n",
        "import datetime\n",
        "from timeit import repeat\n",
        "\n",
        "def maxSubArrayKadane(a,size):\n",
        "      \n",
        "    max_so_far = a[0]\n",
        "    max_ending_here = 0\n",
        "      \n",
        "    for i in range(0, size):\n",
        "        max_ending_here = max_ending_here + a[i]\n",
        "        if max_ending_here < 0:\n",
        "            max_ending_here = 0\n",
        "        elif (max_so_far < max_ending_here):\n",
        "            max_so_far = max_ending_here\n",
        "              \n",
        "    return max_so_far\n",
        "\n",
        "x1=[]; x2=[];y1=[]; y2=[]\n",
        "\n",
        "for n in range(5,500):\n",
        "\n",
        "  a = random.sample(range(-500, 500), n)\n",
        "\n",
        "  #la función repeat está ejecutando 20 veces maxSubArray con el arreglo a y retorna el mejor tiempo obtenido.\n",
        "  t = repeat(setup=\"from __main__ import maxSubArray\", stmt=f\"maxSubArray({a},{0},{len(a)})\", repeat=1, number=10)\n",
        "\n",
        "  x1.append(n)\n",
        "  y1.append(t)\n",
        "\n",
        "for n in range(5,500):\n",
        "\n",
        "  arr = random.sample(range(-500, 500), n)\n",
        "\n",
        "  #la función repeat está ejecutando 20 veces maxSubArrayKadane con el arreglo arr y retorna el mejor tiempo obtenido.\n",
        "  time = repeat(setup=\"from __main__ import maxSubArrayKadane\", stmt=f\"maxSubArrayKadane({arr},{len(arr)})\", repeat=1, number=10)\n",
        "\n",
        "  x2.append(n)\n",
        "  y2.append(time)\n",
        "\n",
        "\n",
        "plt.plot(x1,y1)\n",
        "plt.plot(x2,y2)\n",
        "plt.legend([\"maxSubArray (Divide y vencerás)\", \"maxSubArray (Kadane)\"])\n",
        "\n",
        "plt.xlabel('n')\n",
        "plt.ylabel('time in ms')\n",
        "plt.show()"
      ],
      "metadata": {
        "colab": {
          "base_uri": "https://localhost:8080/",
          "height": 279
        },
        "id": "P_BLtx_BjLRj",
        "outputId": "cdb26017-68c4-4206-dbe4-9c94b27401bd"
      },
      "execution_count": 39,
      "outputs": [
        {
          "output_type": "display_data",
          "data": {
            "text/plain": [
              "<Figure size 432x288 with 1 Axes>"
            ],
            "image/png": "[encoded data removed]"
          },
          "metadata": {
            "needs_background": "light"
          }
        }
      ]
    },
    {
      "cell_type": "markdown",
      "source": [
        "###Análisis de resultados\n",
        "\n",
        "Como podemos ver en el gráfico, la implementación con el Algoritmo de Kadane posee tiempos de ejecución mucho más bajos en comparación a cuando se utiliza el paradigma \"Divide y vence\". Esto se debe principalmente a que el primero solo recorre el arreglo de izquierda a derecha para sumar las posiciones una por una y hallar la suma máxima, por lo que tiene un tiempo de ejecución $O(n)$. "
      ],
      "metadata": {
        "id": "rG_8AXDktQgz"
      }
    },
    {
      "cell_type": "markdown",
      "source": [
        "##5.2 Tiempo de ejecución (*Divide y vencerás vs Fuerza Bruta*)\n",
        "\n",
        "El siguiente gráfico mostrará la comparación de tiempos de ejecución del algoritmo `maxSubArray` implementado con el paradigma \"Divide y vencerás\" frente a la implementación con Fuerza Bruta o (Brute Force), en función del tamaño del problema para arreglos generados aleatoriamente de tamaños entre 5 y 500.\n"
      ],
      "metadata": {
        "id": "7USrQ9hI38s1"
      }
    },
    {
      "cell_type": "code",
      "source": [
        "import matplotlib.pyplot as plt\n",
        "import datetime\n",
        "from timeit import repeat\n",
        "\n",
        "def maxSubArrayBF(a,size):\n",
        "    max_sum = 0\n",
        "    for i in range(0, size-1):\n",
        "       sum=0\n",
        "       for j in range(i, size-1):\n",
        "         sum = sum +  a[j]\n",
        "         if (sum > max_sum):\n",
        "             max_sum = sum\n",
        "    return max_sum  \n",
        "\n",
        "x1=[]; x2=[];y1=[]; y2=[]\n",
        "\n",
        "for n in range(5,500):\n",
        "\n",
        "  a = random.sample(range(-500, 500), n)\n",
        "\n",
        "  #la función repeat está ejecutando 20 veces maxSubArray con el arreglo a y retorna el mejor tiempo obtenido.\n",
        "  t = repeat(setup=\"from __main__ import maxSubArray\", stmt=f\"maxSubArray({a},{0},{len(a)})\", repeat=1, number=10)\n",
        "\n",
        "  x1.append(n)\n",
        "  y1.append(t)\n",
        "\n",
        "for n in range(5,500):\n",
        "\n",
        "  arr = random.sample(range(-500, 500), n)\n",
        "\n",
        "  #la función repeat está ejecutando 20 veces maxSubArrayKadane con el arreglo arr y retorna el mejor tiempo obtenido.\n",
        "  time = repeat(setup=\"from __main__ import maxSubArrayBF\", stmt=f\"maxSubArrayBF({arr},{len(arr)})\", repeat=1, number=10)\n",
        "\n",
        "  x2.append(n)\n",
        "  y2.append(time)\n",
        "\n",
        "\n",
        "plt.plot(x1,y1)\n",
        "plt.plot(x2,y2)\n",
        "plt.legend([\"maxSubArray (Divide y vencerás)\", \"maxSubArray (Brute Force)\"])\n",
        "\n",
        "plt.xlabel('n')\n",
        "plt.ylabel('time in ms')\n",
        "plt.show()"
      ],
      "metadata": {
        "colab": {
          "base_uri": "https://localhost:8080/",
          "height": 279
        },
        "id": "N-perRSNGUbK",
        "outputId": "b9b6eae4-4935-487a-adc3-3b46d6f82489"
      },
      "execution_count": 46,
      "outputs": [
        {
          "output_type": "display_data",
          "data": {
            "text/plain": [
              "<Figure size 432x288 with 1 Axes>"
            ],
            "image/png": "[encoded data removed]"
          },
          "metadata": {
            "needs_background": "light"
          }
        }
      ]
    },
    {
      "cell_type": "markdown",
      "source": [
        "###Análisis de resultados\n",
        "\n",
        "Podemos apreciar que la implementación de `MaxSubArray` con Fuerza Bruta posee un tiempo de ejecución mayor y con crecimiento exponencial en comparación al crecimiento lineal de la implementación a partir del paradigma. Esto bien era de esperarse, debido a que el primer método repasa todo posible subarreglo existente dentro del arreglo y encuentra la suma de todos ellos para dar con la suma máxima, lo cual posee un tiempo de ejecución $O(n^2)$ y, por ende, lo hace el más ineficiente."
      ],
      "metadata": {
        "id": "dEKCS0jRI3HB"
      }
    }
  ]
}