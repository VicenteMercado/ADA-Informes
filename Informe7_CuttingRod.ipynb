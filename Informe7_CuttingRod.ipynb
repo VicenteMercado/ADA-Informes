{
  "nbformat": 4,
  "nbformat_minor": 0,
  "metadata": {
    "colab": {
      "provenance": [],
      "collapsed_sections": [],
      "toc_visible": true,
      "authorship_tag": "ABX9TyMXOa9gbWVxke4I85SyD7oJ",
      "include_colab_link": true
    },
    "kernelspec": {
      "name": "python3",
      "display_name": "Python 3"
    },
    "language_info": {
      "name": "python"
    }
  },
  "cells": [
    {
      "cell_type": "markdown",
      "metadata": {
        "id": "view-in-github",
        "colab_type": "text"
      },
      "source": [
        "<a href=\"https://colab.research.google.com/github/VicenteMercado/ADA-Informes/blob/main/Informe7_CuttingRod.ipynb\" target=\"_parent\"><img src=\"https://colab.research.google.com/assets/colab-badge.svg\" alt=\"Open In Colab\"/></a>"
      ]
    },
    {
      "cell_type": "markdown",
      "source": [
        "#1. Problema de optimización.\n",
        "\n",
        "**Entrada**: Largo de varilla $n$, vector de precios por cada medida $i=1..n$\n",
        "\n",
        "**Salida**:  Retorno máximo $r_n$ que se puede obtener cortando la varilla y vendiendo las partes.\n",
        "\n",
        "![3610_matematicasies-41148.png](data:image/png;base64,iVBORw0KGgoAAAANSUhEUgAAAW0AAADMCAYAAAC4NvLdAAAAAXNSR0IB2cksfwAAAAlwSFlzAAAOxAAADsQBlSsOGwAAYClJREFUeJzsXQeYVNXZxqgg0peydEEFLNFYCYqAYIsKxpaY4m9LsItgQxAM9lip0ruASLHXqLEAKr1t353ee9ndme3v/33nzJmdRUgMLMyye87zvM/M3nvnzr13z3nnPd/5SrNmuummm2666aabbrrppptuuummm2666aabbrrppptuuummm2666aabbrrppptuuummm2666aabbrrppptuuummm2666aabbrrppptuuummm27/veFfm7Du5juw6/GnkfP8i9g6eQJ2vjgZu56bgLx/jIfhedr+0nPY+9JLGhpNEtufex75r7wO68uvI3fyP7DjqfFijGyeNhmbpj+Fb58bC8P051D09BOwPz0R34++A88N/DV2LHoN6R7fujWihg052H3PZLzS5UxcTX++evLpeOOkfvhnu05Y3K03Fnfthrk9MjGrWyfMyuyI2V06a2g0OczMzMRLHbvgtc49MDejB5Z37oVVmd2wqEsGZnVtjeldmmNZj3ZY1rY5Ps/IwPrjWmB9hwws6dEFL/brDIQsvdI91nU7yhv2Fiz74q8PCLKe1+d8TOv1a1xKm7c89jhynpyAwjGPIvTIRPgefBSOcY/APGYMXOMehneshkbTg2vsI3A8MQme8f+A+6FHEH5gLEruvQflo+8EHhwN3HsHKq/7HX7s0BZfH3scvmzVBm+3PhGz2rfCnjG3Az7TOeke87odhQ1B4yBs+xq5o/+OBZ26k1rojeV9TsNHN9wIfPkJBtAh5blbAXsB4DADFguQnQcUmBMoAgoLNDSaHrjv780HjFZ63UWgcWLKBnZtAV75J3afeRa+PrEtPiKF/W6XjnjnrH7YOW40Xr3sAmyZPkWbR3T73xsK9i77csxtmH56T8zp0B7re5+Mwpv/Arz7HnVE6nzmLHSgwyoiVhT7zCj22hBzO1BipU7q8KLG4kSVjWC3a2ikBdU2+VrhkChnOK0CFQ6r2Fb3eKcArPI19TzVNqtAlV19VoL/rt1H32N3oszhEn0fZhMRNRG4KVegeOl8rB02RAigpW064632XfD5+RcASxcAWT/gx9fH477Bp2DT0jc0aev2yxpcll7YthEFo/+K2T064pnunfHS6afj27v+BnzyKSlpq1ARVfnZqHFZ0IY+UkKvMRcNBpcDpTYLqtwulNttyYGioZEOMIEiQaZM0jEXiQs3wWNGqdtMf5sT5F1L2LC6qI97iGAJZoLDibihCNUmIl8nnc9hQ7WdP2dCzGEggUKzylgQ8aJsOsaAGrsLEaMd8UAMMRudy7QHyP8RWDIXX/z2Irzf7WQsPKYdlnQdgCUXXAJ89S+pwD2FgDcL384Yi3HDeuP7eS9p0tbtvzds24ydjzyEN7plYGHndninX19kPTQW+OBjUtZmIut8VOXsBVw2IBykAeDEifSxUocDZU4nKpwuxK0WVAvStkhF47BraKQFioxZCSvSVihzSqjjyomcGaySq5m4FUgxg/ozPG5UWsyIFuSh1GxAtdeOSvoBKHOYECzYixo2DTrljwScbqCISN5QiKr1S7H4t6dhBo2nBe3aY1nbLvjywqHAOx8BBXRMYQ7iHiOixQ7E/Tn494wHMH5Yd2ye/4ombd0O3LD1J+y9807M7twN83v2way+p2H7mCeAb34A9uSQUuDpnZE6JHVMUhkxmwkhixF+qxknsNImwk4lbbgkafPUMd0DV6PpooxIlGeAom/aE2YPCxGw2SVfiZQrSBnz/lKXk0SIHVGPVOKMMlLiTMKx/EJErTRzDEdQGYmizONHlcNHY8FHyjpAIiWEuMuNKu77RVnArg3AotfxxcAzsIyIemXX3pjZtw9WjboC2ECzVVs2ETrBQcfT91WzWdHnoPGShe9ffwCThvTEjjc1aeu2n4a8bbZ/33MH5vQ7GYu79cTbp56BrLvuB774njpkmDoWdewiIuvCXFIFOag25qPMZhTmkIjLgYjHWYe0K0mVlFs0aWs0DDBp82yQCZnJWShnJmw2fVg8pKg9dJwLsX1IO+QzI+g3IeIl4rbTrNLnR3WkGGGXF3aDFQGrmz4XRFmRG9VFdD4D/Rjk5ItxUr12KdaPOAdv9WyO5W2bYWmrDth02SjUrFpBY2gHEMpHsS8HZVEnIk4zKp0WOROg8VRjzcGmNx4m0u6NrW++qklbt9qGzZvgeOBeLO/SGSu6dcGc7l2R9cijwPbd1KEd1Lk9KM4ziIWUyiLqjE5WBA5B2BE7kbbPiVjQh6jXLUi7NDG1TCXtSpsmbY30opa0paJWZo8qm0ssFEqiloTNooP7sPyMHUGfHX7q58GADwG7AyX0+QqXj9R3gJR2mJRxMQkTIn8bjZeCPGDpInxy7q+xont7zG77K0zv3BIb/3Qd8NOPwA4ia7sBxPao8RXRLDUHpV4nqvwBMcaqHQ5Ue7w0boqwacajeHJYX2yYp0lbN2o133yOjff9HXP6noT5rVthfY+e8D/wEJH1dlIJhaQYihC32FDq8SBKnRjFpLYDbsSshQib8lDqpqki/R2iKaef1EHY6fgZaUvziINI26RJWyOtEOYRZbqzS8jtckGSVTWjNGFCkXZtVt7U/4mgQx4SJsEAKWw3KW5pXqkxUv82Wwn0mpcL07TXsOC8s7HypJ5Y0PoEzGvXGttvIrL+4iMgeyeQz2tAZhI9FpSYcxGzF6Da70BFMIhilwdV9B3V9AqPn4i9kJT2WDw6pAe+WqRJu0k3rFqLH6+/Gct79cbMNidi2Rn9kT9pPLBtC3U8UgkGAyoK6TVEnchnQ5AImhdrgqYihC1FKPcSCQe8QpUEE2Rd6vMi7vMlFiITizhO6vBiIdJBKsSkFyI10orahUh7YiGSbdUmggHF3kISJwYSIiaxnW3fMe6/DlLS9jDNKktQbgsTSLyQiOE+XUPjATQ2sHMTws88gdWndMf63l2xoF1bTM3shq/+fBuwabM0lViJqM1FKA3aESl2C5s1kzWLoLjDQhNX2h6JoJSUfJnbDTg8wjVw26sP4/GLu+LjxS9q0m5qDTbTOdi4ESuuuQZzTj8DU1t3wJpTBsD78Djgm6/FwmJNUYGw1/ktJiASJIIuQNxpFMRd6bUi7rYIv+uww4YIqZZSr1uqcBoEjDK3B63oq+L22oVIJu0qNqU4tPeIRnohXP6s0qOD+yK7+UW9BkKhIO2YuxDlLgPtMyf6Kq/F+FBlDRHhRgFjgMYJKepcUsumfOGaZ3/lGaw4bwDmtzkWa7q0ptfm+OH31wLffUdkvgdwegG3HxUWuyDjQNgDd8iFiN+Nch+NH6cFpX4XgsUheEKk4onES5w2UtnsbliE7GmPYvLQHvh8qSbtJtXw/jp8cdllWNAtEzO6tMWicwdgy+NjgY0/0FQtSJ3RRR3RKBdmkj6saqXdKjpxGXXoMurQwkWKCJlVCNsBGeUpYD/teMLlr9zlEn7alR6XUBNlmrQ10ghB2mzGYM8PUr4lViNKvBYJl4mEiQ1lpIZBhFptYU8RIk8LwUF/FxjlZ/OzaEa6CbEXJmN9/z5Y0a4llrdpidX9T8X6K0YAmzfQMbtoXNEPQIDO67MjTDPSqDtM3xMlkRMQQqeYCDvip5kqKW9v2AlnxAdX2Ce2lXnswqQISzZ2vHY/Jg/JxLcLn9ek3RQavvse60ddh5c6dsS6/gOwtHsmXOMfBL56jxS1VByBnCKa8pGC8BTTdM8hlIjyYy1LRoqZpQIhSOKVq+8MXsRR4L/bJkibiT1OpF3M/tlel1AUmrQ10gkZXMMkbBexAzV+L8qJQINGE8IGE6pdXkHQFUbq60V5pJCtJGhyAQMhl4g4ZyeCL03B8tP7YkmX9pjf6ngs6dAO3195OfDl53QsqW9LLmJe+jHgqOAIEXbAjiD1f78vjKivGBWuACpdHiJwN+1zIhBi0rbDQwo8EPTQ7NWOCo+VZqestvdiyxv3YdLQTGyc/6wm7cbc8Oln+NeVN2B+x5MJfbHgpAHIGkvKettPsgOyHY5Daa0GVNJUrMTpEAstxe4gKWef9GG1mwkGVDgZchFRRJbZZSh6anhvMsSX0DYRXMOLOWxKiSZJ2yYWgtI9cDWaOIQYYXOeDWGLXdis4SklZRujfhwBnAHU2Em8kECBm11bfwR2fYOy58djTS8SP21aYGWrlpjXoyfWjRwFZLEJhMaKNZdETT5qAvQ5v1GIIrZ7s3CJ0g9E2O9D1O8XJsSKBGkXk6ou8VmFGue/4xywQz8UlW4SOLS9xr0bG2bchwmXdsaP8zRpN7qGYNHI8m8+wOobrsHcAadjRttuWNn71/A8+g/gx+0yIMZG0zuvH1GrFaWFBTQFNKDaIxdk2AMk6GYbm0fmSSC1XeUwCcJm84gi7FTSFoRtqSVt3ifC2OlHgN2kSjy1pM3+rWkfsBpNGkzWbC+Oe5yo9BGBOjyIFjlRavCi0hJEpdmDGqNNLMTDzDbrn+B8fTKWnX8yXm3ZDKu6t8KSjFbYddMNwGefkvLOImFjgtOUjbIYEXHQjEqvGTUuE6lkm5i1sgcV27LZbs2ooPestJmgWVXHea2IQX/zcYK0PSaU+c21pD0sU5N2Y2pwGgfhsw/w/e9HYk6HDMxv3x6rzzgTkRlvANk7gMJsUtXUCYtIDZhcKKGOyX6llf6QINMKIuwqNyluVxF16gJB4KySmbxjpLq5Ywt/VeqIDJWbgRPmiEWdBMSKPG1n75Goy4aoR5I2m0c490il1SHIvqIBDF6Npgnlp+0zFKGSM+3xeo47QP3Tg2IvzQ7Zd5peWeD4Jz6LFb1OxeJOnTCnazvMPr8nPnvwFhpP0rsKdlLTHoKbc4TQKxEv28mrU0yGTNhVLqdYiGd7eSUJmRqHm+Ch8eYmApekzWqbFyAZpfS+zMuL99aEeeR+TBraDRvm64XIo77BajonuH4tPvjzn/BSl66Y07YLvjnvYuC16cBmmtLl7yTVsBsVfgtiAVLD/iDiVu4sYQQNDngMJsSITNntqNxRRB0uhzphkVhsZP9r9hktdfqEuUSStlkSd0p+BplUpzbLGe9jP+2wx4YIqQgeCEzawn5ocQhFrklbI13gdRYOACvzcuCKR6RKrdm1iwQNEbGNXfc24N/j7sPU0wdgUfeT8Xb3U7CwRx9s+9sdwI5vaHzkw28zwu/3Uv+2oiZMY4cTRNH4qbSySSQowtnZbl3mpnHj8aKKvq+SSdst14eYrFlpS9LmRUdpHgkSYTP4Pdu0q92k1G252PL6GEwa0h3fLvinJu2jtaEo9ynMn431gwdjRo++mNalL1acOxThqXOBbXuoc+2ROaw5j0HIK0wb3tzdInoxbjUgbjcTgftAPUSYLKJGzkxmFoQrPDwUObuUWcSazHjG5g/2KGFSL0tJZym8S1ih0/YWbKkhpRBKkHYpL/w4OUOaQ5hSlCLX0DjSYNKOkKoOkNCocVplZC+NDXzxMQJj7sWyLh2woksGZrY7ETMG9MU3948Gtm8lgncn1m5cKA/6URmLotjjQpj7sjeAmlAUUacXQVLXJT6/sF0Xc4RwwIsSv0dEO7JJhkVSiZc9RzzCXZa3sdpmbxHezihj041b2sNhz8ePb4zF+GE98dWilzVpH43Nt2YV3rlsKKZndsIb7Tvi/QsuQcnz04At2UAekbGBOqEvgBARZbnPK/JYx60mImiPSB3JU64ymgIyeZfZOM+BQ0wNK91ekeBGZuezimPlAqRBeI4I0hbhvp46pK2IuyyRMU2RdthjEUqbzSOatDUUUoNbxIzLWduPVF/6uS9/bfSiyEvttNeBdE2tzdS3b25sGfXoEmY+XqsBkWiVgdSxsQDY8A1y778Hy3p0xdITWmBN+7ZYmtkBhjFE1ttIWdto9snJm6w24V3Fs9QYES6rbQ4mK/XS7NUfRcjup9lsFCXBMEI+N8L0HYyQn4jd5xIEzyQdI4Wu9rHLnyBtGpNM3OwGyGD1zaTNJkUm7R+mjsUTl2rSPqoa3KZz4nNexZeDz8ab7Vvg+S6dsXT4FbC8+oZU1ZzrIC8fZQXUCQN+4R8tQ3BddUJ1Vec+0MCQn0v8nTqAnNY6i5D7DsS6g0fatHmxh+3icVILsURq1koi7+Rg1WiSEC53nH/donJayxzWKpd1mchnbU7pn86kWyknc+LXErsUA2GHicjSKAptFNPMLuqhc/hJrNC5ePGcc+PARf3VbBcurTF3Kco4k59xF7DzG+y56zYs6doTK9sRYbftitk9emP7mAeBAp6pElk7CsSCIps1mFylX7Vb5Nlh5SwCyxLBZQyplN114XOmHC/f83mk1wipb69dmEf4ldV3sdeXVN9sUoEjFz9MG4MJw7R5pME3OGwt+TW0ejkWXnQ+ZnZtjzU9M/DJ2aehYu484PsfSFVTxzQaUGUqRJWP/vk+B/wWg5gCcmeXHV1Wy+C/VeayQ3W7Uwnl1d/7kjZHRCbd+1yStFOLIKSbODTSh2REolWStloHKdtHJNQVFbUeSwwhBAhlXpdIpRAjJeszFyBAEOkVRCIzM+JcmKPIQIKmUHo4GYgEd+3Gj3f/H2b0bI+FXTpiZa+TRPrhvaPvpX07pCuswyAWAqVXh12ACZeJNuKvS8IHg1oitx+QtNlcwvfCpP3j1AcxcWh3vRDZ0BveeQtrTx+Aac2bY3nfflg58BIUPfcyKYQsYDfBnEiwzrkMLAWIeeRiI3ttxFJyBSvfaTWtlBGOhzbwNGlrHCy4TwjPJFdt0qba6jAuYTeu21+lO2rMrdZYTCLxGC98cyKzmNkmxAk8QQm7n5Q1nc8bltudnHqVSHvjlzDf+xe83a0dPuvUDctPaI/5A07Fd+PullVkAnSMOw+V9gJRfamKrlEuEkpbtHDFEwuI8m9N2rolm23pHMw//9dY0rsbVmRk4MvfnIeyl14nFVBAqtpLndon81nn7EUN57Smf26l34Ggwwg/TRfjNH2rOxhqiVsNmkMdeJq0NQ4W3D9CRFwMlR61lrDlzJC3yex6dmnzTiyMx9wG4dlUZTPJvBxunyDmeJEN5UZHoiQYLxh6ZUoGkxXYsQ3f3v5HLOrXCcs7NcPats2wpnkbhP42BvhhIxH6LoQ8u+EO5CBeYiPytKBGlBBzCn9qNn+wOYNfmbSrnG5B5Jq0m3ijeV3/6iVvYvWZA/BWZlcsyeyBtedcCO9LrwE/bQOyuJKzSbjMcb05kALg8l4cFMMJnNiWx94a7GbHtj4my9ppqAT7VKuFn0MdeJq0NQ4WirSDPmmqS11kVOY7ZcJTfViZUdRiI28vzi9Cucks1nCqAwGU+6R7ncgTYiRS3/g9cv52K1ad3AVLM1tgYeZxWHhKe2y74yZgE5F1URFgyEK1twhV5W7Ei10IGnJECTHYCHYOfpELhhxaHgxIbw9W3FppN/HmWvwmllx8Nl5tdzze6twBH59xBmLPvkAKIYs6FikFnuL5Q4hz5Wf2mzabhOteWWLxJkyvfpo6MmlHfdLWx4Nj38AXSdr7W4D836FJW+NgoYJbGGrWV5ZMkWoWAoTzWjM5ywAuZzKnDee05iRlHLAizB5EsBUWA4o54561kAiOyHrHZmx8YDRm9euJeV1aY0HHFpiWcRzy7v0LsHsDEfoeIG8nEGKvDRPCziK4jNko90uvJrh8grA5+KU0Qdr+IBO3DHwp1jbtptlg87TEwuX46OLLML9rH0zvnInVgwehZMlcIHubiLSqKshDDXXKoNGIgMko7GvF+XnCv5pXlrm8F6+ax8NexEIehKijh+zmfVS2NVl5uk4CqEMceJq0NQ4W/P+vjaCVrqVs9ij1FKZA5rSWtm/OWRNAqSOMmD2KMntI9jkLkTQRO0chwkik/d2ncDx2Nxb3bCuIelaXE/Hmr/tj0yMPSps2kTv2bCGiNyAWd8ERMNKEtQDVUT9QUkzbfcKtjwsQcG4QVtlxTyI/iE8mdvIT0QeCckFSk3YTabAZB5WtXIblgwZhRveemN2xBz6+8FLE/zkd2E4KIJ8TpRtRTKohzivVTulqVBWQ4a417JxvM0ly9LkSbk8WcRzn5eXIKybGWpUtSTsZrSgSu1v1QqRG2iD6ponAIeRW6ZqnSJtzWav0v2zDZp9/YS5x+oi0Q6IQQTWv6bB5sCBLZt/b9A2yHh6NhSdnYn7bY7CqS0u81acTdvztz8DOn4j0zCKjH4sfxEsRcJphDttgjbtREg8iQONN2M9tDlQHgqT23ZI8fTJ5kzKFFPvtIhsfQ5N2E2hwWXr5Z76O9weejzfbt8LULm2w/opLYJv2GpE1TdUsXpqyUUfMJdjCckGGzSEiy55JJG1iwg35rKJOHU8tZT7rur7VMmpRpltNVdnKLKKCXzRpa6QLQkywCUJUcrGIRcUKmjVy6TqRy5r6Ohe25TUbJmdeFCy3mATYzx9MvvnZwNYfkH/XrVhA4+m9zAwsPrE5ZmV2xN6H7qOxtEe67tlJYXOQmFtGGwb9EXiDEZEC1RuS5g6VWY/t1eyDHU6Ekkf8+5KqFcUBmt36Zci5Ju1G2mCx9jLPmo13R47C1B49MC+zMz4f/Ftg4Sxg4xdE1nli2lbJWcW40rm1GBV5bprO+ZLFCJi4FWlzrgOOMlR+2MmMe/Z9bdiSsLGPWUQoF03aGmkE99XK/ALUsP+0zyuSKXEBW16z4eyTwt3PTP2F+kwFRyyyrdpCBO+g17xdwObv8c0fb8SiXt2xjP2sO3fCMhpXnnFjgT27gew9It1wlZs+75G+1kIpExkG/FH4A1EEAr4kYZd6laJ2J4sSsCmEc2AzQXPyJvYoEX7bPpN4X+rVpN0oW+nMWfhi4FDMa5GBaS064LMR1yCyYCGwd5e0sRG5gXML8BTRYhBkphLJVNEUsMImEzUJm55YTbcK1Q1SJkzQInAmmR41haz3IWwZvCDJtNSl/bQ10gvuE5V+lwiM4dDuAC+Q+6IkPsKoNgZQludAJQfBcFVyFjX2LFLNO4ANH8D491uwpnsHrOvQGkvbtcbiM85AzpRnaIaaI1IOx9lkEnKgxmUQqU1l9jxJ2CWeAOJurhjjS2TTkwRaIdS8BPtgixwgpKQjASvCQRJJXHnGLwmbFy7lD4Em7UbT4DGdkzv9ZUw7oz8W9j4JKzr1wpYhVwJvLiGyzhd+ozVms1jo8BWZECnkJOvsHeJCia0QQZrOlQe9gqh5pVzY8vjV5RIdnglbFAdl32urK6UAQW3du9SFR1X5PJVQNWlrpBPS5Y/gd8BHfYRJu8wVQonRi5jRJ/J7wOUHCgqlGeTbz/D5H6/GnJPaYXHGMTSmWmB5j85wP/kEsOVHwFBAY6cIpVEaK1EPPI4CoYY5n4f0p2ZF7ROeIMpGrUiT97PST5K2W5Iop0ll0pZIkLZXKveKBMFq0j7KGwLWjKrFs7H+rDOwpG0HrO99Mt4/byCc/3yZVECeUAHl7A1iZiXMVZZDgDMkUjhyWS4uw8U16ng6FvJJ23XUI2s0pkY2yo7vTCnxVVdp1yHrRHUOCWcdHOrA06StcbDg2V405EW8JCTqh3KOdU4ZjGAQQYdZEDAMJHB++AnZd9yLd3r2w+ou3bC8W0e82b8jPr33Zln2KxKgz5BqdxcAYTNi3gL4nQWojAcTdmpPIv2pTMDEBClJ2J4kawara7nfKfZxvUY2jfB7VaCgzGNN2rUP1TSiSbsBNO+yBSI3yIutW+KtjM7YfsllwLQ5wNadojAnuyaFiJTZXsaEC1LPlUV2EbVV4aRpGinvsNUk8obEubN4jIjQVIx9VjlxDpOwJGSVP6S2kG5tBRlp065L2KmFeWXyKPmZlGizg4QmbY2DBa/HOMwGlAVlSa8aFjVZe0nY0KzTlAVkb8ZHd9+GN/r3w/yO3bGsXXcs7NwTFrZZ528TJBaL+GAPuOG0FSBsz0OFtxCVPlmglyvDCHOIV7rucVQjEyDbpqW5wyqIutYcIglUFdhlMGGziUQSam0o+77JnzRpH0UNpsI/FE96EmvOPgdTO3TG9M4n4YMR18I/lcg6K09O7Swmka9XkCfnSSAVXGaT+RIqiHj5b+7E1TRlY39sJltOocqBM5wKtRbWOvmsmaTLUjxH+BySRK3JkF/lJVK6D2lzWlXG/jL1/S/QpK1xsOC+yHZlFh/VXE3JTQImm5Tz+reRd8sNopQXY0GPDMw+8xT8+4G/yVqmbib4ArlYyaqY87wT8SFCs9ZAUCxmct3FqF3WWpSeIHJRUZGwqAjDaR9ctSHqqceJrHsJklah6iqzH4Pfy8VLTdpHVTPOm0XTtJOwtEcXzGnfCRuvuA6YvRzYvAcwU2cgwo7YzCgLB4TCDpiKxCq5iGY0WVCTSHLOxQa4GEE5V3VxOKRdTfhYW/dj5qgt71WdIG1enEzap/eT07rUXVdpS5OKJxFdpkm7ScOZKFqRzGNda0aTs7BaKJfSWliTQqL8P35+3++V52LRATNnp2RvkGzg3//CjttuxYru3bH4V8fi3Y4d8P6Avih8mMg6axOJn72ochgQ4aIeJTUoMThEIeqYrUiYNTgYpthMhGyl8eMLker2Jci4VjmHE6TNRMjuf/w55S2iFiX5eJkS1ZlMFFWS4gYo8197NGkfLQ1FWXN9Lz+Nr4ecgxntjseUzE5Yd/1NCM5dAGyhKRu7LxmMQl2zb6ny1BDEqmzJDlct9lkIrDgA/hNZqoGy7zH7JoivPcZ5wHzY/ys0aR/FYNJ1Guj/UiiDWtwmETYuff9loYByuwS/50VwGXZuT4SXm1HN+a6tRaJieJTIsyzgQthhk8eaeVbpEImV+P/NYE+QOPW7sIkrsbiAvTRmvv8X9v71L0L4rO9+Kha37Yq5vU5GwZPjZT5rLn3nLBReILz4x+q4yukR5xWky4TncSbd9VKhiJGDYFLDzuOeWqSSZ6rZ44DHeOtHZWvSPswNhqKRWydPwLzzz8asbh2wuEMLbLxsCLBqNXW6TTLpDBEySDFXmgpFNZhy6sgysY29DmHzgIglqpwfqk053dCkfRQjSdoy6jCWMKfFEv1UETaD+6xM4GRPzNxkkYKYtVBUPwIRYsxuFv/zMPtWewK0LSwJ32RL1ASl2WM2ETAvwhvNwHff4suRV2Be5/ZY2DkDy3v1xsK+p8Ly5CQgh47LyxIBMeytweq4OEUBq4XDQ03YlG5o0j4MDS5rRtmr/8TaU07BsoxOmN/zJLwz7DJEl64AsgtkalTqpOBFQvabthhIXRQhTp2tnEsTJUhbqtzENDNFaWvS1kgvaoOzat1Gf57CN7U4QZWIzjWLV7Ylxzw2EVfAVWF4Ub3aSJ+1uEUu6yqucO4tJsWc8JbKywfeXYNd11+GNZnt8H6HzljapiMWnH0mdr9EZG3eScfnI2raBZKzQsEL97uEiULZkllF10eWvXRDk3Y9NuTlPrWDlPXLmZ0wt0NbrOrUCT8OGw4sXAbsKQSyiKytHsDA5pBC6qg0fSN1XUnqg6dwnHWv2GmsrVWnCM5e10aY/kF7aNCkffRCrIdwtjyuGG7zJHJZE2lb7CkBWeZEQWdJ1Mm0CFa5IB4wmRC0Mpl7xToJzG4aC/x5j/COEj8CBZzzncbMJ5/h3UsuwuJu7YmwW2B1+2Pxfu++iE54GthKs1XrTnjduxEsM6Mk7kSQZgBsd2ZVzQTN4edsT5ah5QkCrwcPDk3aR3lDzs4f/U88hve698aadp2xvk9/fHv1KJQuWUpkvYc6IJG02SY7uMMjUkLW8KKGy5Ksb1ciclnb6lQpVwVMG1tdRE3aRy9kNXKfANusZWStylktEzgxRPQtB3KxWYPVtEWmSOUo3UpfKRFqFHG7jOCt9vlkSDoHf3FAzJ5twL8/xcZrhmFpl1Z4u1d7LO7RDtP6dIL1+YnAlo0AjRsEqV/4DSiPORAKmOG1FKAq4BV2az4v+1pH6Nz+oE/kC2H4Q+5DTtiUbmjSPoSG/Ky5e56bhKW/GYDZbVpgTUYH7Bl+OTDjTZrSGUQEIyda52lgKRcjpU5aWlgkPD84NSq7HXE+awYHwzBp84NWlaBr/ac1aWvSbhhg0g55XQLJeqEJbxJOk1qeJG1zogCvXVSVYUXN6pzTpBZb/Six+cSiI/fzSiNXNs8Bdv8IbP43Pht1KZYP6Ir5nY/Dwq4tMe2kdnC89BRQRALIyd5UJpS4C0it5yBsK5ABLHQ9cRfDTWKIfayJvNzS3zrs94mc1q6ITPQU0aTdtBpswZbYkhfzjJuMdWcMxBvtuuD1Xj3w1e23ILR2MbCXpmwh6tB7d4uglhqHWyZdp1/98kKa7gUDKCFFUkwPlB35YwE5XYtyzgJ2RbIrwrb+zH0vaSNsAIP3UKBJ++iFTBzGBQdMiHol+H1pogYjq23ZXxOmFCLSqIuVeQAhd0i8MqGW2an/W400VtyAYS+wbgl2jRyC5S2b4WMi6qnNm2H+Bf1hXThNVIhB0EE/BAYEzbkojnvgiziE1wnnh4fLK0qHVQYCgrRYXfMr+12zx4hU3YkMfPWQzzrd0KT9PzRs31XgHj8Zq3oNwFvtemD2CZ3w08g/AqveoSndDsBrRmnACrclF1XFfkE4ZWaz8J/mrGOcl5cDYJicmaSTcNnECjtXiRauSXbrz/KAqNSo9ZHPOt3QpH30QpCyo5AIMV/ksI56DSIClyvGpGaATBK2W6ryEJsq3B6xvbown8YKVzfPQ2z9Knx841WY16sDFp7QDO9ltsT6fpmIvTIZyN0q0qMyIXF5sSiX6yqJwE4E7vTTdwV8ovhAudEm4ggqgkGEfG5R2ivi94iIRhZNPMPlOAYZvXjoYeTphibtX9BQVDTSPnEi1vYfgEXt2mBOmxOx5abfAytXAlk0rWP/USMpaotX2OyKhW+qXbg3cVpUkajJZk4Qrz2ZyzoVaoGxTm3GlHzW9ZkaNd3QpH30Qi4sGqh/EvE6DYha8lFGatnvsghyjnhcIrlSxEZCxe8X/8O43SgW28s4RaqBbdZExl9/is3XXYX57U7Ayk5tsLBzO7x51qmwvvk6YM6RuawdBuG+x2KHybfCFaD+HxLnL63jDSJLezFRy2AXuejIBFeRyKnN5wCNIxFl7Dm6ibs+Sfv8889HixYteDumTp36H0n9lVdeEccdd9xxuPDCCxvmDwB25X793V33Y0bfAZjToxeW9OqBjddcQVM5IutNX1EHzJEdwUYdyhZAhTWMuCUgiFsEGiRsfUzcVXYVQWZPCVKpCxW1eCDSlkEMmrTTff1NGdwfweHjnKvabkEJpwX2+xB2OkR4eZnHj2Luw6EAgvlZqOGyXlY61pwtzSCfrcP6ywZiTrc2mN/mOKzp0RnrT++H8mmvy+AyPqfPKYiXiajKlSBcXrR00tgi4o4nSLtkH5SmBK/I4Bi7AIefs3cWuDiCJu06bSUJT6a6448/HhdccMF/JOJTTjkFv/rVr8Txq1evblikje3bCyyPPIl3+pyBVV364M2OPaijXYWqD9+TRO1zyOmd1YSKogKUm4tQTaQi8hdwxJWtbj5rES3GhUadCdUtSLnWr/XAxQik8ubBwmSmSVuTdkOA6KtuL2qCIfp/JWaXRdR3TS4i9ETWSK4cY8sjst4FFO0EPnwb/xp4HlZmtMLyts0wp10zLLvwTFinE1nn5AozR9xAs1FOSuZ2J1HmVmo6kbiJTSVBp/AC8SeqxzBZs1kRdF1M8Ez0wqQStMMbtgoEQyo96qGnRk036ts80q5dOzRv3lyQ8datWwP7O2bjxo1iPx+XmZnZcAgbeXvW7H56IhaffRZebdmKpm5dsPv6PwBr3k2GmXOyGReRtZeVhcNB6tosXJVqaHpYxfZmu7SvcVQX57Mu5iQ0bpewWdchbYsMSEglbSYkRdypniM8UCRpy/B2Tdoa6QKb8UrcfgSsRJgWUrhE0jU2L5GDT7qzckqGwjzptpe7A9j4L6y9dBBmdW6LdT26YFnr5vjorJOBmS8C+buE6x4XNQiHfAhw4rNIVHh98GIlK3f2s2bfalbMXEiAc1NzcVxvgrSDiYV8QdoOqcrZHCJJWxK2J2KFPywz9HGu6/pIj9qYSHvMmDGCkI855hjcdddd+z3m5ptvFscwJk6cmH7Sxk8bkPfwA1jcvSsWdeyIefRL8t0fbgI+/UDk5q0qzEGl1SjyWZcWmBBxelEcCKGcwOqap4w1VunmxL7XrIa5tBcvMqp6jKm1GGvzV+8/F0gyf0iKGUUledKknf7rb8rgmWPIywVsI4C7WOZ2LzJLkwkr68LtQAGR8ftr8dHZ52PJCR2wpn1XrOzRA8sG/hrOGf8kMmfbtknaq70GxAJF8Ljy4PaaEAyze14AfhpbgUBALipywiZ/bbku9v5QmfNEwMy++UG8UpHLMHaZ8IlVNxfV5VftPVK35ebmPnXssccK0j7hhBN+dkx2dvYbvE/Zvk0m0zmHnZQP1LBn75odT47HzP6n4JUTW2J5l0zsunoU8PZqwFiEmtxdCFvzURkLI2CzECnT9C9cijhNCaNO6jCktIttRCRWaXvmRY4qEdkoV9M5pzWbRWSHryVvpaZTVXRpCvZN0qRs3rWLlukfvIcCTdpHL3itJuINwW9xoSzfQuRrJRLOJdImIs7dDHz7PuYNOQ+vdGqPJe074e0O3fHeab8B3pwL7PwBsBfJ0Hd/WOQd8RfuBkpoLJQ4ECVlHI16RTAMIxD0CFOITI3K9RZlzcbURE/Kti2JvDbBU2qKVH7P24OJoruatH/eLr300qSSfvPNN+sc9/zzzyf3jRo1Kj0qG9s3w/HYGKw4+2y81D4Db/Q4GT/eNhpY9yGwlzpgTp5cFIlFUWo2IGokFREKoqSoCDGDWaRJrXA6EHfYhJue6BhuWyJdqlEsOtYitWxX7YJjqkcIK3IuuMvg9yq7X22OB1mAoFxk+NNh7Om+/qYMMWN0e+h/YhPV0OFzA9t/AlYsRdZN12FOy+OxulcXLOrbDfMvPBOeBdNJiWfTeCoiZe4RM1N23eNSYSgpQQ17mNhkLngQUUfM+bLCi88iiFrCnsyUx14iFa6UqjIJH+xSb91Cu2wH56A2GR3pFtfMn2VzS2k9ZdtrTKS9YsUKscjISnvAgAF1juvQoYNYqGTq3LRp05Elbfy4HV/d/yCW9snEOx2aY/kJzVF49Uhg0Qpg41aZ64AzihXki9px2LNLvjeZZAYxfl9Ex+RmyVy+BbStkJErw2+LcmSpo/ysxDFZ8j0fJ5CXQE7tZ3lh08ARYQnw+6I8+V0K+Qkkt+U1AqTcD/vtFiVAz+8U+lcJu6jYViALrxpo0Oen+5o1ZF+kMWCkMbH7J5QunoW3hgzCtK6ZWNKhPVZ06oTV/U+F/4WnARv1fW8BovZcqYDdXhS7/SgpDsElSuQRgbIftcePCo6cpL95tsrpVMu8icrlPlkNXXqIeISduw5ppyxUlu6HtFPJnYlbeZ6km3gbGmlz69GjR1JRqwXJxYsXJwn7rLPOOnKEHVs4Ewv6dMXsdh1FvbiP27fF5t6ZKPzNmbANHgTzJYNRQMgaOgR7Lr8U2y4bgi37webLJfa3LXXftn2wv3OlfvanK+pCbh9GxxwIBz5nQwff10/0jH+4fAQ2XTECG64cge+vvBzfXXU5vrnqSoE/UgfZOPJafDViGH645nf4athgbL76SvxEx/Fn5bNJ/700RWwbcSm2D7kSWy68CO9mNMc7mSdiamYXvND7ZMwbfAnK334HovIS27jthaKyuapqzqRbu7DorEOwZUlzhiQiZZeuu2hYS8q12H+q1dq81vvmyj66CftwkvYTTzyR9MO+8cYbxbEJN0CBOXPmHDnSfuvC/ljR4Rh81DkDa09ohVUnHI+327bE2ow2WNexLdZ0aI3V7VtJdGyDtzNaY1VHiRUHwCqNgwI/u7c6tcbyzm2xvFN7LO3cHou6ZGBhZgYWCHTE7dRBprVugfm0b0WvbljWpQPe6twByzq1EZ/Vzz99eKdDW3zYoQuW0f/oq1bN8GHHZnj7wgvg5oIenMmPZk0i+lAQcW0xW0kyjYM0043DRdrbt28vUK5/J554ItauXZsk7FatWh1Zs8g3d1yHBb1PwAdnn4yNVw3Htzddh08JH/7+Grw/6nf44Lqr8cH11+DDG67F+4T36P27N0isu3H/UPs1/lfws75K4L0brhJ/r7vxaqy96WqsIay++Rq899cbsGLUZXj3jyPFvvf4mV93Od7//ZX4+CZ5jvTfR9PEh7+/Gl+PvBLrzu6D1b2PwWdD+wJ7fhQxCzX5u4GgJGX26pCLh7UudqmVYTQaHmlzGzp0aJKo+/btm3yfcAs8Mg1OW0v7rMmYd0FXGCaOBgzUsXJ3SRu0sDlnSxsyR3gZ8+val00a9Q7O5mbYQ898t3xlGLNkJW2GmVBE/x87/S8sdGzudlJvuxLH7U285qT/PpoqirJEVfMPbxmB+ee1wmd/HUh//0T/Lxo/ITtifmuKl0Zdv2hN2g2ftFetWiVc/xLKWqBly5b46aefjqzSzpo1Aa8P7YXtrzxMRL0RsBUCvHrtppuiGxTgcFnaVuOwyArPKeDc16nYd7/G/wJ67i6TyFshXhlui4RH4sWH76G/zXKbM3FMgP9XZhkSzedI+300UfD/wroHy0dfjX8Obod19wyhbfQDHCHy4GAWd1EyWnHfYJYD2Z81Gg5pc+vcubMga/bd5kVIzk9ymCn65+3718Zi8rDu2LxgIimC7ah0GYXNrcLrRbnHI9zrOLqxhKMcXfRAPK46KN4H++7X+OWI0Q8lu0eWuyTYZZK3lXgcIl0to32LX4lK9DGfPD5qM6OS9svjbYnj038vTREVXHzAlYMF94/EpItaY+U9Q4kYdqLUY0DIVYSSiFvkrmYfa5X342iPQGxoONykPWHChKTKZiTykxzZtmfpCxgzKAMfz3yE1NpuVJNiY7/fSu6EbqfwBRaFP71uVNONV/jcdVC+D/bdr3EQ4B9MH3UwgQBNqyVKCc2po8QDQVSEI8JNLMoLW3Q8/7giHEj/tTdhwGMTuURWjf0jXrm0Gxb/329JCGWhxucQeT34x5ez7TEkqdQuRKZWLddouKS9bt064UFCb8E+2oeZnvffNs95GhOu6IOP54wnUt5LMInCn0rtcU25isTfHPDC7/mmNQ4PhF3To4IdZHWRYm8giZbNjkXU4ycCDyHsdAny5lzJXFcwRj+26b7+pgxhriJVPfvWK/HSRZ2x9q7hgNeIuKFI5Pyooh9XmTOkljwU0aSGm2s0XNK+5pprBGFz2PrTTz+dHtLeMWcKxg/rjS9mP0kdbg8pbIO40f8EES6rUe9Iqi4VfswdzSdr+SkcRx2mmKuQEDh6LsjpbMNBYZriaj9KwWkcedSwTduci7f+fiP+Oagz1t05Qua/dhBB2BwiWjjuDiTStDqFABJV0TVpHxWkbTQaB7Etm96KCEmLxdLrCFD0z9uu2VMwaUhvfDOTSNu1h6ZxJtQ67h8YMnxW4/DAmSRvEWzhq00A9MKUSSgN+xFwkLIO+lBKnTEe9MBnNYiE++m/9qaLSl4ctuZi6d034gWhtEdILx+nAzX2uqTNJkdF2nXJRqOhkvb48eOTaVr/9Kc/pS+b3943p2DK4N7YOG0i3UQWkbYlSRQaRxh+2dlqF6h+vkjlNuTLEmz0Ps5E7jSLeoBhp0G88jnSfh9NFEwQTARz778RTw/pjBV3DwfsOah2O0Q+Hl7YL/EEhHkkVWlL4tbBNQ2ZtN95553k4iO7/ZnN5v5HhqH305i0n7m4N36YSqRtyxELJmparnFkwcpadDSvJcUctY/dNB4VxY85z7LwFnGZqQPaUO6TnTPVrKJxZMHPH85cvPng9Zg0rCOW3UOk7cwS/x/xv/KxqSsgzFyKPPYNKU836R3tOAyknTSH8Gvbtm3x3HPPpTdnNptHnhZK+0mx0s2LkGoBLBU8pdM4vOCEPdyh+IczicRCMCeyZ4Q5KVfAj1KbSSwMoySAmMOIcrclQQKetN9HUwX/n5gI5jygSHuYIO0yn40UNsHvQdAfQNjvEwQj8ogkVLYm7YZJ2m3atBHeIq1btxa1H+fPn5/+Ige8EMk27e9mPCnMI5VcIDfhvZCKuMYRgHs/XgnOxFTaKbK2TX7gAdT4vWIbp2hFmAjAaRHKm/OTy8Gf7vtomuDqTLBlY+F91+GZSzKwcjSRtmMPKr1WxDwWsVAcDPgEcZckTSHufZB+4jua0SSqsW+e/zTGD+uJr2fVLkTuu8DySxYmNeoHHHQRSSStT1YfSdpNPWhz/LEIuUh5F4eJr13wu0jBhTyIRXyiIlC6r78pQ3qP7MWqv4/Eq7/NwPo7h4gISXANVBfNhLwuobJTSbu2+K4nhcg1NGn/h8ak/cSlPfHVrInUubJErt79rYyne0A0BfBzZrIOB2TF7SQSARkMdvkLcrWRkB+l0QB8bhuKuQwVr0UE3fp/lUZwqlWYduOdu0Zi6oUZeP+OBGm7a0mbiYNt2opYal08G0cRgnSjSZD2tnkTxUV/M+MpwJknvEfS/eCbMlKj41Jd/xRaEGlHXA7EaZpdTmTNIe3s8hcmNRcL6AGfTlS5uTj1biy/eyTeGJiB9+4YJkyOMZ9D2LR5IVLavz3SQ8jHY80uP+9JmCI1aR8SmgRp75g3AZOGdMe3TNqOAmnTbgAPX2P/aHcckbbTiupoUIRFhx2k4AIeVIR8siJ9A7jGpgrhp23fiyX3EGlf2JFIm71HchANOhAl4hY+9R6PrCbjrVvXUZN2/UCTtkaDw5MP3YfyoFe8Z3/tqkhAvDJxa9JOLzRppx+atDUaHLymQlSG/UJhM0mjNCKUN6vudF9bU4cm7fRDk7ZGgwPKSgRJs7IWKVuJuEWaVp8r7dfW1KFJO/3QpK3R4PDzMHZJ4Mq2ne7ra8rQpJ1+aNLWaHB4+emJwqYdspsFSbPC5le/xZC0dWukB5q00w9N2hoNDidwEQRS2AzlPcI2bn6vTSTphSbt9EOTtkaDA5M2EzS7+CmvEW0eaRjQpJ1+aNLWaHDo0PxXgrQDVqNYhFQmEf5bm0fSC03a6YcmbY0GB1baEZHdLyzMIYqstZ92+qFJO/3QpK3R4PDck4/JzpmwYbNtWy1I8vt0X19Thibt9EOTtkaDA9uxmbD5laFMIjq4Jv3QpJ1+aNLWaHDgBUh+5dwjbA5hKLWt/Lc10gNN2umHJm2NBgf2x+Z8I8qWzSTOphEmb0XoGumBJu30Q5O2RoPDlMfHJV372D+bSVz5Z2sTSXqhSTv90KSt0eBwIhdBsJmEqlYZ/mqKQyJCUgfXpBeatNMPTdoaDQ7s8sdmETaPMFGzWUQljmIST/f1NWVo0k4/NGlrNDgwaXOmP0XWrLLVAiT7b6f7+poyNGmnH5q0NRocWhFpc8i6cvlTi49s32blne7ra8rQpJ1+aNLWaHCYNO4h8cr2ayZtVQCBSVvbtNMLTdrphyZtjQYHtfCo6kKqbH/KXzvd19eUoUk7/dCkrdHgwIuN7ObHC5FM1sr9L/W9RnqgSTv90KSt0eDA5MyKWuXQ5m1KZeuEUemFJu30Q5O2RoODsmmrXNrs/qfMI1pppxeatNMPTdoaDQ7tjz9GeI9w7pHUwgc6n3b6oUk7/dCkrdHgoPJpK3OIStGqE0alH5q00w9N2hoNDm2PbSZemaBVoih+Vco73dfXlKFJO/3QpK3R4KAK+7K7nzKPMHHrGpHphybt9EOTtkaDwxMP3CNs10plM1Grogjapp1eaNJOPzRpazQ4qPzZbNdWypqVt/IiSff1NWVo0k4/NGlrNDgwMbMpRKVlVYuQ2jySfmjSrg+494Nf9llF2JK0635WkrVTPnuPG2VelyDtzW88iElDM7FhwbOatDUODkzErJz5VZk/WFUrUuZXDmNnsub3fGyqNwkvSCpzCR+jcpTwNt6nzpcaQckqnX8EVOAO/608UZRXCu/j7QzO562+l4/h6+H36prUcXyMuhferq5HJbxS+9Xx6hg+F5+Tz63ujb9THafuT12/Mg2pkH6+F2UqUuYjNTM5nM8HfoInD3NuvxxTB3bCmr9eIki7Mh5E0GURpB2121Hl96MySEQSoOv221HipOdD22NeNnt5Gu3z+e/9x4OQg/p8MITyQAhxX4Dgo8+zULGJ/fL52BBx098Bt0BZyCsQctIYoR/HYjpHTaQMxZ4I/C6amfq9qDTm0P+GflR9fjgLjKiIRIGQFRteuAOvXNUTm+ZP1KStcXDgzsw+1yiNJEPVeUAweNA+/ejDychHDmfnQaEGI7/3GAvqREyqZFK8jfepwaMGK5+TB5EatPydqYNdnYtf+fv4Vf1oqNwnqgADn0slruJzMvg9b1PfqQKCDnScIiY+p1pw5b/5O1OvQV1TKjmoa+d74XPyudRzUWR2OJ9P1JRHJJ2Ntx++WSjtj/5+BeDOg99tQrHfibCTflRDREikqMO2QgTtBUQyNtpGzycQQBmReVnA12ifz3/vPzZUhOnHiIg1aLUL8A9ZZThI3ymfzb7PJ2A3CZT6+fl4UWw3oJxUdMRK1+ArQTQSRwmRNl0k/W+KUGK1AuVVcFlNqKYf1B1v3I9Jv22LjQu10tY4SCilyu+ZnJm8feai5HauXMODhzt+qmLijq+SSHFnVgNOQQ0S9cOgUrty5+ftqf7eSmEpVceDLbVCjlLVKqugeq8GPl8vnxPx4uSMgf/m8zD4PW/jfXwM/82fUYSwv3Pzd/J3q/zhfJ7U60i9dj4Pn5PvTd2nSqZ1OJ8PIkQOph2Yf9dVdcwjxSGnMI+UEfHEaHoeNBpRFaLpeRmpWhcRjoueTzAIv9lM5zI12ufzS/pPsccFr5lmDaEA3XupUNmp/SdoNtCzI0Imniqh2QtixagK+hAwFSHupllokISD10w/jNwXQwgEo4gE6BrpR7LckosSL107HR/2m4FANra8dg+eG34Svlk0XZO2xsFBEZ/Kja3s1zw43IZ8kU+b/1ZTVD5GmU3UtFZtTx0Yap9SRvwZZRfnQZG6kKl8v9V0l3841PSc9/M0Wak//lsRsbomNSvwmgrF55Uy5HtQeb95G+/jY9Q9qmm6GqDqHvi7+DtTf9T4mtQMQ3nSqPsUgz9BenxevlelLA/n84nZimgMZWHVmJvw4lmt8O7tlwrS9jiKECOiiRABMWmD1HbUYSByyhHmEbavhmxEgLSdVWVjfT6/pP8Ue+kHpTggTB0e88/7TzWp6YjdKBYSK3xOBIyFpK6JvMMkYIi0yxy5pKppJkHEH/EF4A2H4XCRuo7SjMFDpE/XFOT79VlJaWdh+7RxeOHy0/DJ1Oc1aWscHLjz8kDlDqoSQfEA4U6Lipjw0+btaqCoAa5qRqpp7f5skrwPJeGkzVERvRoYakCxqlMDTykqZVNX6ixVXbGCUvZ3NW0WA4zOlXqtqT9Majsfo65ZfZ63qym0UoVK1akfKHVdipD4mhVxKcJT03dl0+V7P5zPp8ZHMyNfARb87XeYcVEm1v3fUMCVK2zaIRpXrLQr/H7EXS4iHzeqi1kxmoXSZvOIWohsrM/nl/SfeJA+46MfnqgbVcV0rMcqUB7kmYD0CKmk9zF6ZgzQjxzouZbTDyLYI8RrRIWzkJ5tlFR2GJaoF764B1FvNh1LYyUSRDQSg9NF9xIrwbcvP46xZ2Vgz+J/atLWODioAcOdmgcHd2h7frYYDEzmHBGpFiDV4OXO7irKq1MUIbUgghrcah8TvRps6li1MMTfy3ZJZX5J9f9W9kdFvEpd8fXwZ9XiFysnNQhZUakBz59Viom3KcXGxyr7vLoHRQjqe/g7lR1Xfb9SinytfM1KrSkSSb1Hdc+H8/lUe23CPLL47msxfVAXfPi3y4XSDnjMYiGSlTaTdshkEmRdFrQL23bM7RAqm9V2yG5ttM/nv/cf6tdBB3w26sv0zPh9wE5K2msT9uqQ3SjAawD8zMJWEyr9HkHeEZMB1WyecRhRQgg6SMHTs/bG/AiW0g+ePwel9j0o9rkRcPvhtNN12wz47pXH8fzw/tg6cyLNCKwZ6ebjX9Q0aTcsKCWiBgUTNnd+HsCP3Tcama1PQLe2JwrFrTBhzP3JxT7G+AfvRUaLY5P7+T1v4308OFgt8YIm7+MfAX5lswtvE/tjUTGQHr//7uQ5WiXw7PhHk6v+fI3PPfmY2J96Ta8/+7Qw5aC8VBDO5EfGCFu82s/veZuw2dMxfCx/Ru1X5+Jzqyk3fyd/t7oOdSxfI18rXzMfw/eg9qt74218z7z/cD6fDoSZj9wplPbrF2Rg/W3DMOPx0TiOtnduewJaJO592pQp8BpI+VWEBXn/Y1zTeD6/uP88NwFuIz+fiFDZkx59EC1pe4sEWornM5aej5OeT5yeTyGmPjNF7Gt2TDO0z2gjnvmzT44XhF/mJXK35eC1x+4V15BxfDO0odfuhNtPOQaPntsBc0ffqJW2xsFBLdKoAcLbmLR/f/mluOfWP6Fo9/bkopRa9OHjlJJV01qlglKnr8r+qNT8viYNpYhZtasfAeVelhqBqdSyUn0qpF4tVCkFpZSZAu9X02IFdYxSY6nnUupd3ZtSnWpKrUgm9ZrVeVNNCepHUL0/XM+n3GkCXDmYd+eVmHlxV+nyZ92DeLEXfodcXGM/bXb5i3lYeRvEK6vGErdbLEZWhAKN9vn89/7jEX7r7A4Z8/A+qejZzs0LlGXhgEDU60oiRCqbX9n0FGG1XxyEi/2xQ1EUOxxCeSNgBgw7iN+yEdn+DZZMGYN7fvdr3Du8D8YN7obF914Hz+avNGk3VahOr3xReZtabVdTSTZ1qGmjsvelEh13aDaFKFufmibrMPWGDR1cc2hQ0YpliUAYDoLh51Hi9YiIxojfgwD/wIXoR4qI2k+EXcJCgV0h6fmWBOiHwUMEHWUvFTfK/EGU0Q8jrETYuz7BvyfciheGnIonBvbC2KEDsGryPajI3nD0kLVqmrTrF6yKlesVEy6/V/6oytbLNj8mZZ5mpi428XZT1i7c+39/xvCB5yWVFLt9KdWt0XChSfvQoKIWK+j5lAnI5yVI20szCx8RNNv+ibCLgz7E2IvKT7PTgB2lpM6jbiMqXPmoduQD7A9O48m//Ut89MJDeOz8TDxzYQ88N7gftrw6Acj54egja9U0adcv1CIhE7BamGOCFvbJqjKhppmsRWAAHaOONezZgTF/ux2dT2yOR+/9uzCDsKsUn1PZh1lxp/v+NA4MTdqHhngizLwiQdiCtN1E1B4fEbdPEHeU/azZNEKKnO3VpT4r7TMj7jMBIROqXTsB1w7U7PgX1j1yK5679BT846KTMGXIWfj+pWcAs6V/ujn3kJsm7fqFsgGyMlZmEEXSbOtjErfm7hWKnI9X0WWjRgzF3X+9RShtFerLtmtUxpO+sbzAk+770zgwNGkfGhRpK8TVM0l5NsIN0WNDhc+OKn5+pKorXHmAlxS2ZStKd7+HFY9dj8nD++GZ4f3x3IhT8R0pbRjyxqWba+utadKuXyjbNJs7RLAAKWwmaEHAZSVJOzera3WMslmrUHAVnMJKW9nI1eJjuu9P48DQpH3oiHtqkZo0Stm7K9n9z2UE6NlVW7JRZdgK+PMR2fYF3v3H3zB5SAe8eFlXTBh+Gr6a+Qzngmk8ZK2aJu36ReoqvgooYPOGimIs2LkVY0ffieuvGC6OV6v2KkpMBaSwTZz/VkEWbB7Rdu2GDU3ah47UTH0yW58zkWLVLp5vhaVA8BSsOUJdI/t7rJt0Nx74bV+MH9oXL1/LPtePAIVbA+nm1sPWNGnXc6dLCUxgcwYTLxM226gfuus2dG/XCs888QjM2bsFwbMyV+5byh0q1U87NcObrgHZsKFJ+9DAJF3st4uFRX5llPjs4hlVeCyocZGoMWXRuHIjtPFjLB7zF0y6/Cw8ckEPTP/9hdg28x9E5KZz0s2ph71p0q7njpfwR2aSVWHoTOJXDv4tpjw+Lhniq/yVVWY0/qw6Vvm0qsVKpdy1y1/DRmMhbXa1k+52//3YfZXx/lB7XgV30p1PnoPJ2SpehTdIwiOkxE8zVa8BNe4C8Rxh34PwhvexbMyfMeGKc/DU5b/B86MGYfOMpwHbjl3p5tIj1jRp10UqYaaSrgpUSA3dVeG9KlxXdMBEIITKzKeCH3TR3caPxkDaokCA8txIkKuEsjNLKELmsPA68Dt/Bj4uLlz5aPYZCCBup212lwgoEqQeJIIOGhHyGFAaDiDgoplqkIONzETYe+kZbkPg83l4597f4cUhPfHUeRl4fdS52LXwRU592/hs1v+tadKuC2WmEHbkknAy54NK5KTyO+ybKEep590/fI8brhwhTCFqm/LVVpnWNBonGg9pu5MVXlIJO5W0GT8j7X2IOrWKjDpv3OEQqKDjRYrVhMteacBM5yA4zUDYA9A2WHbC9fVKLHvg93jk/AxMGdoTr149AFlzJgLmzUevn/WhNk3a+wy8RHgtv2fTBC8MqoAZlR+abdUqBJeP5/zW2Vt+wK03jELvju3w/ITHhQ1bJUzic6WmudRonGgMpM1IJWmBRHa9OvDs/7PS1GFPLh7KHwDlay3D3VHqR7m/CMW2vajxG1HmMiFspWcXCqDGng14suB6fwFW3DUSLw4+FZMv7IXptwzDtzMnEZnnPpVuzkx706RdF2zWYCJWeYaZuHkbmzzYz1rlSlCLgyq8/JJzz8KTD90nPEWUqhZqPZHEXlUESff9aRw+NA7Stgv1qyCu7wCkrVAbdl5L8EzYbA6pE9Uo1DgX2eU1nDxUeHIBn4FImgQRV2sqyoLni+VY9Pcr8dyl/fD80H546dJfY+sbTNYFt6ebKxtM06RdF4qElU1a+EtXxpOh6UzmbCZhEk5NQK8S/CuVrnIbM8mrhUaVUEmjceLoJ+3EgqDfIq6tFoq8rYncILX5QcoStmqFKhc9B5e0i5cKsnYnzCTyvPGwE15bPoltB8q9NsSL9gLm3Yh+uQrr7rsOzw/qhGcvzsALo87Ad29OBAKFf0g3Rza4pkm7LlKTz6cW2VXmkB+/+hz33/5XEXKuoh2ZxBkq4ZPKfMZEz+dhpFbu0GicaAykLUnalEAtaUvirquyy/YBh59XOXwC0iTiSdi4mbC5jiOp6mIXYo5ClHP2PVLdvg2fYcG9f8BD53TC0xd1xcxRZ6JwIXGRZ2sAlbaW6ebHBtk0adeFMmGwklapRFl1F+7ahltG/g7n9Osr/KxVikpF0CqikRU2q2+lqlVyKBW2rtF40VhIm/N4xL0WgaSpxJu6iJ4aqZgCIuoyVwQVzog0i3il215xwESQ540Ubhc5QjxfvIW5t12Jxy86CY8N7oN591yPvPXzm+7i4v/SNGnXhVLXqdVWWD0POe9skYg+tRo2q2wVtZha+ZqhQtJVrT7epsPQGzcaA2kLE4jXkjSHSLK2SxOHSJNa6y2i/lYQ1+8OEXmHZOInj1XUZazyFIiq9HBmIffduVh4/w14YnAvPD6oB2bdOhxG2oZirap/cWuMpK0y66lyXUyW7LqnFhhVIVEmWVbCqqpHat06JmPlqsfnVJ4i6b43jYaLo520VX6PCre0W9d6iCiypusL0MzTaRN5rDk1qs9uFPdWWcJ1MM0oD7O7rFVUTY9ZikSOEBi2I3vhM5h10/mYcmlPPDIwA2/83zDkfjAfiFh6pZsDj7rW2EibyZaJmslWKWJBzIm0qCpxk6qxl1oBhBXzzo3fYuTwIaK8kipEqnJfq/p2Ghr7Q2MgbbWgWJbIuCciF5PeHx6EXA4UcxZKrmHpssg81lwD01GEsiBXXcpHuTsLKPeIosab576EqTdcgmcHn0TogTl/HAjz+mlAXJP1QbfGRtqsrlMLkTIpM/myjVpVLlcJmcRAS2Ta2/D5x7jxqstErbppLzwj3PuUOSM1OjLd96fRcNEYSHt/RQgUaUu4EXZZhfdHZYSO8VlFDcYKv0m68Lm30T1vwqY5j+Ll35+BFy/vi0kX9cTMPw6H9d2l2mZdH62xkTYTq/KvZnsyK2vexm57asGQ1biyRfNnmMyHXXAOXpj4RLL0lwpZV6SvFh7TfX8aDReNgrRTclnvL591ud+JmpAblWz7tuej0pGHarrHGjuHm+/E1qWTMeP2C/DUiEw8NbwbXrv5XBjWztBkXZ+tsZG2ImxWx4pwGc7C3GSuat7Odm3RUYmYmZBZWSv7N6tvVSpM2cOFWaUknPb702i4ONpJW8L9M4gQdKHA7ajyWBEzZQMuTuJEytq2C/DkoOijRZgy6hy8ODwTT557LKb/9UIUfLZAk/XhaI2NtBnCf7qsRJCuUtNM1EzGX76/DtddNkyEmrMSV0UKVCBManpUlXOEyVrVcEz3vWk0XDQG0k7NJ5LMZ60Im+8vRPdpZKLOJ77YjW0LX8Sz1w3E2EEnYfKIUzHjxt8g9PFsoNgwIt3c1mhbYyRtNm2kFh5gYt7yzZe4ZthgnH/aqVg5f7ZQ4o6CnKSrHh/H25iolf81n4e3q7qPOjWqxn/C0U7aTNKcFjUckK+p+azFvbkMqCjYDvgKsXP5VPzj2gsxYUg/TBl6KlbcPgLOdbO1sj4SrbGRtopoVO55TLps+rjwjP5YPHOq2MaLkiJxTaJYLh+rfLOZwJU9O7UYgVrcTPf9aTRc1BdpH1o+a3sCzqRvdWrJrv1n7FO+2PYkaTNh8/XV5rPOonvbjezVb+KFPwzDvRf0Fvms59x2DYwrp5Pyzn4j3VzWZFpDI+1Uc4VKvqTIkvcpM4Z6ryIWle1aeYOk1lVkMwiTs/b+0DicOHTS9iX27y+fdV0iT+azrpO72i5CxhmymID0reZK5nzeClHpnAjbYUOl3yUWFYMOI2IBEjnFbgScRYh4XKLiebHHjEpfERAiwjZtxN6lz2DerUPwwuWn4pHzumDmX0fA/cXbtF8HxRzx1tBIm8FKWKVEVSlNlQLm98qrgxcX+XhF2Gxz/vDtt0T04qtTJgm7NpM2H6cKGaT73jQaLw4/adf9vp+Ttqz4Ist1ORNRi1LBq+9FMIhquo5iiwExlxmIehC0F8DFZbxKfdIrxJIPBOhezLuwacFzeO3Pl2DC8D54YnAPvH7zQNg/mE3Hmoiwta91WlpDI20mVl74Y5JW7nfKC0QtFDI5q8hFVtH8+unat4Xb3gWn98PC6a/LTp3w1ebzKW+SdA9sjcaL+jWP/Pe81qV14ExGLfKrTI9qTaB2f8RJqjrgBcKsuo2kugtRE3CgOugSLnywbiP8hN1znsHU6y7BCyPOxRMXDcAbt10D85erkzbryn0U9s233Y5mxx2PY45vzsegsPDn2flyc3Ofatu2LY455hiBO++8U9vAD6Y1NNJmkmZTBr+y2mbiZuWt7M7KDY+JmF/5by6SO6BnVyybPSPpT63qNKpFRPU+3QNbo/Gifkibz1VLxvvNZb0PVKpUSfaJ72CPjwRp83ewvVoocT4+xMmdLIKweXGxxpqLKiMpbUcWdi14CrNvuUAExPxjSD/MuuUKWN5f/ovI9bTzzkWzY5rhuOOOw/nnn/+zz5x11lmC0BnnnnuuJuyDbQ2NtFXeEBUYkxoQo8LN2exhy8sSipvJnbexkmaSZ9JW3iD8yr7XKs2q9v7QOJyoD9JWRW5L98HP81nXgt3xJGQua0ZtJGPdfNZR+k6/w4Bo4rOg93Dmwb52Dl4feTaeGdQZEy5sj8X3XQX3tyuAmHHQL+WSnLzcF0488UT86le/EsR80003JYn52muvRfPmzXHCCSeAj9m9e/dHh4XQmkJraKTNCpmVMZM0K2YmXZFRj4iat3/x7hqhqtl2rRYiVcY99hJR9m+VVpWJXdV11Epb43CifpS2ymlt2Q9x709hp5K3E1VOJm2PSJPKC5BsLpE+11aRI7syZEGlzwgaDIgV7MCXs57DizcMw4SL+uCpQb2w8t5rEf1mKY2nvHGI/3LCVu2zTz4VhN2mTRuhuBctWoS5c+eK980SKvuTTz7RKvtQWkMjbVXuS+WmZtWtbNb9e2Tid0Muwvsrl8m0p0TU7GGiCgwoomaSVqXAlAugSgyV7oGt0XhRX6Qd309q1Lr5rGtR1+4t6zEypJnEnUz0xMQt8mObdwKeXdhC437K7wbg6eGn4qlhAzDj/0ah4KMV9UKmY8eOFeTMRN2+fXvxnm3YrLJHjx6tCftQW0Mj7dTkTMrVjwNjLht0Af790XtyYTEWTSpq5eLHnibKLMJkrdz7Uklbu/xpHE7UB2mrBcTaxUZ57jr5rPdT8bx2vy/hheKW6pvOVeU2Aa5CcS0/LX0JL/9pEMYN7IRnL+uDZaSsfZ+/Ve9EOmjQoKSybtmypXgdOHCgJuz6aPVN2oogVQVz3qY8PlS6VGWfZtOHskezDVsFs6gFRuWzLZI/karW5g2NhoxDJW3eV+51JVOjxtwc0JVAwjOkPBKCk/PmcD3SgEvksy6PehEPuxF0mYSi9lvluKtglz72tS7YgB/fGItp158l8lk/9tuumH77lTB+Uv9krZrNZmvZrVs3QdbHHnusUNy87XB9X5Nq9U3aipRV0QG1UKhCwlV4OBOzSsrE5M3lvHjB8ON3VgozyJolC5KBM7ydz8mfTffA1NA4EOqDtGUATCLTnstNxF03nzUHvnDxgXjUj5KAQxTKLfaZ4bPlEaHbRU5rhGhMefIA83Z8N3MCnr7sFLwwvCcm/7Yj1j0wCsF/1Y8Z5L+10047TSxKtmjRArfccotW2fXV6pu0WRUzCSs7s/KnVqHgwjOkrEQcq7xE+FhO5HTGST1w8W/OFITN25mklW1aJ2zSaOg4ZNJmWzQRdbnTnQiw8YltbO5Q+ayLSXVzPuuQM1F412NAuY/GXITe2/cgZv4JsHyPzYuexKs3n4UXrjgJky7pirm3jkDxt+8dMeL8y1/+kjSPsNLm188//1wTd320+iZtVsXsV61SoDLRMmErMKEr1ax8st99awl+c2offLZudR1PDxUNycfowrgaDR31RdoCKYSdGngT89iAWAhxZxFKLHtR7coHvKSqQ4WoNGzAhnmPYvLIvnhiWCdMvqwHFoy+DCUb1x9Rspw2bZog6VatWonFSOU50qFDB2Rn6xwlh9zqm7SV2UP5S6uQc37Ppg5lq1YpU5m8URFLZtNj2zXvUwmamKxZZdvzs7WftUaDRn2EsZfQvpKESSS5OJnIZ13OMQoBGmOGvai0ZIFYHfDnIbbrS2xb8Sqevf43eHZYKzwztCVm3j4Irg1rj7iy/eC9D4U5pFlCZY8bNw79+vUT79lUcsUVV2i1fajtcCxEMskyAbOqVqW++D0TMNusz+1/svAIUdVjlBeIKjigqpqrBUwmflbw2qat0ZBRH6Rd7EmEovu94viY+Iwk7AqnicZoESDUdQEqdn+Nj58fg6d+dxYeu6QvHr+4O9Y8MAIV3y8i8VNw+5Hmkuxtu22dMjoKguYAmlGjRgmC3rt37zJlImG89tprmrgPpdU3aasiAoqEVUj6+uWLcVqvbsLPmu3XTOqK4FXBAaWslQpXhXl5m/I4SffA1NA4EA6VtNlmzZn5IkEPojweAi5RizHmsaCcCLvKzilSibCNO/D1tMl48vKz8dSwfnjh8tOwZvSVqPzuyCvr1KYUNaNPnz51rmXq1KlCaTN5t27dGp999pkm7oNtO+ZNxMShCdK254mOdygdV4WcM9GyOYRf1y5diCsuHojvPv2wzjGsnpmYlTsgkzKTNG/nRUomdLUYqaIc0z0wNTQOhEoPKWH7Liy95xpB2uvuHAG48xAMkfgg8i3x15K2+oyqy1iRqHzOx7ArH1c5L/fbUOUtQo2Ly3rtFt4gX02dhKevuxiPDjsD4y89E/PuGElkvR4IFY1MJ48MHnKJyDtCb5GZmYm8vLxx+x4zZMiQZIj72WefrUn7YNvW+ZMwYWhPfDd9IintHCDKSZmMpHbZPc9FKpmDXGzwWwoR9zvFtoiTidUvtocdpv9v7+yDorrOMM6MoyPpUBWRaisF0aSNzajpTNQoBjAySWvbTGP9atLSBozUaEcDavwCFUEEBaNttYkxJm3TghmH0SmpMdFQrRIVoX4jXwvLsssusMsuKO6CT897YKlRMpN26iyhz2/mmb17zrl39o+9z7z33HPeVxmvSY+TfvmUNpvhhj522xv09aRP1HZfdjKK6h/qsFQqcz2Ld+NmYcfkkciL/z5abWUwuuphbbHC0djQU+XcXmeF3dQEt82BzgabOs+kDL47DXGDisLNKuAxSxKn8+goOYxTWcuQOjMcm6LCkRI5Dn9e/gJaTxf0CeOTHZBixrLrUeaz8/LyPvd3BQUFadOWPCSxsbF94vd/6fj0jWSsjhytIu21OsuX03BVR7jeeWlvsQFvalNd4PaWS+f58BYY8BbKlej5jZwshAcNQ2XJeTjrVNRursNtmzJv9YeV415TTlJUP9AdS7mKtM/inUVPI2dyMN5/6RnctF6GqcWIpmaLnq++barDHatNBT1utNla0WhQ94Spy7A9sgS2vnv3orUc7ssncDxnJVJ/MAGJU0YgOfKbOLj8eTiOvgu0cqPK/y1n9q3HyujROLG7y7TRrCJpY60yXCM67c2QRzaXSYzXqtvdjTa01ktqVJf+fsdhh7nsOg7seh2Pjw3HnJhZOH7oEFpqalTU7oTLaISzVo1rbobDYOiONCiq/0lH2pbzeGuxMu0nhuJw7AwdebfaKnQWvs46s7rHVEReV4tWixVtjXa0O5r0jkZ5gu2sVwFR7QXgnx/i5LZEbI6ZhFVPPoLVUY/h7ZWxaL5wlJEp8fM79dZ6JCrT/nh31/RIW22FNmZPU6OWGLYYuJizLndkrtcG3myo1qYuxi2G/Vx0FI4ezNNjZPutnCPm7jV9GSvX662EEkX1B2nTbhDTjkb25EDk/yJSmXYx3DLXbTZpw4Ysa20wqntCNsjU6B2MHls52gzF8Fz/O/62KQ7Zsycg6bsjkRL9GP6SGAdn0Yc0a/Jv7jXtW+rxzG2X1Ro1sKuIoNPpwK1Gq654Ie3tTTY0VFXAaTbpdpelXh87TEY9VvpkHNpc+hrocMNaLVvam9GkcyJYKKpfSpt2/RkciI/C1skj8d5Ls+Gx3IDTboXbakWnxYgOWf3RWAVXfZUyeoO6TwzouFKAT7bEIismFGueCMTyxwORu2ohPFeO06zJ/Yhpy/RI15z2VV16yK4M2K1MVpYoNSnjvanM2anMuUGZ7+bXVmHM10bAWHZNRQmNeoxsrfW02GFRht3paoFDGbycJ31WQ5Xuk/PlOt5MZRTV36Sz6dWV4u247yF1SggOvPwjtKsourlF/vsqADLfAFpUUFN+GrBWwn31NN5bH4fkZx9BZsxopEwZhkMrFwCXPwbajf5wVM70tT+QPojMacvqkVM716lHuatoN1XBaqxER5sdbbIixGGFoewS1ry6FBO/HY6fzvkhTn5UoNeQyji3qwlN9QY9ViQpIx3q8U/6pbSRrE+VMdIn7fcWIqWo/iKZt4bRiL1xL2DDtDBd/aW9+Rzszku4aS1FR+0ZoPoE8OlBHEv6OdIiHkX6rPHYEP0wDvzqeXguMrImX4Bzv0/GhogwFO3YANRcR4e5tmfDi6yVlo0xe7ZnYHZUBM598pFeS3138V1vMihvLca7c2F7t7FLm/TLdX29lpaiHpQ8Ytp1tdgbv1CZdgj+sFjWaRfijvUf6t4qBMo+wOF1P0HW7G9h9cRRSJk2HrnLf4b2s5yzJv8BpXtSsXlaOE5uXK3+cDVarbW1uG02w9OdKtJzV8pIiqJ6l16uZyzGntinkDEjGAUJyrSvHQPOH0ZZxivIfuobWDvtq1j3TDj+lLwMDaXnmnx9/5MvIZf2pmP705NwLmMjUFyM/S8vwnf8/ICLJcD1K0BVOXDjWtdnRVnXJ0VR96vyolIh8hfNwM4pX8E7z4bh2LJ5yJj+KFLGByNtShjy1y6Areh9Rtbkv6dw6xokTQxFbGgIpiuzXh8ciOIFP4YlcWmPHOuS0JryGioTfgnzq69QFNWLTIkJqFq+EPkxY/HmRD/sfTIAmbPGY8X0ifjrFhUUVZTP9fX9TvoBv42fhzkjBiHqocFYFDYWySMC8ZtRgdg+7CHsHzsaWUP9kRMUoLVvzNexe+QwiqJ60a5RQ7E7NBD7J41CxsN+yI4Ixgepv0ZDUSEja/K/42bpSby59EXkbUnFkW07cCE7B4bf7UFp+lZc2JKG8td34ezGTbicmYWStHRc2pZJUVQvuro1E5VK+bEvYudzM3Dpj7to1uTBABfzGBBCCCGEEEIIIYQQQggh5MGTkJCgE8sPHDgQAQEBqKqqmnrvGGmTPm9l7MWLF/MlGSGE+AqpySeGLBVExo0bd58hS5v0ibGHhobSsAkhxNdIqScp+SSKj4/vMWY59rb7+/vTsAkhpC+Qm5vbUw1btG/fPq2727rHEEII6QusWLFCm7NE1TKHLZJjaevuI4QQ0peIiIj4THQt6m4jhBDS1ygrK0sIDg7WLyZFcixtvv5dhBBCPocJEyb0RNnz589nlE0IIX2VefPmabOW+Wz5lGg7Pz+fxk0IIX2NzMzM++azRSEhIb1uuiGEEOIjjhw5og16wIABehNNUlISxowZg8GDB/NlJCGE9CWqq6snDRkypCeynjlzpjZoeQHpXfI3aNAgpKen07gJIcTXyDZ2v27Dnjp16meMOS0trWd+Wwy8qKiIxk0IIb4iMjJST4lIbpHhw4ejpKTkzL1joqKi9BhReHg4TZsQQnzBkiVLIDlH/Lqj7IKCgl4NuaamJiQoKEhH2mLcc+fOpXETQgghhBBCCCGEEEIIIYQQQgghhBBCCCGEEEIIIYQQQgghhBBCCCGEEEIIIT7iXwhFRS4RqikTAAAAAElFTkSuQmCC)\n",
        "\n",
        "Dentro del mundo de las matemáticas y las ciencias computacionales, se busca resolver un problema de la manera más óptima posible, con algoritmos rápidos y eficientes tal que se utilice la menor cantidad de recursos. De esta convención surgen lo que se conoce como **problemas de optimización**, que consisten en hallar el valor máximo o mínimo de una función dada una variable.\n",
        "\n"
      ],
      "metadata": {
        "id": "Sf1rs2ZgWCOc"
      }
    },
    {
      "cell_type": "markdown",
      "source": [
        "#2. Corte de Varillas"
      ],
      "metadata": {
        "id": "9mkeeFOxbRhx"
      }
    },
    {
      "cell_type": "markdown",
      "source": [
        "##2.1 Método recursivo\n",
        "\n"
      ],
      "metadata": {
        "id": "TRzQZFGmbsw4"
      }
    },
    {
      "cell_type": "markdown",
      "source": [
        "###2.1.1 Código\n",
        "\n",
        "El siguiente código presenta una solución al problema del corte de varillas, usando el **método recursivo**."
      ],
      "metadata": {
        "id": "-U6UF4cofcnZ"
      }
    },
    {
      "cell_type": "code",
      "execution_count": 70,
      "metadata": {
        "id": "rpqv9FjBV8rX",
        "colab": {
          "base_uri": "https://localhost:8080/"
        },
        "outputId": "54801d94-ba86-4d91-8651-b71ad4dd670f"
      },
      "outputs": [
        {
          "output_type": "stream",
          "name": "stdout",
          "text": [
            "Largo = 10\n",
            "Precios por largo: \n",
            "1 = 0 \n",
            "2 = 6 \n",
            "3 = 12 \n",
            "4 = 17 \n",
            "5 = 19 \n",
            "6 = 20 \n",
            "7 = 29 \n",
            "8 = 34 \n",
            "9 = 38 \n",
            "10 = 45 \n",
            "La ganancia máxima posible es 45.\n",
            "Recursiones totales realizadas: 1023\n",
            "Cortes totales realizados: [1, 2, 1, 3, 1, 2, 1, 1, 4, 1, 2, 1, 3, 1, 1, 2, 2, 1, 1, 2, 1, 3, 1, 2, 1, 1, 4, 1, 1, 2, 1, 3, 2, 1, 2, 1, 1, 2, 1, 3, 1, 2, 1, 1, 4, 1, 2, 1, 3, 1, 1, 2, 2, 1, 1, 1, 2, 1, 3, 1, 2, 1, 1, 4, 2, 1, 2, 1, 3, 3, 1, 2, 1, 1, 2, 1, 3, 1, 2, 1, 1, 4, 1, 2, 1, 3, 1, 1, 2, 2, 1, 1, 2, 1, 3, 1, 2, 1, 1, 4, 1, 1, 2, 1, 3, 2, 1, 2, 1, 1, 1, 2, 1, 3, 1, 2, 1, 1, 4, 1, 2, 1, 3, 1, 1, 2, 2, 1, 2, 1, 2, 1, 3, 1, 2, 1, 1, 4, 1, 2, 1, 3, 1, 2, 1, 8, 1, 2, 1, 3, 1, 2, 1, 1, 4, 1, 2, 1, 3, 1, 1, 2, 2, 1, 1, 2, 1, 3, 1, 2, 1, 1, 4, 1, 1, 2, 1, 3, 2, 1, 2, 1, 1, 2, 1, 3, 1, 2, 1, 1, 4, 1, 2, 1, 3, 1, 1, 2, 2, 1, 1, 1, 2, 1, 3, 1, 2, 1, 1, 4, 2, 1, 2, 1, 3, 3, 1, 2, 1, 1, 1, 2, 1, 3, 1, 2, 1, 1, 4, 1, 2, 1, 3, 1, 1, 2, 2, 1, 1, 2, 1, 3, 1, 2, 1, 1, 4, 1, 1, 2, 1, 3, 2, 1, 2, 1, 2, 1, 2, 1, 3, 1, 2, 1, 1, 4, 1, 2, 1, 3, 1, 1, 2, 2, 1, 1, 2, 1, 3, 1, 2, 1, 1, 4, 1, 2, 1, 3, 1, 2, 1, 9]\n"
          ]
        }
      ],
      "source": [
        "import math\n",
        "import random\n",
        "\n",
        "verb = False\n",
        "contRec = 0\n",
        "arrCor = []\n",
        "def corteDeVarillas(p,n, verbose):\n",
        "  global contRec\n",
        "  global arrCor\n",
        "  if(n <= 0):\n",
        "    if(verbose): \n",
        "      print(\"\")\n",
        "      print(\"Varilla de largo 0, valor máximo es 0\")\n",
        "      print(\"\")\n",
        "    return 0 #Caso base\n",
        "  \n",
        "  valor_max = -99999999999 #Valor que almacenará ganancia máxima.\n",
        "\n",
        "  for i in range(0,n):\n",
        "    contRec+=1\n",
        "    q = precios[i] + corteDeVarillas(p,n-i-1,verbose)\n",
        "    if(verbose): print(f\"i = {i}\")\n",
        "    if(verbose): print(f\"n actual: {n}\")\n",
        "    if(verbose): print(f\"n para la recursión siguiente: {n-i-1}\")\n",
        "    if(valor_max < q):\n",
        "      valor_max = q\n",
        "      if(i != 0):\n",
        "        arrCor.append(i)\n",
        "    if(verbose): print(f\"Valor máximo actual = {valor_max}\")\n",
        "  \n",
        "  if(verbose): \n",
        "    print(\"\") \n",
        "    print(f\"Valor máximo final para esta recursión es {valor_max}\") #Valor máximo final de la recursión.\n",
        "    print(\"\")\n",
        "  return valor_max\n",
        "\n",
        "def cutrod_instance_generator(N):\n",
        "  A = []\n",
        "  prev = 0\n",
        "  for i in range(N):\n",
        "    r=random.randint(0,10)\n",
        "    A.append(prev+r)\n",
        "    prev+=r\n",
        "  return A\n",
        "\n",
        "#Ejemplo\n",
        "n = 10\n",
        "precios = cutrod_instance_generator(10)\n",
        "\n",
        "print(f\"Largo = {n}\")\n",
        "print(\"Precios por largo: \")\n",
        "\n",
        "for i in range(0,10):\n",
        "  print(f\"{i+1} = {precios[i]} \")\n",
        "\n",
        "valorMaximo = corteDeVarillas(precios,n, verb)\n",
        "\n",
        "print(f\"La ganancia máxima posible es {valorMaximo}.\")\n",
        "print(f\"Recursiones totales realizadas: {contRec}\")\n",
        "print(f\"Cortes totales realizados: {arrCor}\")\n",
        "\n",
        "\n",
        "\n",
        "\n"
      ]
    },
    {
      "cell_type": "markdown",
      "source": [
        "###2.1.2 Descripción del algoritmo\n",
        "\n",
        "El algoritmo recibe como entrada un vector de precios `p` por medida y el largo `n` de una varilla en cuestión.\n",
        "\n",
        "1. Si el valor `n` de entrada es menor o igual a 0, significa que ya no me queda longitud de la varilla con la cual trabajar y, por ende, se retorna 0 como ganancia máxima.\n",
        "\n",
        "2. Por cada llamada recursiva, se tiene que el valor máximo inicial `valor_max = 0` y se recorre el vector de precios con el índice `i` desde 0 a `n`. Teniendo en cuenta el valor fijo `precios[i]`, se realiza una llamada a la propia función con el nuevo valor de `n = n-i-1`, siendo el largo sobrante de la varilla. Con todo esto en cuenta, `valor_max` tomará el número mayor entre su propio valor y la suma de `precios[i]` con lo que retorna el llamado recursivo a `corteDeVarillas`.\n",
        "\n",
        "3. Finalmente, se retorna el valor final de `valor_max` conseguido.\n",
        "\n",
        "n  será el tamaño del problema en cuestión.\n",
        "\n",
        "Cuando la variable `verbose` es True, se muestra información por pantalla para ver lo que sucede paso a paso dentro de la función de una forma más explícita."
      ],
      "metadata": {
        "id": "St8rZnYRjfH8"
      }
    },
    {
      "cell_type": "markdown",
      "source": [
        "###2.1.3 Ejemplo\n",
        "\n",
        "Considere una varilla de largo $n = 3$, cuyo vector de precios por medida es:\n",
        "\n",
        "$ p = [5, 9, 13]$\n",
        "\n",
        "En primer lugar, definimos un valor máximo inicial, el cual será 0.\n",
        "\n",
        "$valorMax = 0$\n",
        "\n",
        "Luego, recorremos el vector de precios desde 0 hasta `n` y primero comparamos el valor máximo actual con la suma entre el precio de  que retorna la función $corteDeVarillas$, con $n = n-i-1$.\n",
        "\n",
        "$i = 0$\n",
        "\n",
        "$valorMax = max(valorMax , 5 + corteDeVarillas(p , 2)$ (0)\n",
        "\n",
        "Para el llamado recursivo anteriormente mencionado, se realiza el mismo procedimiento descrito en el párrafo anterior, quedando en este caso $n = n-i-1$. Esto se repite para cada llamada recursiva con $n > 0$\n",
        "\n",
        "**Recursión siguiente:**\n",
        "\n",
        "$valorMax = 0$\n",
        "\n",
        "$i = 0$\n",
        "\n",
        "$valorMax = max(valorMax , 5 + corteDeVarillas(p , 1)$ \n",
        "\n",
        "**Recursión siguiente:**\n",
        "\n",
        "$valorMax = 0$\n",
        "\n",
        "$i = 0$\n",
        "\n",
        "$n = n-i-1 = 0$\n",
        "\n",
        "$valorMax = max(valorMax , 5 + corteDeVarillas(p , 0)$ \n",
        "\n",
        "Para el siguiente llamado recursivo y al ser $n$ igual a 0, se entiende que ya no queda longitud sobrante de la varilla con la cual trabajar, por lo que se retorna 0 como valor máximo.\n",
        "\n",
        "$valorMax = 0$ (3)\n",
        "\n",
        "Ahora que tenemos un valor retornado por la función, podemos trabajar con su **llamada recursiva anterior:**\n",
        "\n",
        "$i = 0$\n",
        "\n",
        "$valorMax = max(valorMax , 5 + 0)  -> valorMax = 5$ \n",
        "\n",
        "El procedimiento se repite hasta lle\n",
        "**Recursión anterior:**\n",
        "\n",
        "$valorMax = 0$\n",
        "\n",
        "$i = 0$\n",
        "\n",
        "$valorMax = max(valorMax , 5 + 5)  -> valorMax = 10$ \n",
        "\n",
        "$i = 1$\n",
        "\n",
        "\n",
        "$valorMax = max(valorMax , 9 + corteDeVarillas(p , 0) (0))  -> valorMax = 10$\n",
        "\n",
        "**Recursión anterior:**\n",
        "\n",
        "$i = 0$\n",
        "\n",
        "$valorMax = max(valorMax , 5 + 10)  -> valorMax = 15$\n",
        "\n",
        "$i = 1$\n",
        "\n",
        "$valorMax = max(valorMax , 9 + corteDeVarillas(p , 1) (5) )  -> valorMax = 15$\n",
        "\n",
        "$i = 1$\n",
        "\n",
        "$valorMax = max(valorMax , 13 + corteDeVarillas(p , 0) (0) )  -> valorMax = 15$\n",
        "\n",
        "\n",
        "Finalmente, tenemos nuestro valor máximo final, que es 15.\n",
        "\n",
        "\n",
        "\n",
        "\n",
        "\n",
        "\n",
        "\n"
      ],
      "metadata": {
        "id": "_F3pIkLYoPpq"
      }
    },
    {
      "cell_type": "markdown",
      "source": [
        "###2.1.4 Ejecución del programa paso a paso.\n",
        "\n",
        "Usando la opción `verbose = True`, se puede apreciar qué ocurre durante el proceso del algoritmo y sus llamadas recursivas. Con propósito de probar distintos casos, se utilizará una varilla de largo 5, cuyo listado de precios por medida de corte son generados al azar."
      ],
      "metadata": {
        "id": "OcOmc1kDeVqd"
      }
    },
    {
      "cell_type": "code",
      "source": [
        "#Ejemplo\n",
        "verb = True\n",
        "n = 5\n",
        "precios = cutrod_instance_generator(5)\n",
        "\n",
        "print(f\"Largo = {n}\")\n",
        "print(\"Precios por largo: \")\n",
        "print(\"\")\n",
        "\n",
        "for i in range(0,5):\n",
        "  print(f\"{i+1} = {precios[i]} \")\n",
        "\n",
        "valorMaximo = corteDeVarillas(precios,n, verb)\n",
        "\n",
        "print(f\"La ganancia máxima posible es {valorMaximo}.\")"
      ],
      "metadata": {
        "colab": {
          "base_uri": "https://localhost:8080/"
        },
        "id": "rPX2-161egUK",
        "outputId": "a00fcf88-40c7-40fb-ca2e-9210f7cb1e1e"
      },
      "execution_count": 71,
      "outputs": [
        {
          "output_type": "stream",
          "name": "stdout",
          "text": [
            "Largo = 5\n",
            "Precios por largo: \n",
            "\n",
            "1 = 8 \n",
            "2 = 15 \n",
            "3 = 16 \n",
            "4 = 20 \n",
            "5 = 21 \n",
            "\n",
            "Varilla de largo 0, valor máximo es 0\n",
            "\n",
            "i = 0\n",
            "n actual: 1\n",
            "n para la recursión siguiente: 0\n",
            "Valor máximo actual = 8\n",
            "\n",
            "Valor máximo final para esta recursión es 8\n",
            "\n",
            "i = 0\n",
            "n actual: 2\n",
            "n para la recursión siguiente: 1\n",
            "Valor máximo actual = 16\n",
            "\n",
            "Varilla de largo 0, valor máximo es 0\n",
            "\n",
            "i = 1\n",
            "n actual: 2\n",
            "n para la recursión siguiente: 0\n",
            "Valor máximo actual = 16\n",
            "\n",
            "Valor máximo final para esta recursión es 16\n",
            "\n",
            "i = 0\n",
            "n actual: 3\n",
            "n para la recursión siguiente: 2\n",
            "Valor máximo actual = 24\n",
            "\n",
            "Varilla de largo 0, valor máximo es 0\n",
            "\n",
            "i = 0\n",
            "n actual: 1\n",
            "n para la recursión siguiente: 0\n",
            "Valor máximo actual = 8\n",
            "\n",
            "Valor máximo final para esta recursión es 8\n",
            "\n",
            "i = 1\n",
            "n actual: 3\n",
            "n para la recursión siguiente: 1\n",
            "Valor máximo actual = 24\n",
            "\n",
            "Varilla de largo 0, valor máximo es 0\n",
            "\n",
            "i = 2\n",
            "n actual: 3\n",
            "n para la recursión siguiente: 0\n",
            "Valor máximo actual = 24\n",
            "\n",
            "Valor máximo final para esta recursión es 24\n",
            "\n",
            "i = 0\n",
            "n actual: 4\n",
            "n para la recursión siguiente: 3\n",
            "Valor máximo actual = 32\n",
            "\n",
            "Varilla de largo 0, valor máximo es 0\n",
            "\n",
            "i = 0\n",
            "n actual: 1\n",
            "n para la recursión siguiente: 0\n",
            "Valor máximo actual = 8\n",
            "\n",
            "Valor máximo final para esta recursión es 8\n",
            "\n",
            "i = 0\n",
            "n actual: 2\n",
            "n para la recursión siguiente: 1\n",
            "Valor máximo actual = 16\n",
            "\n",
            "Varilla de largo 0, valor máximo es 0\n",
            "\n",
            "i = 1\n",
            "n actual: 2\n",
            "n para la recursión siguiente: 0\n",
            "Valor máximo actual = 16\n",
            "\n",
            "Valor máximo final para esta recursión es 16\n",
            "\n",
            "i = 1\n",
            "n actual: 4\n",
            "n para la recursión siguiente: 2\n",
            "Valor máximo actual = 32\n",
            "\n",
            "Varilla de largo 0, valor máximo es 0\n",
            "\n",
            "i = 0\n",
            "n actual: 1\n",
            "n para la recursión siguiente: 0\n",
            "Valor máximo actual = 8\n",
            "\n",
            "Valor máximo final para esta recursión es 8\n",
            "\n",
            "i = 2\n",
            "n actual: 4\n",
            "n para la recursión siguiente: 1\n",
            "Valor máximo actual = 32\n",
            "\n",
            "Varilla de largo 0, valor máximo es 0\n",
            "\n",
            "i = 3\n",
            "n actual: 4\n",
            "n para la recursión siguiente: 0\n",
            "Valor máximo actual = 32\n",
            "\n",
            "Valor máximo final para esta recursión es 32\n",
            "\n",
            "i = 0\n",
            "n actual: 5\n",
            "n para la recursión siguiente: 4\n",
            "Valor máximo actual = 40\n",
            "\n",
            "Varilla de largo 0, valor máximo es 0\n",
            "\n",
            "i = 0\n",
            "n actual: 1\n",
            "n para la recursión siguiente: 0\n",
            "Valor máximo actual = 8\n",
            "\n",
            "Valor máximo final para esta recursión es 8\n",
            "\n",
            "i = 0\n",
            "n actual: 2\n",
            "n para la recursión siguiente: 1\n",
            "Valor máximo actual = 16\n",
            "\n",
            "Varilla de largo 0, valor máximo es 0\n",
            "\n",
            "i = 1\n",
            "n actual: 2\n",
            "n para la recursión siguiente: 0\n",
            "Valor máximo actual = 16\n",
            "\n",
            "Valor máximo final para esta recursión es 16\n",
            "\n",
            "i = 0\n",
            "n actual: 3\n",
            "n para la recursión siguiente: 2\n",
            "Valor máximo actual = 24\n",
            "\n",
            "Varilla de largo 0, valor máximo es 0\n",
            "\n",
            "i = 0\n",
            "n actual: 1\n",
            "n para la recursión siguiente: 0\n",
            "Valor máximo actual = 8\n",
            "\n",
            "Valor máximo final para esta recursión es 8\n",
            "\n",
            "i = 1\n",
            "n actual: 3\n",
            "n para la recursión siguiente: 1\n",
            "Valor máximo actual = 24\n",
            "\n",
            "Varilla de largo 0, valor máximo es 0\n",
            "\n",
            "i = 2\n",
            "n actual: 3\n",
            "n para la recursión siguiente: 0\n",
            "Valor máximo actual = 24\n",
            "\n",
            "Valor máximo final para esta recursión es 24\n",
            "\n",
            "i = 1\n",
            "n actual: 5\n",
            "n para la recursión siguiente: 3\n",
            "Valor máximo actual = 40\n",
            "\n",
            "Varilla de largo 0, valor máximo es 0\n",
            "\n",
            "i = 0\n",
            "n actual: 1\n",
            "n para la recursión siguiente: 0\n",
            "Valor máximo actual = 8\n",
            "\n",
            "Valor máximo final para esta recursión es 8\n",
            "\n",
            "i = 0\n",
            "n actual: 2\n",
            "n para la recursión siguiente: 1\n",
            "Valor máximo actual = 16\n",
            "\n",
            "Varilla de largo 0, valor máximo es 0\n",
            "\n",
            "i = 1\n",
            "n actual: 2\n",
            "n para la recursión siguiente: 0\n",
            "Valor máximo actual = 16\n",
            "\n",
            "Valor máximo final para esta recursión es 16\n",
            "\n",
            "i = 2\n",
            "n actual: 5\n",
            "n para la recursión siguiente: 2\n",
            "Valor máximo actual = 40\n",
            "\n",
            "Varilla de largo 0, valor máximo es 0\n",
            "\n",
            "i = 0\n",
            "n actual: 1\n",
            "n para la recursión siguiente: 0\n",
            "Valor máximo actual = 8\n",
            "\n",
            "Valor máximo final para esta recursión es 8\n",
            "\n",
            "i = 3\n",
            "n actual: 5\n",
            "n para la recursión siguiente: 1\n",
            "Valor máximo actual = 40\n",
            "\n",
            "Varilla de largo 0, valor máximo es 0\n",
            "\n",
            "i = 4\n",
            "n actual: 5\n",
            "n para la recursión siguiente: 0\n",
            "Valor máximo actual = 40\n",
            "\n",
            "Valor máximo final para esta recursión es 40\n",
            "\n",
            "La ganancia máxima posible es 40.\n"
          ]
        }
      ]
    },
    {
      "cell_type": "markdown",
      "source": [
        "##2.2 Programación dinámica (Bottom-Up)\n"
      ],
      "metadata": {
        "id": "zcrP0s02W6MZ"
      }
    },
    {
      "cell_type": "markdown",
      "source": [
        "###2.2.1 Código\n",
        "\n",
        "El siguiente código presenta una solución al problema del corte de varillas, usando el **acercamiento Bottom-Up**. "
      ],
      "metadata": {
        "id": "sFaMyV7GO35U"
      }
    },
    {
      "cell_type": "code",
      "source": [
        "verb = False\n",
        "contSub = 0\n",
        "#Implementación Bottom-Up\n",
        "def bottomUpCorteVar(p, n, verbose):\n",
        "  global contSub\n",
        "  #Crear arreglo de máximos.\n",
        "  maxArr = [] \n",
        "  #Arreglo que guarda los mejores cortes para la solución.\n",
        "  cortes = [None]*(n+1) \n",
        "  #Marcar el caso base largo = 0.\n",
        "  maxArr.append(0)\n",
        "\n",
        "  if(verbose): print(f\"Arreglo de máximos: {maxArr}\")\n",
        "  #Resolver los sub-problemas de distintos tamaños en orden Bottom-Up\n",
        "  for j in range(1, n+1):\n",
        "    if(verbose):\n",
        "      print(\"\") \n",
        "      print(f\"j = {j}\")\n",
        "    #Declarar un valor falso para el máximo de la solución.\n",
        "    valorMax = 0\n",
        "    if(verbose): print(f\"valorMax se reinicia a 0.\")\n",
        "    #Resolver los sub-problemas del sub-problema en orden Bottom-Up.\n",
        "    for i in range(1, j+1):\n",
        "      if(verbose): \n",
        "        print(f\"i = {i}\")\n",
        "        print(\"\")\n",
        "        print(f\"El valor máximo entre {valorMax}\")\n",
        "      if(valorMax < p[i-1] + maxArr[j-i]):\n",
        "        valorMax = p[i-1] + maxArr[j-i]\n",
        "        contSub+=1\n",
        "        cortes[j] = i\n",
        "      #Ecuación de definición para conseguir valorMax.\n",
        "      if(verbose): \n",
        "        print(f\"y la suma entre {p[i-1]} y {maxArr[j-i]} es {valorMax}\")\n",
        "        print(\"\")\n",
        "    #Agregar el máximo encontrado en el tamaño actual al arreglo.\n",
        "    maxArr.append(valorMax)\n",
        "    if(verbose): print(f\"Arreglo de máximos: {maxArr}\")\n",
        "  \n",
        "  #Retornar el sub-problema correspondiente al problema inicial.\n",
        "  if(verbose): print(f\"El valor del arreglo de máximos en la posición {n} es {maxArr[n]}\")\n",
        "  return maxArr[n], cortes\n",
        "\n",
        "#Ejemplo\n",
        "n = 10\n",
        "precios = cutrod_instance_generator(10)\n",
        "c = []\n",
        "\n",
        "print(f\"Largo = {n}\")\n",
        "print(\"Precios por largo: \")\n",
        "print(\"\")\n",
        "\n",
        "for i in range(0,10):\n",
        "  print(f\"{i+1} = {precios[i]} \")\n",
        "\n",
        "valorMaximo, c = bottomUpCorteVar(precios,n,verb)\n",
        "\n",
        "print(f\"La ganancia máxima posible es {valorMaximo}.\")\n",
        "print(f\"Cortes realizados: {c[1:n]}\")\n",
        "print(f\"Subproblemas solucionados en total: {contSub}\")\n"
      ],
      "metadata": {
        "colab": {
          "base_uri": "https://localhost:8080/"
        },
        "id": "NOwJzAHVNp4t",
        "outputId": "8cdc10db-26ef-4495-ddb5-5280ea0cb9f1"
      },
      "execution_count": 72,
      "outputs": [
        {
          "output_type": "stream",
          "name": "stdout",
          "text": [
            "Largo = 10\n",
            "Precios por largo: \n",
            "\n",
            "1 = 0 \n",
            "2 = 1 \n",
            "3 = 9 \n",
            "4 = 18 \n",
            "5 = 26 \n",
            "6 = 34 \n",
            "7 = 44 \n",
            "8 = 45 \n",
            "9 = 55 \n",
            "10 = 56 \n",
            "La ganancia máxima posible es 56.\n",
            "Cortes realizados: [None, 2, 3, 4, 5, 6, 7, 8, 9]\n",
            "Subproblemas solucionados en total: 17\n"
          ]
        }
      ]
    },
    {
      "cell_type": "markdown",
      "source": [
        "###2.2.2 Descripción del algoritmo\n",
        "\n",
        "**Subestructura óptima**\n",
        "\n",
        "Similar a la implementación anterior del algoritmo, se recibe un arreglo que contiene $i$ precios para cada corte y un tamaño $n$ correspondiente a la varilla que queremos cortar. Como en este caso estamos trabajando bajo el paradigma de la **programación dinámica**, previo a explicar cómo funciona, hay que definir la subestructura óptima de nuestro problema.\n",
        "\n",
        "Para empezar, podemos descubrir cómo nuestra solución óptima, definida por un retorno máximo $r_n$ puede estar puede estar dado por el precio de la varilla completa o por una subvarilla de precio $p_i$ junto al retorno máximo de la varilla que sobra.\n",
        "\n",
        "![image.png](data:image/png;base64,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)\n",
        "\n",
        "Al ver que este corte es óptimo, cada problema subsiguiente, cada uno idéntico al anterior, se definirá por este valor que nos devolverá la siguiente función recursiva: \n",
        "\n",
        "$r_n=\\max\\limits_{i=1..n}(p_i+r_{n-i})$, donde $n$ es la longitud máxima de la varilla, $p_i$ el valor del corte hallado y $r_{n-i}$ el retorno máximo del valor anterior.\n",
        "\n",
        "Finalmente, cabe destacar que el **acercamiento Bottom-Up** almacena los subproblemas anteriores para utilizarlos con más facilidad para los casos siguientes, a diferencia de la implementación recursiva en donde un subproblema debía ser resuelto repetidas veces, lo cual conllevaba a que fuera un algoritmo ineficiente.\n",
        "\n",
        "**Funcionamiento del algoritmo**\n",
        "\n",
        "El algoritmo recibe como entrada un vector de precios `p` por medida y el largo `n` de una varilla en cuestión.\n",
        "\n",
        "1. El algoritmo crea un arreglo auxiliar que almacenará los valores máximos de cada sub-problema, y se inicializa el caso base `n = 0` como 0.\n",
        "\n",
        "2. Por cada valor de `j` desde 1 hasta `n+1` en un ciclo for, se inicializa `valorMax = 0` con el fin de resolver los sub-problemas del problema original en orden Bottom-Up. Dentro de este ciclo y por cada valor de `i` desde 1 hasta `j+1` en otro ciclo for, se busca resolver los sub-problemas del sub-problema. Para ello, `valorMax` toma el valor del número mayor entre ella misma y la suma del vector `p` en la posición `[i-1]` con el arreglo auxiliar en la posición `j-i`.\n",
        "\n",
        "3. Una vez terminado el ciclo del ciclo, se inserta el valor del máximo final hallado en la iteración dentro del arreglo auxiliar de máximos en la posición `j`.\n",
        "\n",
        "3. Finalmente, se retorna el valor máximo hallado dentro del arreglo auxiliar en la posición `n`.\n",
        "\n",
        "$n$ será el tamaño del problema en cuestión.\n",
        "\n",
        "Cuando la variable `verbose` es True, se muestra información por pantalla para ver lo que sucede paso a paso dentro de la función de una forma más explícita.\n",
        "\n",
        "\n",
        "\n"
      ],
      "metadata": {
        "id": "fGCmN341WT7O"
      }
    },
    {
      "cell_type": "markdown",
      "source": [
        "###2.2.3 Ejemplo\n",
        "\n",
        "Considere una varilla de largo $n = 3$, cuyo vector de precios por medida es:\n",
        "\n",
        "$ p = [5, 9, 13]$\n",
        "\n",
        "Se crea un arreglo auxiliar de máximos y se inicia la primera posición como 0.\n",
        "\n",
        "$ maxArr = [0 , empty, empty, empty] $\n",
        "\n",
        "Luego, queremos resolver los subproblemas correspondientes a las casillas vacías de $maxArr$. Para ello, recorremos con un índice `j` que va desde 1 hasta `n`, empezando en la casilla `maxArr[j=1]` e inicializamos nuestro valor máximo como 0 por el momento.\n",
        "\n",
        "$valorMax = 0$\n",
        "\n",
        "Luego, para resolver nuestro subproblema debemos resolver sus subproblemas también. Para esto, usamos un índice `i` que irá desde 1 hasta `j`, y por cada una de sus iteraciones, `valorMax` tomará el valor máximo entre su propio dígito y la suma entre `p[i-1]` y `maxArr[j-i]`.\n",
        "\n",
        "$j = 1$\n",
        "\n",
        "$i = 1$\n",
        "\n",
        "$valorMax = max(valorMax, p[0] + maxArr[0])$\n",
        "\n",
        "Como ya conocemos los valores de estos términos:\n",
        "\n",
        "$valorMax = max(0, 5 + 0) -> valorMax = 5$\n",
        "\n",
        "Luego, almacenamos nuestro valor máximo hallado en el arreglo de máximos en la posición `j = 1`.\n",
        "\n",
        "$ maxArr = [0 , 5, empty, empty] $\n",
        "\n",
        "Repetimos este mismo proceso para `j = 2`, reinicializando `valorMax`como 0.\n",
        "\n",
        "$valorMax = 0$\n",
        "\n",
        "$j = 2$\n",
        "\n",
        "$i = 1$\n",
        "\n",
        "$valorMax = max(valorMax, p[0] + maxArr[1]) -> valorMax = 10$ \n",
        "\n",
        "Como ya conocemos los valores en cuestión, se tiene que:\n",
        "\n",
        "$valorMax = max(0, 5 + 5) -> valorMax = 10$ \n",
        "\n",
        "Esto se repite para todos los valores de `i` hasta llegar al de `j`.\n",
        "\n",
        "$i = 2$\n",
        "\n",
        "$valorMax = max(valorMax, p[1] + maxArr[1])$\n",
        "\n",
        "$valorMax = max(10, 9 + 0) -> valorMax = 10$ \n",
        "\n",
        "Luego, almacenamos nuestro valor máximo hallado en el arreglo de máximos en la posición `j = 2`.\n",
        "\n",
        "$ maxArr = [0 , 5, 10, empty] $\n",
        "\n",
        "Repetimos este mismo proceso para `j = 3`, reinicializando nuevamente `valorMax` como 0.\n",
        "\n",
        "$valorMax = 0$\n",
        "\n",
        "$j = 3$\n",
        "\n",
        "$i = 1$\n",
        "\n",
        "$valorMax = max(valorMax, p[0] + maxArr[2])$\n",
        "\n",
        "$valorMax = max(0, 5 + 10) -> valorMax = 15$ \n",
        "\n",
        "$i = 2$\n",
        "\n",
        "$valorMax = max(valorMax, p[1] + maxArr[1])$\n",
        "\n",
        "$valorMax = max(15, 9 + 5) -> valorMax = 15$\n",
        "\n",
        "$i = 3$\n",
        "\n",
        "$valorMax = max(valorMax, p[2] + maxArr[0])$\n",
        "\n",
        "$valorMax = max(15, 13 + 0) -> valorMax = 15$\n",
        "\n",
        "Luego, almacenamos nuestro valor máximo hallado en el arreglo de máximos en la posición `j = 3`.\n",
        "\n",
        "$ maxArr = [0 , 5, 10, 15] $\n",
        "\n",
        "Terminado el ciclo principal, se busca el valor del vector $maxArr$ en la posición `n = 3`, el cual es 15.\n",
        "\n",
        "Finalmente, tenemos nuestro valor máximo final.\n",
        "\n"
      ],
      "metadata": {
        "id": "xZh8bZOjgQ7A"
      }
    },
    {
      "cell_type": "markdown",
      "source": [
        "###2.2.4 Ejecución del programa paso a paso.\n",
        "\n",
        "Usando la opción `verbose = True`, se puede apreciar qué ocurre durante el proceso del algoritmo y sus llamadas recursivas. Con propósito de probar distintos casos, se utilizará una varilla de largo 5, cuyo listado de precios por medida de corte son generados al azar."
      ],
      "metadata": {
        "id": "eIkN56Tuu-_g"
      }
    },
    {
      "cell_type": "code",
      "source": [
        "#Ejemplo\n",
        "verb = True\n",
        "n = 5\n",
        "precios = cutrod_instance_generator(5)\n",
        "\n",
        "print(f\"Largo = {n}\")\n",
        "print(\"Precios por largo: \")\n",
        "print(\"\")\n",
        "\n",
        "for i in range(0,5):\n",
        "  print(f\"{i+1} = {precios[i]} \")\n",
        "\n",
        "valorMaximo = bottomUpCorteVar(precios,n, verb)"
      ],
      "metadata": {
        "colab": {
          "base_uri": "https://localhost:8080/"
        },
        "id": "Z81Dyp91sjXQ",
        "outputId": "41357699-68f1-4f18-e325-52fa28a4f42f"
      },
      "execution_count": 73,
      "outputs": [
        {
          "output_type": "stream",
          "name": "stdout",
          "text": [
            "Largo = 5\n",
            "Precios por largo: \n",
            "\n",
            "1 = 4 \n",
            "2 = 14 \n",
            "3 = 23 \n",
            "4 = 25 \n",
            "5 = 27 \n",
            "Arreglo de máximos: [0]\n",
            "\n",
            "j = 1\n",
            "valorMax se reinicia a 0.\n",
            "i = 1\n",
            "\n",
            "El valor máximo entre 0\n",
            "y la suma entre 4 y 0 es 4\n",
            "\n",
            "Arreglo de máximos: [0, 4]\n",
            "\n",
            "j = 2\n",
            "valorMax se reinicia a 0.\n",
            "i = 1\n",
            "\n",
            "El valor máximo entre 0\n",
            "y la suma entre 4 y 4 es 8\n",
            "\n",
            "i = 2\n",
            "\n",
            "El valor máximo entre 8\n",
            "y la suma entre 14 y 0 es 14\n",
            "\n",
            "Arreglo de máximos: [0, 4, 14]\n",
            "\n",
            "j = 3\n",
            "valorMax se reinicia a 0.\n",
            "i = 1\n",
            "\n",
            "El valor máximo entre 0\n",
            "y la suma entre 4 y 14 es 18\n",
            "\n",
            "i = 2\n",
            "\n",
            "El valor máximo entre 18\n",
            "y la suma entre 14 y 4 es 18\n",
            "\n",
            "i = 3\n",
            "\n",
            "El valor máximo entre 18\n",
            "y la suma entre 23 y 0 es 23\n",
            "\n",
            "Arreglo de máximos: [0, 4, 14, 23]\n",
            "\n",
            "j = 4\n",
            "valorMax se reinicia a 0.\n",
            "i = 1\n",
            "\n",
            "El valor máximo entre 0\n",
            "y la suma entre 4 y 23 es 27\n",
            "\n",
            "i = 2\n",
            "\n",
            "El valor máximo entre 27\n",
            "y la suma entre 14 y 14 es 28\n",
            "\n",
            "i = 3\n",
            "\n",
            "El valor máximo entre 28\n",
            "y la suma entre 23 y 4 es 28\n",
            "\n",
            "i = 4\n",
            "\n",
            "El valor máximo entre 28\n",
            "y la suma entre 25 y 0 es 28\n",
            "\n",
            "Arreglo de máximos: [0, 4, 14, 23, 28]\n",
            "\n",
            "j = 5\n",
            "valorMax se reinicia a 0.\n",
            "i = 1\n",
            "\n",
            "El valor máximo entre 0\n",
            "y la suma entre 4 y 28 es 32\n",
            "\n",
            "i = 2\n",
            "\n",
            "El valor máximo entre 32\n",
            "y la suma entre 14 y 23 es 37\n",
            "\n",
            "i = 3\n",
            "\n",
            "El valor máximo entre 37\n",
            "y la suma entre 23 y 14 es 37\n",
            "\n",
            "i = 4\n",
            "\n",
            "El valor máximo entre 37\n",
            "y la suma entre 25 y 4 es 37\n",
            "\n",
            "i = 5\n",
            "\n",
            "El valor máximo entre 37\n",
            "y la suma entre 27 y 0 es 37\n",
            "\n",
            "Arreglo de máximos: [0, 4, 14, 23, 28, 37]\n",
            "El valor del arreglo de máximos en la posición 5 es 37\n"
          ]
        }
      ]
    },
    {
      "cell_type": "markdown",
      "source": [
        "#3. Correctitud"
      ],
      "metadata": {
        "id": "pg-2-q5OxuIh"
      }
    },
    {
      "cell_type": "markdown",
      "source": [
        "##3.1 Teorema (Correctitud de la función CorteDeVarillas con acercamiento Bottom-Up)\n",
        "\n",
        "*El algoritmo CorteDeVarillas recibe un vector de precios $p = [a_1,a_2,...,a_n]$ y un largo de varilla $n$, retornando el valor máximo $r_n $ de ganancias que se puede obtener de todas las combinaciones de cortes posibles.*"
      ],
      "metadata": {
        "id": "DTRuzBec5_8z"
      }
    },
    {
      "cell_type": "markdown",
      "source": [
        "###Prueba del teorema\n",
        "\n",
        "Aún si esta implementación del algoritmo no es explícitamente recursiva, es posible comprobar si la solución a nuestro problema es correcto a través de la **inducción matemática** gracias a la función recursiva que está dentro de un ciclo iterativo, el cual busca el máximo valor en una $i$-ésima iteración analizando los casos anteriores, que ya son soluciones como tal.\n",
        "\n",
        "**Hipótesis $P(n)$:** \n",
        "\n",
        "> CorteDeVarillas retorna el valor máximo $r_n$ de ganancias que se puede obtener de todas las combinaciones de cortes posibles para una longitud $n$.\n",
        "\n",
        "**Caso base ($n = 0$):**\n",
        "\n",
        "Al ver que nuestra varilla posee un largo 0, esto quiere decir que se tiene el máximo de ganancias para este caso, ya que siempre será el mismo, por ende se retorna este valor, de forma que $P(0)$ se cumple. Esto es trivialmente cierto.\n",
        "\n",
        "![image.png](data:image/png;base64,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)\n",
        "\n",
        "**Caso inductivo ($m < n$):**\n",
        "\n",
        "Tras comprobar que el caso base sí cumple nuestra hipótesis, ahora comprobamos aquellos casos donde se hace uso de soluciones anteriores. Dentro del algoritmo podemos observar como éste puede funcionar de dos formas dependiendo de la condicional.\n",
        "\n",
        "Tenemos $r[n] = max(p[n], p[i] + r[n-i]$, del cual pueden surgir dos casos.\n",
        "1. Si $p[n] < p[i] + r[n-i]$, el subproblema $r[n-i]$ ya fue resultado anteriormente en iteraciones previas, por lo que se retorna el máximo beneficio.\n",
        "2. Si $p[n] > p[i] + r[n-i]$, se retorna el máximo beneficio del precio correspondiente al largo de la varilla completa.\n",
        "\n",
        "Ya que sabemos que los subproblemas anteriores **siempre serán menores a $n$**, gracias a la inducción matemática podemos afirmar que estos siempre retornarán el valor máximo correcto correspondiente a su posición.\n",
        "\n",
        "Por tanto, y luego de verificar que ambos casos sí cumplen la hipótesis $P(n)$, es posible afirmar que el algoritmo CorteDeVarillas en su forma de programación dinámica es **correcto**.\n",
        "\n"
      ],
      "metadata": {
        "id": "uuux_5U07QIu"
      }
    },
    {
      "cell_type": "markdown",
      "source": [
        "#4. Tiempo de ejecución"
      ],
      "metadata": {
        "id": "sPlG2d2besyD"
      }
    },
    {
      "cell_type": "markdown",
      "source": [
        "##4.1 Teorema\n",
        "\n",
        "El algoritmo `CorteDeVarillas` en su implementación Bottom-Up posee un tiempo de ejecución $O(n^2)$ **en el peor y mejor caso**."
      ],
      "metadata": {
        "id": "8dxzWLnUe8Y8"
      }
    },
    {
      "cell_type": "markdown",
      "source": [
        "##4.2 Prueba del teorema.\n",
        "\n",
        "Al analizar detenidamente nuestro código impuesto en el punto `2.1.1`, podemos ver que tenemos un ciclo for con el índice `j` que recorre las posiciones de los subproblemas. Dentro de este, existe otro ciclo for con el índice `i` que recorre todos los subproblemas hasta llegar al subproblema `j` y hallar la solución de este último. Gracias a la estructura de este algoritmo, podemos concluir que su tiempo de ejecución es efectivamente $O(n^2)$.\n",
        "\n",
        "La cantidad de subproblemas a resolver en función del tamaño del problema de entrada $n$ es dada por la ecuación:\n",
        "\n",
        "$T(n) = \\sum\\limits{i=1}^{n}\\sum\\limits{j=i}^{j} c = \\sum\\limits_{j=1}^{n} j = c\\frac{n(n+1)}{2} = O(n^2)$\n",
        "\n",
        "Cabe mencionar que para cada subproblema, el tiempo de ejecución es $O(n)$, y la complejidad espacial del algoritmo es $O(n)$. Esto es debido a que se crea un arreglo auxiliar para guardar los valores máximos de cada subproblema."
      ],
      "metadata": {
        "id": "CaMeF0cYgEXI"
      }
    },
    {
      "cell_type": "markdown",
      "source": [
        "#5. Experimentos"
      ],
      "metadata": {
        "id": "JucTzB8Ul7z3"
      }
    },
    {
      "cell_type": "markdown",
      "source": [
        "##5.1 Tiempos de ejecución (Recursivo vs Bottom-Up)\n",
        "\n",
        "El siguiente gráfico mostrará la comparación de tiempos de ejecución del algoritmo `CorteDeVarillas` en su implementación recursiva frente a la implementación Bottom-Up, en función del tamaño del problema $n$ entre 5 y 20."
      ],
      "metadata": {
        "id": "YZRRGfbwmVq7"
      }
    },
    {
      "cell_type": "code",
      "source": [
        "import matplotlib.pyplot as plt\n",
        "import datetime\n",
        "from timeit import repeat\n",
        "\n",
        "verb = False\n",
        "\n",
        "x1=[]; x2=[];y1=[]; y2=[]\n",
        "\n",
        "for n in range(5,20):\n",
        "  precios = cutrod_instance_generator(n)\n",
        "\n",
        "  #la función repeat está ejecutando 20 veces corteDeVarillas y retorna el mejor tiempo obtenido.\n",
        "  t = repeat(setup=\"from __main__ import corteDeVarillas\", stmt=f\"corteDeVarillas({precios},{n},{verb})\", repeat=1, number=10)\n",
        "\n",
        "  x1.append(n)\n",
        "  y1.append(t)\n",
        "\n",
        "for n in range(5,20):\n",
        "\n",
        "  precios = cutrod_instance_generator(n)\n",
        "\n",
        "  #la función repeat está ejecutando 20 veces bottomUpCorteVar y retorna el mejor tiempo obtenido.\n",
        "  time = repeat(setup=\"from __main__ import bottomUpCorteVar\", stmt=f\"bottomUpCorteVar({precios},{n},{verb})\", repeat=1, number=10)\n",
        "\n",
        "  x2.append(n)\n",
        "  y2.append(time)\n",
        "\n",
        "\n",
        "plt.plot(x1,y1)\n",
        "plt.plot(x2,y2)\n",
        "plt.legend([\"Método Recursivo\", \"Programación dinámica (Bottom-Up)\"])\n",
        "\n",
        "plt.xlabel('n')\n",
        "plt.ylabel('time in ms')\n",
        "plt.show()"
      ],
      "metadata": {
        "colab": {
          "base_uri": "https://localhost:8080/",
          "height": 283
        },
        "id": "Jy-Yvikzm9jh",
        "outputId": "4cdebcc8-849c-45a2-bf64-dcca80903a22"
      },
      "execution_count": 74,
      "outputs": [
        {
          "output_type": "display_data",
          "data": {
            "text/plain": [
              "<Figure size 432x288 with 1 Axes>"
            ],
            "image/png": "[encoded data removed]"
          },
          "metadata": {
            "needs_background": "light"
          }
        }
      ]
    },
    {
      "cell_type": "markdown",
      "source": [
        "## Análisis de resultados\n",
        "\n",
        "A partir de lo visto en la gráfica generada, podemos deducir que la implementación recursiva del algoritmo `CorteDeVarillas` no es muy eficiente cuando se tratan tamaños de entrada $n$ muy grandes, por tener que solucionar potencialmente un mismo subproblema repetidas veces. \n",
        "\n",
        "Por otro lado, cabe notar que la implementación Bottom-Up se mantiene en tiempos de ejecución muy bajos, principalmente debido a que almacena los valores máximos de los subproblemas a medida que se resuelven para volver a utilizarlos. "
      ],
      "metadata": {
        "id": "GWzGfQAJqE98"
      }
    },
    {
      "cell_type": "markdown",
      "source": [
        "##5.2 Cantidad de subproblemas (Bottom-Up)\n",
        "\n",
        "A continuación se muestra gráficamente una comparación entre:\n",
        "\n",
        "* cantidad de comparaciones del peor caso calculadas matemáticamente,\n",
        "* cantidad de comparaciones del mejor caso calculadas matemáticamente.\n",
        "* cantidad de comparaciones realizadas experimentalmente para entradas aleatorias.\n",
        "\n",
        "Se tomarán en cuenta tamaños de problemas con $n \\in [10,29]$."
      ],
      "metadata": {
        "id": "57TW2WlWrz8H"
      }
    },
    {
      "cell_type": "code",
      "source": [
        "import matplotlib.pyplot as plt\n",
        "verb = False\n",
        "x=[n for n in range(5,100)] \n",
        "y=[]; \n",
        "\n",
        "for n in range(5,100):\n",
        "  contSub = 0\n",
        "  c = []\n",
        "  precios = cutrod_instance_generator(n)\n",
        "  valorMaximo,c = bottomUpCorteVar(precios,n,verb)\n",
        "  y.append(contSub)\n",
        "\n",
        "plt.plot(x,y)\n",
        "plt.legend([\"CorteDeVarillas (Bottom-Up)\"])\n",
        "\n",
        "plt.xlabel('n')\n",
        "plt.ylabel('Subproblemas resueltos')\n",
        "plt.show()"
      ],
      "metadata": {
        "colab": {
          "base_uri": "https://localhost:8080/",
          "height": 279
        },
        "id": "pzrRO9_BuN5D",
        "outputId": "d218fa35-5d84-4b70-d39e-0d3665331ea3"
      },
      "execution_count": 77,
      "outputs": [
        {
          "output_type": "display_data",
          "data": {
            "text/plain": [
              "<Figure size 432x288 with 1 Axes>"
            ],
            "image/png": "[encoded data removed]"
          },
          "metadata": {
            "needs_background": "light"
          }
        }
      ]
    },
    {
      "cell_type": "markdown",
      "source": [
        "## Análisis de resultados\n",
        "\n",
        "Al ver la gráfica y tal como era de esperarse, las proyecciones del número de subproblemas resueltos en el mejor y peor caso son idénticos entre sí, principalmente porque ambos casos poseen un tiempo de ejecución $O(n^2)$.\n",
        "\n",
        "Para el caso promedio, podemos destacar que a medida que aumenta el tamaño de $n$, mayor será la cantidad de subproblemas resueltos dentro del algoritmo. Además, se pueden apreciar varios *peaks* de subproblemas a lo largo de la gráfica, probablemente esto se deba a la impredecibilidad de los procesadores o *hardware* que hacen correr el código, además de quizás otros procesos que también lo están ocupando.\n"
      ],
      "metadata": {
        "id": "W5v4vAdcwFRW"
      }
    }
  ]
}