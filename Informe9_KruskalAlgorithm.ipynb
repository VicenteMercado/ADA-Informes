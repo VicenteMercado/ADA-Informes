{
  "nbformat": 4,
  "nbformat_minor": 0,
  "metadata": {
    "colab": {
      "provenance": [],
      "collapsed_sections": [],
      "toc_visible": true,
      "authorship_tag": "ABX9TyOnNLqOLoi6e50m5OB2ECo9",
      "include_colab_link": true
    },
    "kernelspec": {
      "name": "python3",
      "display_name": "Python 3"
    },
    "language_info": {
      "name": "python"
    }
  },
  "cells": [
    {
      "cell_type": "markdown",
      "metadata": {
        "id": "view-in-github",
        "colab_type": "text"
      },
      "source": [
        "<a href=\"https://colab.research.google.com/github/VicenteMercado/ADA-Informes/blob/main/Informe9_KruskalAlgorithm.ipynb\" target=\"_parent\"><img src=\"https://colab.research.google.com/assets/colab-badge.svg\" alt=\"Open In Colab\"/></a>"
      ]
    },
    {
      "cell_type": "markdown",
      "source": [
        "#1. Problema de optimización.\n",
        "\n",
        "**Entrada**: Grafo **conectado no dirigido y ponderado** $G=(V,E)$ y un costo real $c_e$ para cada arco $e\\in E$.\n",
        "\n",
        "**Salida**: Un árbol recubridor $T\\in E$ de $G$ con el mínimo coste $\\sum\\limits_{e\\in T}c_e$.\n",
        "\n",
        "![image](https://static.javatpoint.com/ds/images/kruskals-algorithm1.png)\n",
        "\n",
        "\n",
        "Cuando se habla de **grafos conexos no dirigidos y ponderados**, sabemos que cada nodo o vértice posee una conexión con otros vértices conocidas también como arcos, y que dichos arcos poseen un costo o peso para llevarse a cabo. Ahora bien, teniendo esta información en cuenta, igualmente se puede dar a conocer **un árbol que recorre cada nodo del grafo original y sin ciclos** de tal manera que el costo de sus conexiones sea el mínimo posible, es decir, un **Árbol Recubridor Mínimo** (o Minimum Spanning Tree). \n",
        "\n",
        "Existen diversos algoritmos que nos pueden facilitar esta tarea, sea dado un grafo de entrada (conexo y no dirigido) junto a los costos de cada uno de sus arcos. Uno de estos algoritmos es conocido como el *Algoritmo de Kruskal*."
      ],
      "metadata": {
        "id": "yNMINdEZQq0D"
      }
    },
    {
      "cell_type": "markdown",
      "source": [
        "#2. Algoritmo de Kruskal. (Minimum Spanning Tree)"
      ],
      "metadata": {
        "id": "87GFsf31GFGw"
      }
    },
    {
      "cell_type": "markdown",
      "source": [
        "##2.1 Código\n",
        "\n",
        "El siguiente código muestra una implementación del Algoritmo de Kruskal. Cabe destacar que el algoritmo es de tipo **Greedy**."
      ],
      "metadata": {
        "id": "abNUY64FGP6-"
      }
    },
    {
      "cell_type": "code",
      "source": [
        "import networkx as nx\n",
        "import matplotlib.pyplot as plt\n",
        "import random\n",
        "\n",
        "\n",
        "verbose = False\n",
        "visualize = False\n",
        "\n",
        "# Crea un grafo de tipo array de arrays\n",
        "# que contiene [i, j, peso]\n",
        "# siendo i y j los nodos conectados\n",
        "\n",
        "def showGraph(G):\n",
        "  # spring_layout: define posiciones para los nodos del grafo\n",
        "  pos=nx.spring_layout(G)\n",
        "\n",
        "  # para mostrar los arcos con sus etiquetas\n",
        "  labels = nx.get_edge_attributes(G,'weight')\n",
        "  nx.draw_networkx_edge_labels(G,pos,edge_labels=labels,font_size=14)\n",
        "\n",
        "  # para mostrar los nodos en sus posiciones y colores, tamaños, etc.\n",
        "  nx.draw(G,pos, node_color='blue', with_labels=True, node_size=800, font_color=\"white\", font_size=14, font_weight=\"black\", width  =7.0, edge_color =\"grey\")\n",
        "\n",
        "def graph_instance_creator(V):\n",
        "  graph = []\n",
        "  for i in range(V):\n",
        "    for j in range(i+1, V):\n",
        "      graph.append([i, j, random.randint(1, 500)])\n",
        "  \n",
        "  return graph\n",
        "\n",
        "# Recibe un grafo de tipo array\n",
        "# Retorna un nx.Graph de la libreria networkx\n",
        "def graph_to_nxgraph(graph):\n",
        "  nxgraph = nx.Graph()\n",
        "  for i in graph:\n",
        "    nxgraph.add_edge(i[0], i[1], weight=i[2])\n",
        "  return nxgraph\n",
        "\n",
        "def find(i):\n",
        "    while parent[i] != i:\n",
        "        i = parent[i]\n",
        "    return i\n",
        "\n",
        "def union(i, j):\n",
        "  a = find(i)\n",
        "  b = find(j)\n",
        "  parent[a] = b\n",
        "\n",
        "def kruskalMST(G, visualize = False, verbose = False):\n",
        "  g = [] #Conjunto inicialmente vacío que almacenará MST final.\n",
        "\n",
        "  arcos_sorted = sorted(G, key = lambda nodo: nodo[2]) #Se ordenan los arcos de menor a mayor según el costo o peso.\n",
        "  if(verbose):\n",
        "    print(\"\")\n",
        "    print(f\"Se ordenan los arcos según peso.\")\n",
        "    print(arcos_sorted)\n",
        "    print(\"\")\n",
        "\n",
        "  i = 0 #Nos posicionamos en el arco de menor peso.\n",
        "  if(verbose): \n",
        "    print(\"Seleccionamos siempre el arco de menor peso.\")\n",
        "    print(\"\")\n",
        "\n",
        "  while i < len(G) - 1:\n",
        "     arco = arcos_sorted[i]; #Seleccionamos el arco de la iteración actual.\n",
        "     if(verbose): \n",
        "      print(f\"Escogemos el arco actual, con vértices {arcos_sorted[i][0]}, {arcos_sorted[i][1]} y peso {arcos_sorted[i][2]}\")\n",
        "     i+=1 # Nos preparamos para el siguiente arco.\n",
        "     aa = find(arco[0]) #Encontramos el grupo al que pertenecen los vértices a y b del arco, respectivamente.\n",
        "     if(verbose): print(f\"{arco[0]} pertenece al grupo del nodo {aa}\")\n",
        "     bb = find(arco[1])\n",
        "     if(verbose): print(f\"mientras que {arco[1]} pertenece al grupo del nodo {bb}\")\n",
        "     if aa != bb: #Si los grupos son distintos, entonces no se genera un ciclo.\n",
        "         if(verbose): \n",
        "           print(\"\")\n",
        "           print(f\"Los nodos pertenecen a grupos distintos, no hay ciclo!\")\n",
        "         g.append(arco) #Se añade el arco a la solución final.\n",
        "         union(aa, bb) #Se unifican los grupos de a y b.\n",
        "\n",
        "         if(verbose): \n",
        "           print(\"Se añade el arco actual al conjunto solución y se unen los grupos de a y b.\")\n",
        "           print(\"\")\n",
        "     else:\n",
        "        if(verbose): \n",
        "          print(\"\")\n",
        "          print(\"Nodos son del mismo grupo, se genera ciclo.\")\n",
        "          print(\"Arco actual es ignorado de la solución final.\")\n",
        "          print(\"\")\n",
        "\n",
        "\n",
        "  min = 0 #Contador de costo total del MST.\n",
        "  if(verbose): \n",
        "    print(\"Se comienza a calcular peso de MST final.\")\n",
        "    print(\"\")\n",
        "  for arco in g:\n",
        "     if(verbose): print(f\"Para el arco {arco}, su peso es {arco[2]}.\")\n",
        "     min += arco[2] #Recorremos los arcos del MST sumando sus costos a min.\n",
        "     if(verbose): \n",
        "       print(f\"Peso total hasta ahora: {min}\")\n",
        "       print(\"\")\n",
        "\n",
        "  if(visualize):\n",
        "    g_grafo = graph_to_nxgraph(g) \n",
        "    showGraph(g_grafo)\n",
        "    plt.title(\"Minimum Spanning Tree\")\n",
        "    plt.show()\n",
        "\n",
        "  return g, min #Retornamos el MST y su costo total.\n",
        "  \n",
        "\n",
        "#Ejemplo \n",
        "\n",
        "V = 3\n",
        "parent = [i for i in range(V)] #Arreglo que almacena los padres de cada nodo (Union-Find).\n",
        "G = graph_instance_creator(V)\n",
        "\n",
        "print(\"Grafo de entrada: \", G)\n",
        "\n",
        "graphMST, min = kruskalMST(G, visualize, verbose)\n",
        "\n",
        "print(\"\")\n",
        "print(\"Las conexiones del MST resultante son: \", graphMST)\n",
        "print(\"El costo del MST para este grafo es: \", min)"
      ],
      "metadata": {
        "id": "yBYoRHstGEAZ",
        "colab": {
          "base_uri": "https://localhost:8080/"
        },
        "outputId": "9f2710bc-28bc-4fc8-b76c-adefc86c5a5e"
      },
      "execution_count": null,
      "outputs": [
        {
          "output_type": "stream",
          "name": "stdout",
          "text": [
            "Grafo de entrada:  [[0, 1, 398], [0, 2, 454], [1, 2, 204]]\n",
            "\n",
            "Las conexiones del MST resultante son:  [[1, 2, 204], [0, 1, 398]]\n",
            "El costo del MST para este grafo es:  602\n"
          ]
        }
      ]
    },
    {
      "cell_type": "markdown",
      "source": [
        "##2.2 Descripción del algoritmo.\n",
        "\n",
        "**Subestructura óptima**\n",
        "\n",
        "Como en este caso estamos trabajando bajo el paradigma de un **algoritmo voraz**, previo a explicar cómo funciona, hay que definir la subestructura óptima de nuestro problema.\n",
        "\n",
        "Considérese $e = (u, v)$ un arco de algún MST. Podemos contraer $e$ uniendo los vértices $u$ y $v$ para así crear un nuevo vértice. Luego, culaquier arco adyacente a dichos vértices es adyacente al nuevo vértice creado, y esto podría resultar en un multiarco si $u$ y $v$ poseen un mismo vecino. \n",
        "Esto lo resolvemos creando un único arco con el menor peso de entre los dos arcos.\n",
        "\n",
        "![image.png](data:image/png;base64,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)\n",
        "\n",
        "Lo anteriormente dicho nos lleva al siguiente lema:\n",
        "\n",
        "> Si $T'$ es un MST de $G/e$, entonces $T'$ ∪ {e} es un MST de $G$.\n",
        "\n",
        "**Prueba del lema:** Sea $T*$ un MST de G que contiene el arco $e$. Entonces $T*/e$ es árbol recubridor de $G' = G/{e}$. Por definición, $T'$ es un MST de $G'$. Es gracias a esto mismo que el peso de $T'$ ó $w(T')$ es menor o igual al de $T*/e$ ó $w(T*/e)$. Luego:\n",
        "\n",
        "![image.png](data:image/png;base64,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)\n",
        "\n",
        "**Funcionamiento del algoritmo**\n",
        "\n",
        "El algoritmo recibe como entrada un grafo conectado no dirigido y ponderado $G=(V,E)$ con $V$ los $n$ nodos del grafo y $E$ arcos.\n",
        "\n",
        "1. Se crea un conjunto vacío `g`, el cual contendrá el árbol recubridor mínimo final.\n",
        "\n",
        "2. Se procede a ordenar los arcos del grafo de entrada `G` de menor a mayor según el peso de cada uno de ellos, y guardamos el resultado en un arreglo auxiliar `arcos_sorted`.\n",
        "\n",
        "4. Por cada valor de `i` desde `0` hasta `len(G) - 1`, tomamos el arco `arco = arcos_sorted[i]` y buscamos el grupo al que pertenecen sus vértices `arco[0]` y `arco[1]`, respectivamente con la función $find$.\n",
        "\n",
        "   * La función $find$ recibe el valor de un vértice como `i` y utiliza un arreglo `parent = [0,...,V-1]`. Luego, se recorre el arreglo `parent`, diciendo que cuando `parent[i]` sea distinto de `i`, el segundo tomará el valor del primero. Finalmente, se retorna el valor de `i`.\n",
        "\n",
        " Luego, si los grupos son distintos, quiere decir que no se forma un ciclo, por lo que se inserta el conjunto `arco` en el conjunto `g` y se unen los grupos de ambos vértices con la función $union$.\n",
        "\n",
        "   * La función $union$ recibe dos vértices como `i` y `j` y utiliza el arreglo `parent` antes mencionado. Se inicializan dos valores como `a = find(i)` y `b = find(j)`, respectivamente. Finalmente, el valor de `parent[a]` será `b`.\n",
        "\n",
        "5. Inicializamos una variable `min = 0` que almacenará el peso total de nuestro MST final. Luego, para cada valor de `arco` dentro del conjunto `g`, le sumamos el valor de `arco[2]` (el peso del arco actual) a la variable `min`.\n",
        "\n",
        "6. Finalmente, retornamos el conjunto `g` y el peso total `min`.\n",
        "\n",
        "$V$ será el tamaño del problema en cuestión.\n",
        "\n",
        "Cuando la variable `verbose` es `True`, se muestra información por pantalla para ver lo que sucede paso a paso dentro de la función de una forma más explícita.\n",
        "\n",
        "Cuando la variable `visualize` es `True`, se muestra por pantalla el grafo (camino) del MST resultante."
      ],
      "metadata": {
        "id": "xpzL73RuY7pV"
      }
    },
    {
      "cell_type": "markdown",
      "source": [
        "##2.3 Ejemplo\n",
        "\n",
        "Considere un grafo conexo no dirigido de $V=3$ vértices, cuyos arcos son:\n",
        "\n",
        "$G = [[0, 1, 214], [0, 2, 18], [1, 2, 394]]$\n",
        "\n",
        "Y además tenemos un arreglo $parent$ que almacenará los \"padres\" de cada nodo, pero que inicialmente tendrá los nodos del grafo:\n",
        "\n",
        "$parent = [0, 1, 2]$\n",
        "\n",
        "Lo primero que hacemos es crear un conjunto vacío $g$, el cual contendrá nuestro Minimum Spanning Tree resultante. Después de eso, ordenamos nuestro arreglo de arcos $G$ de menor a mayor según el peso de cada arco y lo almacenamos en un arreglo auxiliar $arcoSorted$\n",
        "\n",
        "$g = [ ]$\n",
        "\n",
        "$arcoSorted = [[0, 2, 18], [0, 1, 214], [1, 2, 394]]$\n",
        "\n",
        "Una vez realizado esto, tomamos el siguiente arco del conjunto $G$ y lo almacenamos en una variable $arco$.\n",
        "\n",
        "$arco = [0,2,18]$\n",
        "\n",
        "Tomamos los vértices $a$ y $b$ ubicados en $arco[0]$ y $arco[1]$ respectivamente, y conseguimos el grupo al cual pertenece cada uno dado por un nodo representativo existente en el grafo original. Esto con la función $find$, la cual toma el valor el vértice como un índice $i$, y con ello recorre el arreglo $parent$ diciendo que si $parent[i]$ es distinto de $i$, entonces el índice tomará el valor de $parent$ en dicha posición.\n",
        "\n",
        "$a = 0$\n",
        "\n",
        "$find(a): $\n",
        "\n",
        "$parent[0] = 0 ; parent[1] = 1 ; parent[2] = 2$\n",
        "\n",
        "$find(a) = 0$\n",
        "\n",
        "$b = 2$ \n",
        "\n",
        "$find(b): $\n",
        "\n",
        "$parent[2] = 2$\n",
        "\n",
        "$find(b) = 2 $\n",
        "\n",
        "Ya que los grupos de estos dos vértices son distintos, esto quiere decir que no se forma un ciclo dentro del MST actual. Por ende, se inserta el conjunto $arco$ en $g$ y se unifican los grupos con la función $union$.\n",
        "\n",
        "$g = [[0,2,18]]$\n",
        "\n",
        "$union(find(a) = 0,find(b) = 2):$\n",
        "\n",
        "$a = find(0) = 0$\n",
        "\n",
        "$b = find(2) = 2$\n",
        "\n",
        "$parent[0] = 2$\n",
        "\n",
        "$parent = [2, 1, 2]$\n",
        "\n",
        "Realizamos este mismo procedimiento con los arcos restantes de $arcoSorted$.\n",
        "\n",
        "$arco = [0, 1, 214]$\n",
        "\n",
        "$a = 0$\n",
        "\n",
        "$find(a):$\n",
        "\n",
        "$parent[0] = 2 --> find(a) = 2 ; parent[2] = 2$\n",
        "\n",
        "$find(a) = 2$\n",
        "\n",
        "$b = 1$\n",
        "\n",
        "$find(b):$\n",
        "\n",
        "$parent[1] = 1 ; parent[2] = 2$\n",
        "\n",
        "$find(b) = 1$\n",
        "\n",
        "Los grupos son distintos, entonces no forman un ciclo para el MST actual, se inserta el arco a la solución y se unen los grupos.\n",
        "\n",
        "$g = [[0, 2, 18], [0, 1, 214]]$\n",
        "\n",
        "$union(find(a) = 2,find(b) = 1):$\n",
        "\n",
        "$a = find(2) = 2$\n",
        "\n",
        "$b = find(1) = 1$\n",
        "\n",
        "$parent[2] = 1$\n",
        "\n",
        "$parent = [2, 1, 1]$\n",
        "\n",
        "**SIGUIENTE ARCO**:\n",
        "\n",
        "$arco = [1, 2, 394]$\n",
        "\n",
        "$a = 1$\n",
        "\n",
        "$find(a):$\n",
        "\n",
        "$parent[1] = 1 ; parent[2] = 1 ---> find(a) = 1$\n",
        "\n",
        "$find(a) = 1$\n",
        "\n",
        "$b = 2$\n",
        "\n",
        "$find(b):$\n",
        "\n",
        "$parent[2] = 1 ---> find(b) = 1$\n",
        "\n",
        "$find(b) = 1$\n",
        "\n",
        "Como los grupos de ambos vértices son el mismo para esta iteración, esto quiere decir que se formaría un ciclo en nuestro MST actual, por lo que se ignora este arco.\n",
        "Quedamos con nuestro MST final:\n",
        "\n",
        "$g = [[0, 2, 18],[0, 1, 214]]$\n",
        "\n",
        "Ahora, creamos un valor $min = 0$ que almacenará el costo total de este árbol. Luego, para cada arco dentro de $g$, conseguimos su peso y se lo sumamos a la variable $min$.\n",
        "\n",
        "$arco = [0, 2, 18]; peso = 18$\n",
        "\n",
        "$min = 18$\n",
        "\n",
        "$arco = [0, 1, 214]; peso = 214$\n",
        "\n",
        "$min = 232$\n",
        "\n",
        "Finalmente, tenemos nuestro MST resultante, que es $g$, y su peso, que es $min$. \n"
      ],
      "metadata": {
        "id": "-bWF_atsK8Lp"
      }
    },
    {
      "cell_type": "markdown",
      "source": [
        "##2.4 Ejecución del programa paso a paso.\n",
        "\n",
        "Usando la opción `verbose = True`, se puede apreciar qué ocurre durante el proceso del algoritmo y sus llamadas recursivas. Con propósito de probar distintos casos, se utilizará un listado de 5 claves a buscar, con arcos cuyos pesos son generados al azar."
      ],
      "metadata": {
        "id": "otJIivelciqF"
      }
    },
    {
      "cell_type": "code",
      "source": [
        "verbose = True\n",
        "visualize = False\n",
        "V = 5\n",
        "parent = [i for i in range(V)]\n",
        "G = graph_instance_creator(V)\n",
        "\n",
        "print(\"Grafo de entrada: \", G)\n",
        "\n",
        "graphMST, min = kruskalMST(G, visualize, verbose)\n",
        "\n",
        "print(\"\")\n",
        "print(\"Las conexiones del MST resultante son: \", graphMST)\n",
        "print(\"El costo del MST para este grafo es: \", min)"
      ],
      "metadata": {
        "colab": {
          "base_uri": "https://localhost:8080/"
        },
        "id": "SfhIl7vSKj1K",
        "outputId": "25ffd73d-e4ce-420a-f88d-2901efbc3dcb"
      },
      "execution_count": null,
      "outputs": [
        {
          "output_type": "stream",
          "name": "stdout",
          "text": [
            "Grafo de entrada:  [[0, 1, 6], [0, 2, 142], [0, 3, 213], [0, 4, 82], [1, 2, 382], [1, 3, 13], [1, 4, 221], [2, 3, 245], [2, 4, 161], [3, 4, 470]]\n",
            "\n",
            "Se ordenan los arcos según peso.\n",
            "[[0, 1, 6], [1, 3, 13], [0, 4, 82], [0, 2, 142], [2, 4, 161], [0, 3, 213], [1, 4, 221], [2, 3, 245], [1, 2, 382], [3, 4, 470]]\n",
            "\n",
            "Seleccionamos siempre el arco de menor peso.\n",
            "\n",
            "Escogemos el arco actual, con vértices 0, 1 y peso 6\n",
            "0 pertenece al grupo del nodo 0\n",
            "mientras que 1 pertenece al grupo del nodo 1\n",
            "\n",
            "Los nodos pertenecen a grupos distintos, no hay ciclo!\n",
            "Se añade el arco actual al conjunto solución y se unen los grupos de a y b.\n",
            "\n",
            "Escogemos el arco actual, con vértices 1, 3 y peso 13\n",
            "1 pertenece al grupo del nodo 1\n",
            "mientras que 3 pertenece al grupo del nodo 3\n",
            "\n",
            "Los nodos pertenecen a grupos distintos, no hay ciclo!\n",
            "Se añade el arco actual al conjunto solución y se unen los grupos de a y b.\n",
            "\n",
            "Escogemos el arco actual, con vértices 0, 4 y peso 82\n",
            "0 pertenece al grupo del nodo 3\n",
            "mientras que 4 pertenece al grupo del nodo 4\n",
            "\n",
            "Los nodos pertenecen a grupos distintos, no hay ciclo!\n",
            "Se añade el arco actual al conjunto solución y se unen los grupos de a y b.\n",
            "\n",
            "Escogemos el arco actual, con vértices 0, 2 y peso 142\n",
            "0 pertenece al grupo del nodo 4\n",
            "mientras que 2 pertenece al grupo del nodo 2\n",
            "\n",
            "Los nodos pertenecen a grupos distintos, no hay ciclo!\n",
            "Se añade el arco actual al conjunto solución y se unen los grupos de a y b.\n",
            "\n",
            "Escogemos el arco actual, con vértices 2, 4 y peso 161\n",
            "2 pertenece al grupo del nodo 2\n",
            "mientras que 4 pertenece al grupo del nodo 2\n",
            "\n",
            "Nodos son del mismo grupo, se genera ciclo.\n",
            "Arco actual es ignorado de la solución final.\n",
            "\n",
            "Escogemos el arco actual, con vértices 0, 3 y peso 213\n",
            "0 pertenece al grupo del nodo 2\n",
            "mientras que 3 pertenece al grupo del nodo 2\n",
            "\n",
            "Nodos son del mismo grupo, se genera ciclo.\n",
            "Arco actual es ignorado de la solución final.\n",
            "\n",
            "Escogemos el arco actual, con vértices 1, 4 y peso 221\n",
            "1 pertenece al grupo del nodo 2\n",
            "mientras que 4 pertenece al grupo del nodo 2\n",
            "\n",
            "Nodos son del mismo grupo, se genera ciclo.\n",
            "Arco actual es ignorado de la solución final.\n",
            "\n",
            "Escogemos el arco actual, con vértices 2, 3 y peso 245\n",
            "2 pertenece al grupo del nodo 2\n",
            "mientras que 3 pertenece al grupo del nodo 2\n",
            "\n",
            "Nodos son del mismo grupo, se genera ciclo.\n",
            "Arco actual es ignorado de la solución final.\n",
            "\n",
            "Escogemos el arco actual, con vértices 1, 2 y peso 382\n",
            "1 pertenece al grupo del nodo 2\n",
            "mientras que 2 pertenece al grupo del nodo 2\n",
            "\n",
            "Nodos son del mismo grupo, se genera ciclo.\n",
            "Arco actual es ignorado de la solución final.\n",
            "\n",
            "Se comienza a calcular peso de MST final.\n",
            "\n",
            "\n",
            "Las conexiones del MST resultante son:  [[0, 1, 6], [1, 3, 13], [0, 4, 82], [0, 2, 142]]\n",
            "El costo del MST para este grafo es:  0\n"
          ]
        }
      ]
    },
    {
      "cell_type": "markdown",
      "source": [
        "##2.5 Visualización de grafo de MST."
      ],
      "metadata": {
        "id": "dt6m_Yv1m-5P"
      }
    },
    {
      "cell_type": "code",
      "source": [
        "visualize = True\n",
        "verbose = False\n",
        "V = 5\n",
        "parent = [i for i in range(V)]\n",
        "G = graph_instance_creator(V)\n",
        "\n",
        "print(\"Grafo de entrada: \", G)\n",
        "\n",
        "graphMST, min = kruskalMST(G, visualize, verbose)\n",
        "\n",
        "print(\"\")\n",
        "print(\"Las conexiones del MST resultante son: \", graphMST)\n",
        "print(\"El costo del MST para este grafo es: \", min)"
      ],
      "metadata": {
        "colab": {
          "base_uri": "https://localhost:8080/",
          "height": 358
        },
        "id": "xUuBbPFgnKyX",
        "outputId": "c6e22b9f-aeb0-441c-c2ce-2a946bd8b278"
      },
      "execution_count": null,
      "outputs": [
        {
          "output_type": "stream",
          "name": "stdout",
          "text": [
            "Grafo de entrada:  [[0, 1, 362], [0, 2, 231], [0, 3, 18], [0, 4, 287], [1, 2, 13], [1, 3, 339], [1, 4, 290], [2, 3, 453], [2, 4, 212], [3, 4, 172]]\n"
          ]
        },
        {
          "output_type": "display_data",
          "data": {
            "text/plain": [
              "<Figure size 432x288 with 1 Axes>"
            ],
            "image/png": "[encoded data removed]"
          },
          "metadata": {}
        },
        {
          "output_type": "stream",
          "name": "stdout",
          "text": [
            "\n",
            "Las conexiones del MST resultante son:  [[1, 2, 13], [0, 3, 18], [3, 4, 172], [2, 4, 212]]\n",
            "El costo del MST para este grafo es:  0\n"
          ]
        }
      ]
    },
    {
      "cell_type": "markdown",
      "source": [
        "#3. Correctitud\n",
        "\n"
      ],
      "metadata": {
        "id": "-nubQRFWyB3E"
      }
    },
    {
      "cell_type": "markdown",
      "source": [
        "##3.1 Teorema (Correctitud de la función KruskalMST)\n",
        "\n",
        "*El algoritmo KruskalMST recibe un vector de $E$ arcos, el cual es $G = [e_1,e_2,...,e_E]$, retornando un MST del grafo original.*"
      ],
      "metadata": {
        "id": "C7v47n7Ny5US"
      }
    },
    {
      "cell_type": "markdown",
      "source": [
        "###Prueba del teorema.\n",
        "\n",
        "Para probar la correctitud de este algoritmo, se empleará la siguiente **hipótesis $P(n)$**:\n",
        "\n",
        "> KruskalMST retorna el MST del grafo de entrada $G = (V,E)$.\n",
        "\n",
        "**Caso base** $(n = 0)$\n",
        "\n",
        "Al ver que nuestro grafo de entrada está vacío $(V = 0)$, esto quiere decir que ya tenemos un MST para este caso, ya que siempre va a ser el mismo. Esto es trivialmente cierto.\n",
        "\n",
        "**Caso inductivo** $(m < n)$\n",
        "\n",
        "Sea $G'$ una serie de $m$ arcos y $T$ un MST que contiene a $G'$.\n",
        "\n",
        "* Si el siguiente arco escogido $e$ está presente en $T$, entonces la hipótesis es cierta para $G' + e$.\n",
        "\n",
        "* De no cumplirse lo anterior, entonces $T + e$ posee un ciclo $C$. Dicho ciclo contiene arcos que no pertenecen a $G'$, ya que $e$ no forma un ciclo cuando es añadido a $G'$ pero sí en $T$. Sea $g$ un arco que está en $C$ pero no en $G' + e$. Nótese que $g$ pertenece a $T$, y según la hipótesis $P$, no fue considerado por el algoritmo. Por tanto, $g$ tiene un peso mayor o igual a $e$. Luego, $T - g + e$ es un árbol, el cual posee un peso menor o igual a $T$. Por tanto, $T - g + e$ es un MST que contiene a $G' + e$.\n",
        "\n",
        "Por tanto, por inducción, la hipótesis se mantiene cuando $G'$ se vuelve un árbol recubridor, lo cuál se cumple solamente cuando $G'$ es un MST, por lo que **KruskalMST es correcto**."
      ],
      "metadata": {
        "id": "f1WV-hmM1C8R"
      }
    },
    {
      "cell_type": "markdown",
      "source": [
        "#4. Tiempo de ejecución"
      ],
      "metadata": {
        "id": "YuDeanHGo6tW"
      }
    },
    {
      "cell_type": "markdown",
      "source": [
        "##4.1 Teorema \n",
        "\n",
        "El algoritmo `KruskalMST` en su forma implementada en el punto `2.1` posee un tiempo de ejecución $O(E*log(E))$ para **su peor y mejor caso**."
      ],
      "metadata": {
        "id": "ivr64j_epatH"
      }
    },
    {
      "cell_type": "markdown",
      "source": [
        "##4.2 Prueba del teorema\n",
        "\n",
        "Al analizar detenidamente nuestro código detenidamente, podemos ver que:\n",
        "\n",
        " * Primero se realiza un ordenamiento del arreglo de arcos de entrada a partir de sus pesos, lo cual toma un tiempo $O(E*log(E))$ (MergeSort).\n",
        " * Iteramos sobre todos los arcos, con un tiempo de ejecución $O(E)$.\n",
        " * Por cada arco, aplicamos el algoritmo **Union-Find**, el cual se utiliza dos veces. Ambas operaciones toman a lo más un tiempo $O(log V)$.\n",
        "\n",
        "Tenemos por tanto, la complejidad $O(E*log(E) + E*log(V))$.\n",
        "\n",
        "Luego, ya que la cantidad de arcos es a los más $V^2$, tenemos que:\n",
        "\n",
        "$log V^2 = 2*log(V) = O(log(V))$\n",
        "\n",
        "Por tanto, la complejidad temporal de este algoritmo es $O(E*log(E))$.\n"
      ],
      "metadata": {
        "id": "Qa8FfUt0qy9M"
      }
    },
    {
      "cell_type": "markdown",
      "source": [
        "#5. Experimentos"
      ],
      "metadata": {
        "id": "xKZpmVcXu95a"
      }
    },
    {
      "cell_type": "markdown",
      "source": [
        "##5.1 Tiempo de ejecución (experimental)\n",
        "\n",
        "El siguiente gráfico mostrará el tiempo de ejecución del algoritmo `KruskalMST`, en función del tamaño del problema `V` entre 5 y 100."
      ],
      "metadata": {
        "id": "ZCJhKV2BvDd-"
      }
    },
    {
      "cell_type": "code",
      "source": [
        "import matplotlib.pyplot as plt\n",
        "import datetime\n",
        "from timeit import repeat\n",
        "\n",
        "verb = False\n",
        "visualize = False\n",
        "\n",
        "x1=[]; y1=[]\n",
        "\n",
        "for v in range(5,100):\n",
        "  V = v\n",
        "  parent = [i for i in range(V)]\n",
        "  G = graph_instance_creator(V)\n",
        "\n",
        "  #la función repeat está ejecutando 20 veces kruskalMST y retorna el mejor tiempo obtenido.\n",
        "  t = repeat(setup=\"from __main__ import kruskalMST\", stmt=f\"kruskalMST({G},{visualize},{verb})\", repeat=1, number=10)\n",
        "\n",
        "  x1.append(v)\n",
        "  y1.append(t)\n",
        "\n",
        "\n",
        "plt.plot(x1,y1)\n",
        "plt.legend([\"Algoritmo de Kruskal\"])\n",
        "\n",
        "plt.xlabel('n')\n",
        "plt.ylabel('time in ms')\n",
        "plt.show()"
      ],
      "metadata": {
        "colab": {
          "base_uri": "https://localhost:8080/",
          "height": 279
        },
        "id": "Yd4-nGVvwFVZ",
        "outputId": "66e9539d-a48c-4ba1-8cae-88c383b55e72"
      },
      "execution_count": null,
      "outputs": [
        {
          "output_type": "display_data",
          "data": {
            "text/plain": [
              "<Figure size 432x288 with 1 Axes>"
            ],
            "image/png": "[encoded data removed]"
          },
          "metadata": {
            "needs_background": "light"
          }
        }
      ]
    },
    {
      "cell_type": "markdown",
      "source": [
        "## Análisis de resultados\n",
        "\n",
        "Como podemos ver en nuestro grafico, y como era de esperarse, el tiempo de ejecución experimental de nuestro algoritmo sufre una curva de crecimiento exponencial, a medida que aumenta el tamaño del problema.\n",
        "\n",
        "Cabe destacar que existen ciertos peaks de tiempos a lo largo de la gráfica. Posiblemente esto se deba a las propiedades de los arcos generados para cada grafo de prueba, así como el comportamiento impredecible de los procesadores y tal vez otros procesos que los estén utilizando."
      ],
      "metadata": {
        "id": "_iYGaw3wz5nU"
      }
    },
    {
      "cell_type": "markdown",
      "source": [
        "##5.2 Tiempos de ejecución (Prim vs Kruskal)\n",
        "\n",
        "El siguiente gráfico mostrará la comparación de tiempos de ejecución del algoritmo de Kruskal frente al algoritmo de Prim, en función del tamaño del problema `V` entre 5 y 100."
      ],
      "metadata": {
        "id": "DF75FM_x2I1b"
      }
    },
    {
      "cell_type": "code",
      "source": [
        "import sys  # Library for INT_MAX\n",
        "\n",
        "class Graph():\n",
        "\n",
        "\tdef __init__(self, vertices):\n",
        "\t\tself.V = vertices\n",
        "\t\tself.graph = [[0 for column in range(vertices)]\n",
        "\t\t\t\t\tfor row in range(vertices)]\n",
        "\n",
        "\t# A utility function to print the constructed MST stored in parent[]\n",
        "\tdef printMST(self, parent):\n",
        "\t\tprint(\"Edge \\tWeight\")\n",
        "\t\tfor i in range(1, self.V):\n",
        "\t\t\tprint(parent[i], \"-\", i, \"\\t\", self.graph[i][parent[i]])\n",
        "   \n",
        "\tdef MST(self, parent):\n",
        "\t\tr = []\n",
        "\t\tfor i in range(1, self.V):\n",
        "\t\t\tr.append([parent[i], i, self.graph[i][parent[i]]])\n",
        "\t\treturn r\n",
        "\n",
        "\t# A utility function to find the vertex with\n",
        "\t# minimum distance value, from the set of vertices\n",
        "\t# not yet included in shortest path tree\n",
        "\tdef minKey(self, key, mstSet):\n",
        "\n",
        "\t\t# Initialize min value\n",
        "\t\tmin = sys.maxsize\n",
        "\n",
        "\t\tfor v in range(self.V):\n",
        "\t\t\tif key[v] < min and mstSet[v] == False:\n",
        "\t\t\t\tmin = key[v]\n",
        "\t\t\t\tmin_index = v\n",
        "\n",
        "\t\treturn min_index\n",
        "\n",
        "\t# Function to construct and print MST for a graph\n",
        "\t# represented using adjacency matrix representation\n",
        "\tdef primMST(self):\n",
        "\n",
        "\t\t# Key values used to pick minimum weight edge in cut\n",
        "\t\tkey = [sys.maxsize] * self.V\n",
        "\t\tparent = [None] * self.V # Array to store constructed MST\n",
        "\t\t# Make key 0 so that this vertex is picked as first vertex\n",
        "\t\tkey[0] = 0\n",
        "\t\tmstSet = [False] * self.V\n",
        "\n",
        "\t\tparent[0] = -1 # First node is always the root of\n",
        "\n",
        "\t\tfor cout in range(self.V):\n",
        "\n",
        "\t\t\t# Pick the minimum distance vertex from\n",
        "\t\t\t# the set of vertices not yet processed.\n",
        "\t\t\t# u is always equal to src in first iteration\n",
        "\t\t\tu = self.minKey(key, mstSet)\n",
        "\n",
        "\t\t\t# Put the minimum distance vertex in\n",
        "\t\t\t# the shortest path tree\n",
        "\t\t\tmstSet[u] = True\n",
        "\n",
        "\t\t\t# Update dist value of the adjacent vertices\n",
        "\t\t\t# of the picked vertex only if the current\n",
        "\t\t\t# distance is greater than new distance and\n",
        "\t\t\t# the vertex in not in the shortest path tree\n",
        "\t\t\tfor v in range(self.V):\n",
        "\t\t\t\t# graph[u][v] is non zero only for adjacent vertices of m\n",
        "\t\t\t\t# mstSet[v] is false for vertices not yet included in MST\n",
        "\t\t\t\t# Update the key only if graph[u][v] is smaller than key[v]\n",
        "\t\t\t\tif self.graph[u][v] > 0 and mstSet[v] == False and key[v] > self.graph[u][v]:\n",
        "\t\t\t\t\tkey[v] = self.graph[u][v]\n",
        "\t\t\t\t\tparent[v] = u\n",
        "\n",
        "\t\treturn self.MST(parent)\n",
        "\n",
        "def graphToGraph2(G, n): \n",
        "  g = Graph(n)\n",
        "\n",
        "  for u,v,w in G:\n",
        "      g.graph[u-1][v-1] = w\n",
        "      g.graph[v-1][u-1] = w\n",
        "\n",
        "  return g\n",
        "\n",
        "\n",
        "if __name__ == '__main__':\n",
        "    g = graph_instance_creator(4)\n",
        "    gr = graphToGraph2(g,4)\n",
        " \n",
        "    arbol = gr.primMST()\n",
        "    print(arbol)"
      ],
      "metadata": {
        "colab": {
          "base_uri": "https://localhost:8080/"
        },
        "id": "WPbtwNZ4FxgQ",
        "outputId": "85c36034-f7e7-412c-b920-1207ab05c940"
      },
      "execution_count": null,
      "outputs": [
        {
          "output_type": "stream",
          "name": "stdout",
          "text": [
            "[[0, 1, 107], [1, 2, 183], [2, 3, 73]]\n"
          ]
        }
      ]
    },
    {
      "cell_type": "code",
      "source": [
        "import matplotlib.pyplot as plt\n",
        "import datetime\n",
        "from timeit import repeat\n",
        "\n",
        "verb = False\n",
        "visualize = False\n",
        "\n",
        "x1=[]; y1=[]; y2=[]\n",
        "\n",
        "\n",
        "\n",
        "for V in range(5,100):\n",
        "  parent = [i for i in range(V)]\n",
        "  G = graph_instance_creator(V)\n",
        "  grafo2 = graphToGraph2(G,V)\n",
        "\n",
        "  t1 = repeat(setup=\"from __main__ import Graph\", stmt=f\"{grafo2.primMST()}\", repeat=1, number=10)\n",
        "  t = repeat(setup=\"from __main__ import kruskalMST\", stmt=f\"kruskalMST({G},{visualize},{verb})\", repeat=1, number=10)\n",
        "\n",
        "  x1.append(V)\n",
        "  y1.append(t)\n",
        "  y2.append(t1)\n",
        "\n",
        "\n",
        "plt.plot(x1,y1)\n",
        "plt.plot(x1,y2)\n",
        "plt.legend([\"Algoritmo de Kruskal\", \"Algoritmo de Prim\"])\n",
        "\n",
        "plt.xlabel('n')\n",
        "plt.ylabel('time in ms')\n",
        "plt.show()"
      ],
      "metadata": {
        "colab": {
          "base_uri": "https://localhost:8080/",
          "height": 279
        },
        "id": "7gXLwVs5LdKB",
        "outputId": "18c47f07-0657-4940-dbb7-e16b85579130"
      },
      "execution_count": null,
      "outputs": [
        {
          "output_type": "display_data",
          "data": {
            "text/plain": [
              "<Figure size 432x288 with 1 Axes>"
            ],
            "image/png": "[encoded data removed]"
          },
          "metadata": {
            "needs_background": "light"
          }
        }
      ]
    }
  ]
}