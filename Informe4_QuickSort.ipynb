{
  "nbformat": 4,
  "nbformat_minor": 0,
  "metadata": {
    "colab": {
      "provenance": [],
      "collapsed_sections": [],
      "toc_visible": true,
      "authorship_tag": "ABX9TyPfCzIxRxVgcfNRatcXXPCu",
      "include_colab_link": true
    },
    "kernelspec": {
      "name": "python3",
      "display_name": "Python 3"
    },
    "language_info": {
      "name": "python"
    }
  },
  "cells": [
    {
      "cell_type": "markdown",
      "metadata": {
        "id": "view-in-github",
        "colab_type": "text"
      },
      "source": [
        "<a href=\"https://colab.research.google.com/github/VicenteMercado/ADA-Informes/blob/main/Informe4_QuickSort.ipynb\" target=\"_parent\"><img src=\"https://colab.research.google.com/assets/colab-badge.svg\" alt=\"Open In Colab\"/></a>"
      ]
    },
    {
      "cell_type": "markdown",
      "source": [
        "#1. Problema del ordenamiento\n",
        "\n",
        "**Entrada**: Secuencia de n números $[a_1,a_2,...,a_n]$\n",
        "\n",
        "**Salida**: Permutación ordenada de la secuencia de entrada: $[a_1',a_2',...,a_n']$, de tal manera que $a_1'\\leq a_2' \\leq... \\leq a_n'$.\n",
        "\n",
        "![image](https://users.dcc.uchile.cl/~bebustos/apuntes/cc3001/Ordenacion/arbol-particion.gif)\n",
        "\n",
        "Anteriormente, habíamos visto el teorema detrás del paradigma \"*Divide y vencerás*\" como método para la resolución de problemas y una demostración del cómo funciona a partir de su implementación en un algoritmo de ordenamiento (*MergeSort*). Ahora bien, este no es el único algoritmo de su clase que lo utiliza, como es el caso del **QuickSort**, creado por el científico británico en computación *Charles Anthony Richard Hoare* alrededor del año 1960.\n"
      ],
      "metadata": {
        "id": "t9M9ivTX4mhF"
      }
    },
    {
      "cell_type": "markdown",
      "source": [
        "#2. QuickSort\n",
        "\n"
      ],
      "metadata": {
        "id": "l_3fdW-H-pn-"
      }
    },
    {
      "cell_type": "markdown",
      "source": [
        "##2.1 Código.\n",
        "\n",
        "\n",
        "El siguiente código muestra una implementación del algoritmo `QuickSort`."
      ],
      "metadata": {
        "id": "_4Apum5w-tkO"
      }
    },
    {
      "cell_type": "code",
      "source": [
        "import random\n",
        "\n",
        "opt = random.randint(1,3)\n",
        "comp1 = 0 #Contador de comparaciones Partition con pivote al inicio\n",
        "comp2 = 0 #Contador de comparaciones Partition con pivote al final\n",
        "comp3 = 0 #Contador de comparaciones Partition con pivote como mediana de 3 elementos.\n",
        "\n",
        "def medianOfThree(a,b,c,verbose):\n",
        "  if(a <= b and b <= c):\n",
        "    return b\n",
        "  if(c <= b and b <= a):\n",
        "    return b\n",
        "  if(a <= c and c <= b):\n",
        "    return c\n",
        "  if(b <= c and c <= a):\n",
        "    return c\n",
        "  return a\n",
        "\n",
        "def partitionMedian(arr,p,r,verbose):\n",
        "  global comp3\n",
        "  n1 = random.randint(p,r) #Se obtienen 3 índices al azar dentro del arreglo\n",
        "  n2 = random.randint(p,r)\n",
        "  n3 = random.randint(p,r)\n",
        "\n",
        "  pivote = medianOfThree(arr[n1],arr[n2],arr[n3],verbose) #Se utilizan los datos en dichos índices para conseguir la mediana entre ellos.\n",
        "  if(verbose == True): print(f\"Se utilizan {arr[n1]}, {arr[n2]} y {arr[n3]}, la mediana es {pivote}\")\n",
        "\n",
        "  pivoteIndex = arr.index(pivote)\n",
        "  arr[pivoteIndex], arr[p] = arr[p], arr[pivoteIndex] ; comp3 += 1 #Se intercambian los datos del pivote con los del primer elemento.\n",
        "  if(verbose == True): print(f\"Se intercambian datos del pivote con los de la primera posición ({arr[p]})\")\n",
        "\n",
        "  i = p + 1 #Puntero a la siguiente posición del primer elemento.\n",
        "  for j in range(p, r+1):\n",
        "      if arr[j] < pivote: #Elemento en j menor al del pivote, se intercambian los datos.\n",
        "          if(verbose == True): print(f\"Elemento en j = {arr[j]} menor al del pivote, se intercambian los datos.\")\n",
        "          aux = arr[j]\n",
        "          arr[j] = arr[i]\n",
        "          arr[i] = aux\n",
        "          i += 1 ; comp3+=1\n",
        "          if(verbose == True): print(arr)\n",
        "      \n",
        "\n",
        "  if(verbose == True): print(f\"Se intercambian datos del índice puntero con los de la primera posición ({arr[p]})\")\n",
        "  arr[p], arr[i-1] = arr[i-1], arr[p]; comp3+=1 #Se intercambian los datos de la posición anterior a i y de p.\n",
        "  if(verbose == True): print(arr)\n",
        "\n",
        "  return i - 1 #Se retorna i-1 como pivote propuesto.\n",
        "\n",
        "def partitionStart(arr,p,r,verbose):\n",
        "  global comp1\n",
        "  pivote = arr[p] #Pivote será el primer elemento del arreglo.\n",
        "  if(verbose == True): print(\"Pivote al inicio del arreglo: \", pivote)\n",
        "  i = p+1 # Puntero a la posición siguiente del primer elemento.\n",
        "  j = r #Puntero al final del arreglo.\n",
        "  \n",
        "  while(i<=j):\n",
        "    if(arr[i]<pivote): i+=1 #Elemento en i menor al del pivote, aumenta i.\n",
        "    comp1+=1 \n",
        "    if(arr[j]>pivote): j-=1 #Elemento en j mayor al del pivote, disminuye j.\n",
        "    comp1+=1 \n",
        "    if(i<=j): #Si i es menor o igual a j, se intercambian los datos en ambos índices.\n",
        "      if(verbose == True): print(f\"Se intercambian datos en i = {arr[i]} y j = {arr[j]}\")\n",
        "      arr[i],arr[j] = arr[j], arr[i] ; comp1 += 1\n",
        "      if(verbose == True): print(arr)\n",
        "  \n",
        "  arr[p], arr[j] = arr[j], arr[p] ; comp1 += 1 #Se intercambian los datos en j con los del pivote.\n",
        "  if(verbose == True): \n",
        "    print(f\"Intercambio de dato en j = {arr[j]} con pivote\")\n",
        "    print(arr)\n",
        "  return j #Se retorna j como pivote propuesto.\n",
        "\n",
        "def partitionEnd(arr,p,r,verbose):\n",
        "  global comp2\n",
        "  pivote = arr[r] #Pivote será el elemento final del arreglo.\n",
        "  if(verbose == True): print(\"Pivote al final del arreglo: \", pivote)\n",
        "  topeIzq = p # Puntero al primer elemento para comparaciones.\n",
        "  if(verbose == True): \n",
        "    print(\"Puntero al inicio del arreglo: \", arr[topeIzq])\n",
        "    print(\"\")\n",
        "\n",
        "  for i in range(p,r):\n",
        "    if(arr[i] <= pivote): #Si el elemento en i es menor o igual al del pivote, se intercambia con el valor del puntero.\n",
        "      if(verbose == True): print(f\"{arr[i]} menor que {pivote}, se produce cambio con {arr[topeIzq]}: \")\n",
        "      arr[topeIzq],arr[i] = arr[i], arr[topeIzq] ;  comp2+=1\n",
        "      if(verbose == True): print(arr)\n",
        "      topeIzq +=1 #Aumenta el puntero para comparar en la siguiente posición.\n",
        "\n",
        "  if(verbose == True): print(f\"Intercambio de datos del índice ({arr[topeIzq]}) puntero con el del pivote: \")\n",
        "  arr[topeIzq],arr[r] = arr[r],arr[topeIzq]; comp2 += 1 #Se intercambian los datos entre el puntero final y la última posición.\n",
        "  if(verbose == True): print(arr)\n",
        "\n",
        "  return topeIzq #Se retorna el puntero como pivote propuesto.\n",
        "\n",
        "def quickSort(arr,p,r,verbose):\n",
        "  global opt #Variable para definir tipo de Partition a ocupar.\n",
        "  if len(arr) == 1:\n",
        "        if(verbose == True): print(\"Se retorna arreglo de largo 1: \", arr)\n",
        "        return arr #Se retorna arreglo de largo 1 (técnicamente ordenado de menor a mayor)\n",
        "  if p < r:\n",
        "        if(verbose == True): print(\"Se procede a buscar el pivote del arreglo.\")\n",
        "        if(opt == 1): q = partitionStart(arr,p, r, verbose) #Pivote al inicio\n",
        "        if(opt == 2): q = partitionEnd(arr,p, r, verbose) #Pivote al final\n",
        "        if(opt == 3): q = partitionMedian(arr,p,r, verbose) #Pivote como mediana de 3 elementos.\n",
        "        \n",
        "        if(verbose == True):\n",
        "          print(\"\") \n",
        "          print(\"Se ordena arreglo por la izquierda del pivote: \", arr[p:q-1])\n",
        "        quickSort(arr,p, q-1, verbose)  # Ordenamiento de elementos por la izquierda\n",
        "        if(verbose == True): print(\"Se ordena arreglo por la derecha del pivote: \", arr[q+1:r])\n",
        "        quickSort(arr,q+1,r,verbose)  # Ordenamiento de elementos por la derecha.\n",
        "  return arr\n",
        "\n",
        "#Ejemplo\n",
        "a = [5,8,4,2,10,9]\n",
        "print(\"Input Array: \", a)\n",
        "verb = False\n",
        "a = quickSort(a, 0, len(a)-1,verb)\n",
        "print(\"Output Array: \", a)\n",
        "print(\"\")\n",
        "print(\"Comparaciones PartitionStart: \", comp1)\n",
        "print(\"Comparaciones PartitionEnd: \", comp2)\n",
        "print(\"Comparaciones PartitionMedian: \", comp3)"
      ],
      "metadata": {
        "colab": {
          "base_uri": "https://localhost:8080/"
        },
        "id": "Qt4H5Uib6vQ-",
        "outputId": "fa42f360-94be-4b4a-cecc-41976f3069a1"
      },
      "execution_count": 94,
      "outputs": [
        {
          "output_type": "stream",
          "name": "stdout",
          "text": [
            "Input Array:  [5, 8, 4, 2, 10, 9]\n",
            "Output Array:  [2, 4, 5, 8, 9, 10]\n",
            "\n",
            "Comparaciones PartitionStart:  0\n",
            "Comparaciones PartitionEnd:  0\n",
            "Comparaciones PartitionMedian:  14\n"
          ]
        }
      ]
    },
    {
      "cell_type": "markdown",
      "source": [
        "##2.2 Descripción del algoritmo\n",
        "\n",
        "El algoritmo recibe como entrada una lista (o arreglo) $arr$ con la secuencia de $n$ elementos que se desean ordenar.\n",
        "\n",
        "1. Para cada llamada recursiva, `quickSort` busca un pivote para la división del arreglo en dos particiones $arr[0,...,q-1]$ y $arr[q+1,...,n-1]$ con la función `partition`, la cual funciona de tres maneras distintas según el valor de `opt`:\n",
        "\n",
        " * `opt == 1`, el pivote será siempre el elemento inicial del arreglo.\n",
        " * `opt == 2`, el pivote será siempre el elemento final del arreglo.\n",
        " * `opt == 3`, el pivote será la mediana de tres elementos del arreglo al azar.\n",
        "\n",
        " Luego de hallar el pivote, `quickSort` se llama a sí misma con cada partición del arreglo.\n",
        "\n",
        "2. Si la partición resultante está compuesta de una sóla posición, entonces técnicamente está ordenada de menor a mayor, y por ende se retorna. En caso contrario, se repite el **paso 1**.\n",
        "\n",
        "3. Finalmente y una vez ordenadas todas las particiones de menor a mayor, esto quiere decir por tanto que el arreglo original ya está ordenado de menor a mayor y, por tanto, se retorna.\n",
        "\n",
        "$n$ será el tamaño del problema en cuestión.\n",
        "\n",
        "Cuando la variable `verbose` es `True`, se muestra información por pantalla para ver lo que sucede paso a paso dentro de la función de una forma más explícita."
      ],
      "metadata": {
        "id": "rJwoLHbWMKy7"
      }
    },
    {
      "cell_type": "markdown",
      "source": [
        "##2.3 Ejemplo\n",
        "\n",
        "Tengamos en cuenta el siguiente arreglo:\n",
        "\n",
        "* $x = [8, 4, 6, 2, 10]$\n",
        "\n",
        "En primer lugar, se selecciona el pivote a partir del cual ordenarlo. Para este ejemplo, se eligirá el pivote como el elemento final del arreglo.\n",
        "\n",
        "* $x = [8, 4, 6, 2, 10]$\n",
        "\n",
        "$pivote = 10$\n",
        "\n",
        "Partimos desde el primer elemento del arreglo como el tope por la izquierda, comparando los valores de las posiciones previas al pivote con el de este. Si dicho valor es menor o igual al del pivote, se intercambia con el tope izquierdo hallado hasta el momento y el índice aumenta.\n",
        "\n",
        "* $x = [8 (i)(topeIzq), 4 , 6, 2, 10 (pivote)]$\n",
        "\n",
        "* $x = [8, 4 (i)(topeIzq), 6, 2, 10 (pivote)]$\n",
        "\n",
        "* $x = [8, 4, 6 (i)(topeIzq), 2, 10 (pivote)]$\n",
        "\n",
        "* $x = [8, 4, 6, 2 (i)(topeIzq), 10 (pivote)]$\n",
        "\n",
        "Luego, como el pivote es mayor a todas las demás posiciones, no se produce un intercambio y se dividen las particiones a partir del pivote.\n",
        "\n",
        "* $x_a = [8, 4, 6, 2] ; x_b = []$\n",
        "\n",
        "Como en este caso el arreglo $x_b$ es un arreglo vacío, técnicamente se encuentra ordenado de menor a mayor, por lo que se deja de lado por ahora.\n",
        "Realizamos el mismo procedimiento descrito anteriormente con $x_a$.\n",
        "\n",
        "* $x_a = [8, 4, 6, 2]$\n",
        "\n",
        "$pivote = 2$\n",
        "\n",
        "* $x_a = [8 (i)(topeIzq), 4, 6, 2 (pivote)]$\n",
        "\n",
        "* $x_a = [8 (topeIzq), 4(i), 6, 2 (pivote)]$\n",
        "\n",
        "* $x_a = [8 (topeIzq), 4, 6 (i), 2 (pivote)]$\n",
        "\n",
        "Se intercambian los datos entre el tope izquierdo y el pivote y se generan las particiones.\n",
        "\n",
        "* $x_a = [2, 4, 6]$ ; $x_b = []$\n",
        "\n",
        "Finalmente y como la partición presente no vacía ya se encuentra ordenada, se dice por ende que tenemos nuestro arreglo $x$ ordenado de menor a mayor.\n",
        "\n",
        "* $x = [2, 4, 6, 8, 10]$\n"
      ],
      "metadata": {
        "id": "YqGYCNlxuQot"
      }
    },
    {
      "cell_type": "markdown",
      "source": [
        "##2.4 Ejecución del programa paso a paso.\n",
        "\n",
        "Usando la opción `verbose = True`, se puede apreciar qué ocurre durante el proceso del algoritmo y sus llamadas recursivas. Con propósito de probar distintos casos, se utilizará un arreglo de tamaño $n = 5$, con elementos generados al azar en un rango del 1 al 100 cada uno."
      ],
      "metadata": {
        "id": "Cix9tHqYPTCw"
      }
    },
    {
      "cell_type": "code",
      "source": [
        "import random\n",
        "a = random.sample(range(1, 100), 5)\n",
        "print(\"Input array: \", a)\n",
        "print(\"\")\n",
        "a = quickSort(a, 0, len(a)-1, verbose=True)\n",
        "print(\"\")\n",
        "print(\"Output array: \", a)"
      ],
      "metadata": {
        "colab": {
          "base_uri": "https://localhost:8080/"
        },
        "id": "E2YA2kNnPX3R",
        "outputId": "ac772b12-827b-4c45-812d-8a967625a762"
      },
      "execution_count": 89,
      "outputs": [
        {
          "output_type": "stream",
          "name": "stdout",
          "text": [
            "Input array:  [15, 49, 93, 37, 7]\n",
            "\n",
            "Se procede a buscar el pivote del arreglo.\n",
            "Pivote al final del arreglo:  7\n",
            "Puntero al inicio del arreglo:  15\n",
            "\n",
            "Intercambio de datos del índice (15) puntero con el del pivote: \n",
            "[7, 49, 93, 37, 15]\n",
            "\n",
            "Se ordena arreglo por la izquierda del pivote:  [7, 49, 93, 37]\n",
            "Se ordena arreglo por la derecha del pivote:  [49, 93, 37]\n",
            "Se procede a buscar el pivote del arreglo.\n",
            "Pivote al final del arreglo:  15\n",
            "Puntero al inicio del arreglo:  49\n",
            "\n",
            "Intercambio de datos del índice (49) puntero con el del pivote: \n",
            "[7, 15, 93, 37, 49]\n",
            "\n",
            "Se ordena arreglo por la izquierda del pivote:  []\n",
            "Se ordena arreglo por la derecha del pivote:  [93, 37]\n",
            "Se procede a buscar el pivote del arreglo.\n",
            "Pivote al final del arreglo:  49\n",
            "Puntero al inicio del arreglo:  93\n",
            "\n",
            "37 menor que 49, se produce cambio con 93: \n",
            "[7, 15, 37, 93, 49]\n",
            "Intercambio de datos del índice (93) puntero con el del pivote: \n",
            "[7, 15, 37, 49, 93]\n",
            "\n",
            "Se ordena arreglo por la izquierda del pivote:  []\n",
            "Se ordena arreglo por la derecha del pivote:  []\n",
            "\n",
            "Output array:  [7, 15, 37, 49, 93]\n"
          ]
        }
      ]
    },
    {
      "cell_type": "markdown",
      "source": [
        "#3. Tiempo de ejecución\n"
      ],
      "metadata": {
        "id": "CstLBUf8Vs5s"
      }
    },
    {
      "cell_type": "markdown",
      "source": [
        "##3.1 Teorema\n",
        "\n",
        "El algoritmo `QuickSort` tiene un tiempo de ejecución de $O(n^2)$ **en su peor caso** y $O(nlog(n))$ **en su mejor caso**.\n"
      ],
      "metadata": {
        "id": "KALZf74CV3Ti"
      }
    },
    {
      "cell_type": "markdown",
      "source": [
        "##3.2 Prueba del teorema (Método de sustitución/Teorema maestro)\n",
        "\n",
        "1. Tomando en cuenta la implementación de `Partition` utilizada en el ejemplo anterior, el peor caso se lleva a cabo cuando el arreglo de entrada ya viene ordenado de menor a mayor.\n",
        "La fórmula de recursión en este caso es:\n",
        "\n",
        "$T(n) = T(0) + T(n-1) + O(n)$\n",
        "\n",
        "Para resolver esta ecuación, se empleará el método de la **sustitución iterativa**, también conocido como *Plug and Chug*:\n",
        "\n",
        "\n",
        "![image](https://lh3.googleusercontent.com/bUiQ1Mi_u14l7Wi5iZybx_98D-2oQhJGsf7UTXAeGmQygcFIgp_uwRKxTdr5nFgTp13pv7Q6XlJ6J1SS-WUvo3_0m9fqllkpsDIKOqmOOVbvdk-hi7xfAddALEh3BgTE_l7Tz_GuR0RvkBDHOOcM_dRTkn_UgTrPhPXgimX24SnrRSkcIKq0k4LK42Ew5MvklB-CRp0GEi_XVHlvDiJJgEuVsMEMJbG5L5IPYlbCPW1olcGauuUVNblgdyozZDh1OlRuQAtskhfiKiok5UycK2-cFF7ngBFsjHldSABoGzgG61vZXwemPAapleX6dsYiKvL-gdOuLrKsYwP-aoNwIgt7RTC4uWmB7A2kM4AfPKVzZIO_DAAPleALssPJUFe_zyVwq-aZ5hrzXVS1QP1FhejlZ_n49uSObiu6Ra9x2eEO_A_LBm9rywkmuD8CGNammD2Juaq6nvCx-D_r6BqbZ-Flcf2G9loHH-_JMvGy9rh5l7WBE5B-Ub9a6pDkaJueUbhsqIGzLo4tlp_zelQ88-063wh4aV_Gt2wQP9XNp0qRs4DBiBwSf8oZggg0ieb_LkIChetXClHkzQoovDn2CrSY7uOm7ITb3_bJD4hPz1JR1jBoin103GdSlor8bwdrAdjAq27KxroHHCvx9h-waJRSJnajDpKPaX6NlZUSl_b3RFlrj6_VKjLhxrn9WaE9ZhK-DAQ7KY_xesLTjh5hhr2eAsSuSVUDa4yOPc2ohLqOegVVeSLqolKY-Jzvx-EyWpLJ-yXJPdcyGiVdhf5sJTJzQ2VQ7CWVyeZWTZa5CKSv4Lzmq2366Q7RsONX0ozTED-4Qcb0y53xnmuU6V39OOc1LqEExxyKEkMPJ7BFzW0=w866-h649-no?authuser=1)\n",
        "\n",
        "Gracias al desarrollo matemático de la expresión resultante de la sustitución iterativa, podemos concluir que el tiempo de ejecución para este caso es $O(n^2)$.\n",
        "\n",
        "\n",
        "2. Para el mejor caso, este sucede cuando siempre se elige el elemento del medio del arreglo como pivote. La fórmula de recursión en este caso es:\n",
        "\n",
        "$T(n) = 2T(n/2) + O(n)$\n",
        "\n",
        "donde $a = 2, b = 2, d = 1$\n",
        "\n",
        "![image](https://chartreuse-goal-d5c.notion.site/image/https%3A%2F%2Fs3-us-west-2.amazonaws.com%2Fsecure.notion-static.com%2F6be820c4-964e-44c1-acbd-db888889e8df%2FUntitled.png?table=block&id=1f05807a-07c4-4bd5-a59a-4402523d7383&spaceId=4f8bebe4-a843-44d2-b6ee-51e2006a90d1&width=2000&userId=&cache=v2)\n",
        "\n",
        "A través del uso del teorema maestro, podemos dar con la conclusión de que el tiempo de ejecución para este caso es $O(n log(n))$."
      ],
      "metadata": {
        "id": "svcQ3DdaWWOG"
      }
    },
    {
      "cell_type": "markdown",
      "source": [
        "#4. Correctitud\n",
        "\n",
        "\n"
      ],
      "metadata": {
        "id": "RMqk-HRpOEWf"
      }
    },
    {
      "cell_type": "markdown",
      "source": [
        "##4.1 Teorema (Correctitud del algoritmo Partition)\n",
        "\n",
        "*El algoritmo Partition retorna un recibe un arreglo A[p..r], lo reorganiza y retorna un índice q de tal forma que los elementos del arreglo $A[p..q-1]$ son menores o iguales a $A[q]$ y los elementos del arreglo $A[q+1..r]$ son mayores a $A[q]$*."
      ],
      "metadata": {
        "id": "UZ8i2rj6QQus"
      }
    },
    {
      "cell_type": "markdown",
      "source": [
        "###Prueba del Teorema 1\n",
        "\n",
        "Para probar la correctitud de este algoritmo, vamos a emplear la siguiente **propiedad de bucle invariante**:\n",
        "\n",
        "> Al comienzo de cada iteración, se cumple para cualquier índice `k`entre `p` y `j`, con `p` el inicio del arreglo y `j` el final del mismo:\n",
        "> * Entre $[p,...,i]$, los elementos son menores al pivote.\n",
        "> * Entre $[i,...,j]$, los elementos son mayores o iguales al pivote.\n",
        "\n",
        "**Inicialización**\n",
        "\n",
        "Antes de la primera iteración $(m=1)$, se tiene que los arreglos $A[p,...,i]$ y $A[i,...,j]$ formados por `p`, `i` y `j` se encuentran vacíos, debido a que los tres índices se encuentran al inicio del arreglo. Esto es trivialmente cierto.\n",
        "\n",
        "![array4.png](data:image/png;base64,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)\n",
        " \n",
        " \n",
        "**Mantención**\n",
        "\n",
        "Durante la m-ésima iteración, se va analizando y comparando el valor del arreglo en el índice `j` con el del pivote. Si dicho valor resulta ser menor, se intercambian los valores de $A[j]$ y $A[i]$ en aquella instancia, y luego `i` y `j` aumentan de manera que se cumpla la condición de la propiedad. Si el valor es mayor al pivote, sólo aumenta `j` para evaluar la siguiente posición del arreglo.\n",
        "\n",
        "![array4 (3).png](data:image/png;base64,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)\n",
        "\n",
        "Esto sucede con cada m-iteración hasta llegar a la posición anterior al pivote, es decir, la penúltima posición del arreglo.\n",
        "\n",
        "![array4 (1).png](data:image/png;base64,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)\n",
        "\n",
        "**Correctitud**\n",
        "\n",
        "Tras verificar que la propiedad empleada se cumple tanto antes como durante la ejecución del ciclo, se puede afirmar que **Partition es correcto**.\n"
      ],
      "metadata": {
        "id": "6VADzU8eRYr8"
      }
    },
    {
      "cell_type": "markdown",
      "source": [
        "##4.2 Teorema 2 (Correctitud del algoritmo QuickSort)"
      ],
      "metadata": {
        "id": "HXhqfF0JTI0Y"
      }
    },
    {
      "cell_type": "markdown",
      "source": [
        "###Prueba del teorema 2\n",
        "\n",
        "*El algoritmo QuickSort genera un arreglo:  [a′1,a′2,...,a′n] , con los mismos elementos del arreglo de entrada ordenados de menor a mayor, es decir, $a′1≤a′2≤...≤a′n$*.\n",
        "\n",
        "Para probar la correctitud de `QuickSort`, vamos a emplear la siguiente hipótesis $P(n)$:\n",
        "\n",
        "> $QuickSort$ retorna un arreglo con la secuencia de $n$ elementos de entrada ordenados de menor a mayor.\n",
        "\n",
        "**Caso base $(n = 1)$**\n",
        "\n",
        "Para este caso, al ver que nuestro arreglo contiene solamente un elemento, técnicamente ya se encuentra ordenado de menor a mayor y el algoritmo lo retorna, esto es trivialmente cierto.\n",
        "\n",
        "**Caso inductivo $(m < n)$**\n",
        "\n",
        "Para un arreglo $A$ de $n$ elementos, nuestro algoritmo busca su pivote `q` con la función `Partition`. Como en el teorema 1 se comprobó que `Partition` es correcta, esta siempre retornará el índice del pivote de forma que todo elemento en $A[0,...,q-1]$ sea menor a $A[q]$ y todo elemento en $A[q+1,...,n-1]$ mayor o igual al mismo.\n",
        "\n",
        "\n",
        "Luego, `QuickSort` se llama a sí mismo con cada partición. Como el tamaño de estas particiones es menor a n, mediante inducción podemos deducir que son ordenados de manera correcta, comprobando así que **QuickSort es correcto**."
      ],
      "metadata": {
        "id": "pf1HDr3YTKl6"
      }
    },
    {
      "cell_type": "markdown",
      "source": [
        "#5. Experimentos"
      ],
      "metadata": {
        "id": "YKKKCydzOvUz"
      }
    },
    {
      "cell_type": "markdown",
      "source": [
        "##5.1 Número de comparaciones\n",
        "\n",
        "A continuación se muestra gráficamente una comparación entre:\n",
        "\n",
        "* cantidad de comparaciones del peor caso calculadas matemáticamente,\n",
        "* cantidad de comparaciones del mejor caso calculadas matemáticamente,\n",
        "* cantidad de comparaciones realizadas experimentalmente para entradas aleatorias.\n",
        "\n",
        "Se tomarán en cuenta tamaños de problemas con $n \\in [10,29]$.\n",
        "\n",
        "Los arreglos de entrada son generados aleatoriamente haciendo un sampling de un conjunto de números entre 1 y 100."
      ],
      "metadata": {
        "id": "-uh02qV5ld7n"
      }
    },
    {
      "cell_type": "code",
      "source": [
        "import math\n",
        "import matplotlib.pyplot as plt\n",
        "\n",
        "opt = 2\n",
        "x=[n for n in range(10,30)] #Caso promedio\n",
        "y1=[(n**2) for n in range(10,30)] # Peor caso\n",
        "y2=[(n * math.log2(n)) for n in range(10,30)] # Mejor caso\n",
        "y=[]; \n",
        "\n",
        "for n in range(10,30):\n",
        "  comp2 = 0\n",
        "  a = random.sample(range(1, 100), n)\n",
        "  a = quickSort(a,0,len(a)-1,verb)\n",
        "  y.append(comp2)\n",
        "\n",
        "plt.plot(x,y)\n",
        "plt.plot(x,y1)\n",
        "plt.plot(x,y2)\n",
        "plt.legend([\"QuickSort\", \"Peor caso teórico\", \"Mejor caso teórico\"])\n",
        "\n",
        "plt.xlabel('n')\n",
        "plt.ylabel('Número de comparaciones')\n",
        "plt.show()"
      ],
      "metadata": {
        "colab": {
          "base_uri": "https://localhost:8080/",
          "height": 279
        },
        "id": "aWGLyz2jlwck",
        "outputId": "97b734cb-a8e8-4338-c38e-9874a4e9ca08"
      },
      "execution_count": 97,
      "outputs": [
        {
          "output_type": "display_data",
          "data": {
            "text/plain": [
              "<Figure size 432x288 with 1 Axes>"
            ],
            "image/png": "[encoded data removed]"
          },
          "metadata": {
            "needs_background": "light"
          }
        }
      ]
    },
    {
      "cell_type": "markdown",
      "source": [
        "#Análisis de resultados\n",
        "\n",
        "Como podemos ver y era de esperarse, la curva del mejor caso muestra un comportamiento de crecimiento logarítmico conforme aumenta el tamaño $n$ del arreglo, mientras que el peor caso crece de manera cuadrática.\n",
        " \n",
        "No obstante, nótese cómo la curva del caso promedio está incluso por debajo de la del mejor. Posiblemente esto se deba a la naturaleza aleatoria de tanto el arreglo en sí, como el de su pivote (podría ser o no el mayor elemento), por lo que el algoritmo no sigue un patrón estricto de ordenamiento como lo harían otros con la misma finalidad, sino que más bien dicho es arbitrario."
      ],
      "metadata": {
        "id": "LdxCTt0ZleCJ"
      }
    },
    {
      "cell_type": "markdown",
      "source": [
        "##5.2 Tiempo de ejecución (QuickSort vs MergeSort)\n",
        "\n",
        "El siguiente gráfico mostrará la comparación de tiempos de ejecución del algoritmo `QuickSort` frente al de `MergeSort`, en función del tamaño del problema para arreglos generados aleatoriamente de tamaños entre 5 y 500."
      ],
      "metadata": {
        "id": "OhI2pD2nD1zN"
      }
    },
    {
      "cell_type": "code",
      "source": [
        "import matplotlib.pyplot as plt\n",
        "import datetime\n",
        "from timeit import repeat\n",
        "\n",
        "recCalls = 0 #Contador de llamadas recursivas de mergeSort a sí misma.\n",
        "comp = 0 #Contador de comparaciones de subarreglos en merge.\n",
        "\n",
        "def mergeSort(arr, verbose = False):\n",
        "  global recCalls\n",
        "  length = len(arr) #Largo de arreglo\n",
        "  if length == 1:\n",
        "    if verbose == True:\n",
        "      print(\"Se retorna arreglo de una sola posición, \", arr)\n",
        "    return arr\n",
        "  \n",
        "  if length > 1:\n",
        "  \n",
        "    mid = length // 2 #Posicion media del arreglo.\n",
        "\n",
        "    recCalls+=1\n",
        "    if verbose == True: print(\"Se divide el arreglo: \", arr[:mid], arr[mid:])\n",
        "    particion_izq = mergeSort(arr[:mid], verbose)\n",
        "    recCalls+=1\n",
        "    particion_der = mergeSort(arr[mid:], verbose)\n",
        "\n",
        "    arr_nuevo = merge(particion_izq, particion_der, verbose)\n",
        "    return arr_nuevo\n",
        "\n",
        "def merge(izq, der, verbose = False):\n",
        "  ordenado = [] #Arreglo que contiene a los subarreglos de entrada mezclados y ordenados de menor a mayor.\n",
        "  i = k = 0 \n",
        "  global comp\n",
        "  \n",
        "  if verbose == True: \n",
        "    print(\"\")\n",
        "    print(\"Se procede a mezclar y ordenar subarreglos.\")\n",
        "  while i < len(izq) and k < len(der):\n",
        "    if izq[i] < der[k]:\n",
        "      ordenado.append(izq[i])\n",
        "      i+=1\n",
        "    else:\n",
        "      ordenado.append(der[k])\n",
        "      k+=1\n",
        "    comp+=1\n",
        "  \n",
        "  if i >= len(izq) and k < len(der): #Casos de arreglos restantes.\n",
        "    while(k < len(der)):\n",
        "      ordenado.append(der[k])\n",
        "      k+=1\n",
        "      comp+=1\n",
        "  else:\n",
        "    while(i < len(izq)):\n",
        "      ordenado.append(izq[i])\n",
        "      i+=1\n",
        "      comp+=1\n",
        "\n",
        "  if verbose == True: print(ordenado)\n",
        "\n",
        "  return ordenado\n",
        "\n",
        "x1=[]; x2=[];y1=[]; y2=[]\n",
        "\n",
        "for n in range(5,500):\n",
        "\n",
        "  a = random.sample(range(-500, 500), n)\n",
        "\n",
        "  #la función repeat está ejecutando 20 veces maxSubArray con el arreglo a y retorna el mejor tiempo obtenido.\n",
        "  t = repeat(setup=\"from __main__ import quickSort\", stmt=f\"quickSort({a},{0},{len(a)-1},{verb})\", repeat=1, number=10)\n",
        "\n",
        "  x1.append(n)\n",
        "  y1.append(t)\n",
        "\n",
        "for n in range(5,500):\n",
        "\n",
        "  arr = random.sample(range(-500, 500), n)\n",
        "\n",
        "  #la función repeat está ejecutando 20 veces maxSubArrayKadane con el arreglo arr y retorna el mejor tiempo obtenido.\n",
        "  time = repeat(setup=\"from __main__ import mergeSort\", stmt=f\"mergeSort({arr})\", repeat=1, number=10)\n",
        "\n",
        "  x2.append(n)\n",
        "  y2.append(time)\n",
        "\n",
        "\n",
        "plt.plot(x1,y1)\n",
        "plt.plot(x2,y2)\n",
        "plt.legend([\"QuickSort\", \"MergeSort\"])\n",
        "\n",
        "plt.xlabel('n')\n",
        "plt.ylabel('time in ms')\n",
        "plt.show()"
      ],
      "metadata": {
        "colab": {
          "base_uri": "https://localhost:8080/",
          "height": 280
        },
        "id": "UhhVle1FD1D-",
        "outputId": "dcb43cea-ad0f-41db-8af2-afa7072bc0ba"
      },
      "execution_count": 104,
      "outputs": [
        {
          "output_type": "display_data",
          "data": {
            "text/plain": [
              "<Figure size 432x288 with 1 Axes>"
            ],
            "image/png": "[encoded data removed]"
          },
          "metadata": {
            "needs_background": "light"
          }
        }
      ]
    },
    {
      "cell_type": "markdown",
      "source": [
        "#Análisis de resultados\n",
        "\n",
        "Como se puede ver en la gráfica y pese a que en ciertas instancias sean muy cercanas, la curva de tiempo de QuickSort indica que es generalmente más rapido que el algoritmo de MergeSort.\n",
        "\n",
        "Esto es debido principalmente a la implementación en cada caso. Mientras MergeSort funciona de manera que se generan subarreglos los cuales se toman sus propios arreglos **(poseen sus propios tiempos de ejecución)** para luego ser unidos y ordenados, QuickSort trabaja únicamente sobre el arreglo original, creando particiones que se toman como secciones del mismo y utilizando punteros para recorrerlos. "
      ],
      "metadata": {
        "id": "v0eL_gUkGV-f"
      }
    },
    {
      "cell_type": "markdown",
      "source": [
        "##5.3 Tiempo de ejecución (Pivote inicio vs final vs mediana)\n",
        "\n",
        "El siguiente gráfico mostrará la comparación de tiempos de ejecución del algoritmo `QuickSort`, con su función `Partition` implementada de tres distintas formas:\n",
        "\n",
        "* Seleccionando como pivote el primer elemento del arreglo.\n",
        "* Seleccionando como pivote el último elemento del arreglo.\n",
        "* Seleccionando como pivote la mediana de tres elementos al azar del arreglo.\n",
        "\n",
        "Todo esto, en función del tamaño del problema para arreglos generados aleatoriamente de tamaños entre 5 y 500."
      ],
      "metadata": {
        "id": "IIdFKzP-Mzz8"
      }
    },
    {
      "cell_type": "code",
      "source": [
        "import matplotlib.pyplot as plt\n",
        "import datetime\n",
        "from timeit import repeat\n",
        "\n",
        "x1=[] \n",
        "x2=[]\n",
        "y1=[] \n",
        "y2=[]\n",
        "x3=[]\n",
        "y3=[]\n",
        "\n",
        "for n in range(5,500): #Pivotes es inicio del arreglo\n",
        "  opt = 1\n",
        "  a = random.sample(range(-500, 500), n)\n",
        "\n",
        "  #la función repeat está ejecutando 20 veces maxSubArray con el arreglo a y retorna el mejor tiempo obtenido.\n",
        "  t = repeat(setup=\"from __main__ import quickSort\", stmt=f\"quickSort({a},{0},{len(a)-1},{verb})\", repeat=1, number=10)\n",
        "\n",
        "  x1.append(n)\n",
        "  y1.append(t)\n",
        "\n",
        "for n in range(5,500): #Pivote es final del arreglo\n",
        "  opt = 2\n",
        "  a = random.sample(range(-500, 500), n)\n",
        "\n",
        "  #la función repeat está ejecutando 20 veces maxSubArray con el arreglo a y retorna el mejor tiempo obtenido.\n",
        "  t = repeat(setup=\"from __main__ import quickSort\", stmt=f\"quickSort({a},{0},{len(a)-1},{verb})\", repeat=1, number=10)\n",
        "\n",
        "  x2.append(n)\n",
        "  y2.append(t)\n",
        "\n",
        "for n in range(5,500): #Pivote es la mediana de 3 elementos\n",
        "  opt = 3\n",
        "\n",
        "  a = random.sample(range(-500, 500), n)\n",
        "\n",
        "  #la función repeat está ejecutando 20 veces maxSubArray con el arreglo a y retorna el mejor tiempo obtenido.\n",
        "  t = repeat(setup=\"from __main__ import quickSort\", stmt=f\"quickSort({a},{0},{len(a)-1},{verb})\", repeat=1, number=10)\n",
        "\n",
        "  x3.append(n)\n",
        "  y3.append(t)\n",
        "\n",
        "\n",
        "\n",
        "plt.plot(x1,y1)\n",
        "plt.plot(x2,y2)\n",
        "plt.plot(x3,y3)\n",
        "plt.legend([\"Inicio del arreglo\", \"Final del arreglo\", \"Mediana de 3 elementos\"])\n",
        "\n",
        "plt.xlabel('n')\n",
        "plt.ylabel('time in ms')\n",
        "plt.show()"
      ],
      "metadata": {
        "colab": {
          "base_uri": "https://localhost:8080/",
          "height": 279
        },
        "id": "PI3Y6NwwM0w1",
        "outputId": "833a4e15-3765-40fc-b8ec-d4b3622ed811"
      },
      "execution_count": 118,
      "outputs": [
        {
          "output_type": "display_data",
          "data": {
            "text/plain": [
              "<Figure size 432x288 with 1 Axes>"
            ],
            "image/png": "[encoded data removed]"
          },
          "metadata": {
            "needs_background": "light"
          }
        }
      ]
    },
    {
      "cell_type": "markdown",
      "source": [
        "#Analisis de resultados\n",
        "\n",
        "Por lo visto a partir de la gráfica, podemos apreciar que la selección del pivote como la mediana de 3 elementos del arreglo al azar posee el peor rendimiento en general, principalmente por la función adicional de hallar la mediana que conlleva, lo cual implica un mayor tiempo de ejecución.\n",
        "\n",
        "Por otro lado, los casos del pivote como el inicio y el final del arreglo (respectivamente) poseen los mejores tiempos de ejecución, con el último como el más rápido. Posiblemente esto se debe a las diferencias de implementación de algoritmo entre ambos casos, lo cual genera una cierta desigualdad entre tiempos de ejecución."
      ],
      "metadata": {
        "id": "Bd05vXXDPO9n"
      }
    }
  ]
}